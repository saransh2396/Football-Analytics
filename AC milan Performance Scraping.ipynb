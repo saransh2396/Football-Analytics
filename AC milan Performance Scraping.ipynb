{
 "cells": [
  {
   "cell_type": "code",
   "execution_count": 1,
   "metadata": {},
   "outputs": [],
   "source": [
    "#Load Libraries\n",
    "import json\n",
    "import pandas as pd\n",
    "from bs4 import BeautifulSoup\n",
    "from urllib.request import urlopen"
   ]
  },
  {
   "cell_type": "code",
   "execution_count": 2,
   "metadata": {},
   "outputs": [],
   "source": [
    "#Url\n",
    "scrape_url = \"https://understat.com/team/AC_Milan/2021\""
   ]
  },
  {
   "cell_type": "code",
   "execution_count": 3,
   "metadata": {},
   "outputs": [],
   "source": [
    "#Connecting the url\n",
    "page_connect = urlopen(scrape_url)"
   ]
  },
  {
   "cell_type": "code",
   "execution_count": 4,
   "metadata": {},
   "outputs": [],
   "source": [
    "page_html = BeautifulSoup(page_connect,\"html.parser\") #If Connection error,execute again"
   ]
  },
  {
   "cell_type": "code",
   "execution_count": 5,
   "metadata": {},
   "outputs": [
    {
     "data": {
      "text/plain": [
       "[<script>\n",
       " \t\t\tvar THEME = localStorage.getItem(\"theme\") || 'DARK';\n",
       " \t\t\tdocument.body.className = \"theme-\" + THEME.toLowerCase();\n",
       " \t\t</script>,\n",
       " <script>\n",
       " \tvar datesData \t= JSON.parse('\\x5B\\x7B\\x22id\\x22\\x3A\\x2216765\\x22,\\x22isResult\\x22\\x3Atrue,\\x22side\\x22\\x3A\\x22a\\x22,\\x22h\\x22\\x3A\\x7B\\x22id\\x22\\x3A\\x22102\\x22,\\x22title\\x22\\x3A\\x22Sampdoria\\x22,\\x22short_title\\x22\\x3A\\x22SAM\\x22\\x7D,\\x22a\\x22\\x3A\\x7B\\x22id\\x22\\x3A\\x22111\\x22,\\x22title\\x22\\x3A\\x22AC\\x20Milan\\x22,\\x22short_title\\x22\\x3A\\x22MIL\\x22\\x7D,\\x22goals\\x22\\x3A\\x7B\\x22h\\x22\\x3A\\x220\\x22,\\x22a\\x22\\x3A\\x221\\x22\\x7D,\\x22xG\\x22\\x3A\\x7B\\x22h\\x22\\x3A\\x221.24757\\x22,\\x22a\\x22\\x3A\\x220.804449\\x22\\x7D,\\x22datetime\\x22\\x3A\\x222021\\x2D08\\x2D23\\x2018\\x3A45\\x3A00\\x22,\\x22forecast\\x22\\x3A\\x7B\\x22w\\x22\\x3A0.46693573122173093192799342432408593595027923583984375,\\x22d\\x22\\x3A0.293607870230256640109445243069785647094249725341796875,\\x22l\\x22\\x3A0.23945639854142608538012382268789224326610565185546875\\x7D,\\x22result\\x22\\x3A\\x22w\\x22\\x7D,\\x7B\\x22id\\x22\\x3A\\x2216774\\x22,\\x22isResult\\x22\\x3Atrue,\\x22side\\x22\\x3A\\x22h\\x22,\\x22h\\x22\\x3A\\x7B\\x22id\\x22\\x3A\\x22111\\x22,\\x22title\\x22\\x3A\\x22AC\\x20Milan\\x22,\\x22short_title\\x22\\x3A\\x22MIL\\x22\\x7D,\\x22a\\x22\\x3A\\x7B\\x22id\\x22\\x3A\\x22116\\x22,\\x22title\\x22\\x3A\\x22Cagliari\\x22,\\x22short_title\\x22\\x3A\\x22CAG\\x22\\x7D,\\x22goals\\x22\\x3A\\x7B\\x22h\\x22\\x3A\\x224\\x22,\\x22a\\x22\\x3A\\x221\\x22\\x7D,\\x22xG\\x22\\x3A\\x7B\\x22h\\x22\\x3A\\x222.67169\\x22,\\x22a\\x22\\x3A\\x220.406709\\x22\\x7D,\\x22datetime\\x22\\x3A\\x222021\\x2D08\\x2D29\\x2018\\x3A45\\x3A00\\x22,\\x22forecast\\x22\\x3A\\x7B\\x22w\\x22\\x3A0.85156032592114272450345424658735282719135284423828125,\\x22d\\x22\\x3A0.1113969214965375986725604207094875164330005645751953125,\\x22l\\x22\\x3A0.037042592863108882161871093785521225072443485260009765625\\x7D,\\x22result\\x22\\x3A\\x22w\\x22\\x7D,\\x7B\\x22id\\x22\\x3A\\x2216780\\x22,\\x22isResult\\x22\\x3Atrue,\\x22side\\x22\\x3A\\x22h\\x22,\\x22h\\x22\\x3A\\x7B\\x22id\\x22\\x3A\\x22111\\x22,\\x22title\\x22\\x3A\\x22AC\\x20Milan\\x22,\\x22short_title\\x22\\x3A\\x22MIL\\x22\\x7D,\\x22a\\x22\\x3A\\x7B\\x22id\\x22\\x3A\\x2296\\x22,\\x22title\\x22\\x3A\\x22Lazio\\x22,\\x22short_title\\x22\\x3A\\x22LAZ\\x22\\x7D,\\x22goals\\x22\\x3A\\x7B\\x22h\\x22\\x3A\\x222\\x22,\\x22a\\x22\\x3A\\x220\\x22\\x7D,\\x22xG\\x22\\x3A\\x7B\\x22h\\x22\\x3A\\x223.47807\\x22,\\x22a\\x22\\x3A\\x220.24655\\x22\\x7D,\\x22datetime\\x22\\x3A\\x222021\\x2D09\\x2D12\\x2016\\x3A00\\x3A00\\x22,\\x22forecast\\x22\\x3A\\x7B\\x22w\\x22\\x3A0.94037360868236985478318956666043959558010101318359375,\\x22d\\x22\\x3A0.0496880051420471868794948022696189582347869873046875,\\x22l\\x22\\x3A0.0099344263660004240856782331547947251237928867340087890625\\x7D,\\x22result\\x22\\x3A\\x22w\\x22\\x7D,\\x7B\\x22id\\x22\\x3A\\x2216790\\x22,\\x22isResult\\x22\\x3Atrue,\\x22side\\x22\\x3A\\x22a\\x22,\\x22h\\x22\\x3A\\x7B\\x22id\\x22\\x3A\\x2298\\x22,\\x22title\\x22\\x3A\\x22Juventus\\x22,\\x22short_title\\x22\\x3A\\x22JUV\\x22\\x7D,\\x22a\\x22\\x3A\\x7B\\x22id\\x22\\x3A\\x22111\\x22,\\x22title\\x22\\x3A\\x22AC\\x20Milan\\x22,\\x22short_title\\x22\\x3A\\x22MIL\\x22\\x7D,\\x22goals\\x22\\x3A\\x7B\\x22h\\x22\\x3A\\x221\\x22,\\x22a\\x22\\x3A\\x221\\x22\\x7D,\\x22xG\\x22\\x3A\\x7B\\x22h\\x22\\x3A\\x221.31518\\x22,\\x22a\\x22\\x3A\\x221.04896\\x22\\x7D,\\x22datetime\\x22\\x3A\\x222021\\x2D09\\x2D19\\x2018\\x3A45\\x3A00\\x22,\\x22forecast\\x22\\x3A\\x7B\\x22w\\x22\\x3A0.426796654971813793633117484205286018550395965576171875,\\x22d\\x22\\x3A0.27597454999732262681533256909460760653018951416015625,\\x22l\\x22\\x3A0.29722879501665711021729521235101856291294097900390625\\x7D,\\x22result\\x22\\x3A\\x22d\\x22\\x7D,\\x7B\\x22id\\x22\\x3A\\x2216800\\x22,\\x22isResult\\x22\\x3Atrue,\\x22side\\x22\\x3A\\x22h\\x22,\\x22h\\x22\\x3A\\x7B\\x22id\\x22\\x3A\\x22111\\x22,\\x22title\\x22\\x3A\\x22AC\\x20Milan\\x22,\\x22short_title\\x22\\x3A\\x22MIL\\x22\\x7D,\\x22a\\x22\\x3A\\x7B\\x22id\\x22\\x3A\\x22265\\x22,\\x22title\\x22\\x3A\\x22Venezia\\x22,\\x22short_title\\x22\\x3A\\x22VEN\\x22\\x7D,\\x22goals\\x22\\x3A\\x7B\\x22h\\x22\\x3A\\x222\\x22,\\x22a\\x22\\x3A\\x220\\x22\\x7D,\\x22xG\\x22\\x3A\\x7B\\x22h\\x22\\x3A\\x222.11409\\x22,\\x22a\\x22\\x3A\\x220.581225\\x22\\x7D,\\x22datetime\\x22\\x3A\\x222021\\x2D09\\x2D22\\x2018\\x3A45\\x3A00\\x22,\\x22forecast\\x22\\x3A\\x7B\\x22w\\x22\\x3A0.73113953132952136382272101400303654372692108154296875,\\x22d\\x22\\x3A0.179735781521467130605884676697314716875553131103515625,\\x22l\\x22\\x3A0.08912467914718676109675499219520133920013904571533203125\\x7D,\\x22result\\x22\\x3A\\x22w\\x22\\x7D,\\x7B\\x22id\\x22\\x3A\\x2216812\\x22,\\x22isResult\\x22\\x3Atrue,\\x22side\\x22\\x3A\\x22a\\x22,\\x22h\\x22\\x3A\\x7B\\x22id\\x22\\x3A\\x22260\\x22,\\x22title\\x22\\x3A\\x22Spezia\\x22,\\x22short_title\\x22\\x3A\\x22SPE\\x22\\x7D,\\x22a\\x22\\x3A\\x7B\\x22id\\x22\\x3A\\x22111\\x22,\\x22title\\x22\\x3A\\x22AC\\x20Milan\\x22,\\x22short_title\\x22\\x3A\\x22MIL\\x22\\x7D,\\x22goals\\x22\\x3A\\x7B\\x22h\\x22\\x3A\\x221\\x22,\\x22a\\x22\\x3A\\x222\\x22\\x7D,\\x22xG\\x22\\x3A\\x7B\\x22h\\x22\\x3A\\x220.953769\\x22,\\x22a\\x22\\x3A\\x221.74102\\x22\\x7D,\\x22datetime\\x22\\x3A\\x222021\\x2D09\\x2D25\\x2013\\x3A00\\x3A00\\x22,\\x22forecast\\x22\\x3A\\x7B\\x22w\\x22\\x3A0.205117155428797659499906558266957290470600128173828125,\\x22d\\x22\\x3A0.2358520805387576413369998817870509810745716094970703125,\\x22l\\x22\\x3A0.5590307634169684458669280502363108098506927490234375\\x7D,\\x22result\\x22\\x3A\\x22w\\x22\\x7D,\\x7B\\x22id\\x22\\x3A\\x2216816\\x22,\\x22isResult\\x22\\x3Atrue,\\x22side\\x22\\x3A\\x22a\\x22,\\x22h\\x22\\x3A\\x7B\\x22id\\x22\\x3A\\x22107\\x22,\\x22title\\x22\\x3A\\x22Atalanta\\x22,\\x22short_title\\x22\\x3A\\x22ATA\\x22\\x7D,\\x22a\\x22\\x3A\\x7B\\x22id\\x22\\x3A\\x22111\\x22,\\x22title\\x22\\x3A\\x22AC\\x20Milan\\x22,\\x22short_title\\x22\\x3A\\x22MIL\\x22\\x7D,\\x22goals\\x22\\x3A\\x7B\\x22h\\x22\\x3A\\x222\\x22,\\x22a\\x22\\x3A\\x223\\x22\\x7D,\\x22xG\\x22\\x3A\\x7B\\x22h\\x22\\x3A\\x222.63096\\x22,\\x22a\\x22\\x3A\\x222.50955\\x22\\x7D,\\x22datetime\\x22\\x3A\\x222021\\x2D10\\x2D03\\x2018\\x3A45\\x3A00\\x22,\\x22forecast\\x22\\x3A\\x7B\\x22w\\x22\\x3A0.430503238808856159014482045677141286432743072509765625,\\x22d\\x22\\x3A0.180619931661990251736682466798811219632625579833984375,\\x22l\\x22\\x3A0.38887662522368293682717421688721515238285064697265625\\x7D,\\x22result\\x22\\x3A\\x22w\\x22\\x7D,\\x7B\\x22id\\x22\\x3A\\x2216831\\x22,\\x22isResult\\x22\\x3Atrue,\\x22side\\x22\\x3A\\x22h\\x22,\\x22h\\x22\\x3A\\x7B\\x22id\\x22\\x3A\\x22111\\x22,\\x22title\\x22\\x3A\\x22AC\\x20Milan\\x22,\\x22short_title\\x22\\x3A\\x22MIL\\x22\\x7D,\\x22a\\x22\\x3A\\x7B\\x22id\\x22\\x3A\\x2294\\x22,\\x22title\\x22\\x3A\\x22Verona\\x22,\\x22short_title\\x22\\x3A\\x22VER\\x22\\x7D,\\x22goals\\x22\\x3A\\x7B\\x22h\\x22\\x3A\\x223\\x22,\\x22a\\x22\\x3A\\x222\\x22\\x7D,\\x22xG\\x22\\x3A\\x7B\\x22h\\x22\\x3A\\x221.51852\\x22,\\x22a\\x22\\x3A\\x221.58319\\x22\\x7D,\\x22datetime\\x22\\x3A\\x222021\\x2D10\\x2D16\\x2018\\x3A45\\x3A00\\x22,\\x22forecast\\x22\\x3A\\x7B\\x22w\\x22\\x3A0.366838208001744991992865152496960945427417755126953125,\\x22d\\x22\\x3A0.2383067191138863172295003778344835154712200164794921875,\\x22l\\x22\\x3A0.39485507261566776815442381121101789176464080810546875\\x7D,\\x22result\\x22\\x3A\\x22w\\x22\\x7D,\\x7B\\x22id\\x22\\x3A\\x2216837\\x22,\\x22isResult\\x22\\x3Atrue,\\x22side\\x22\\x3A\\x22a\\x22,\\x22h\\x22\\x3A\\x7B\\x22id\\x22\\x3A\\x2297\\x22,\\x22title\\x22\\x3A\\x22Bologna\\x22,\\x22short_title\\x22\\x3A\\x22BOL\\x22\\x7D,\\x22a\\x22\\x3A\\x7B\\x22id\\x22\\x3A\\x22111\\x22,\\x22title\\x22\\x3A\\x22AC\\x20Milan\\x22,\\x22short_title\\x22\\x3A\\x22MIL\\x22\\x7D,\\x22goals\\x22\\x3A\\x7B\\x22h\\x22\\x3A\\x222\\x22,\\x22a\\x22\\x3A\\x224\\x22\\x7D,\\x22xG\\x22\\x3A\\x7B\\x22h\\x22\\x3A\\x220.631007\\x22,\\x22a\\x22\\x3A\\x220.90866\\x22\\x7D,\\x22datetime\\x22\\x3A\\x222021\\x2D10\\x2D23\\x2018\\x3A45\\x3A00\\x22,\\x22forecast\\x22\\x3A\\x7B\\x22w\\x22\\x3A0.2416166343919854408994751793215982615947723388671875,\\x22d\\x22\\x3A0.35620290649811903183064032418769784271717071533203125,\\x22l\\x22\\x3A0.4021804591098174785912533479859121143817901611328125\\x7D,\\x22result\\x22\\x3A\\x22w\\x22\\x7D,\\x7B\\x22id\\x22\\x3A\\x2216850\\x22,\\x22isResult\\x22\\x3Atrue,\\x22side\\x22\\x3A\\x22h\\x22,\\x22h\\x22\\x3A\\x7B\\x22id\\x22\\x3A\\x22111\\x22,\\x22title\\x22\\x3A\\x22AC\\x20Milan\\x22,\\x22short_title\\x22\\x3A\\x22MIL\\x22\\x7D,\\x22a\\x22\\x3A\\x7B\\x22id\\x22\\x3A\\x22113\\x22,\\x22title\\x22\\x3A\\x22Torino\\x22,\\x22short_title\\x22\\x3A\\x22TOR\\x22\\x7D,\\x22goals\\x22\\x3A\\x7B\\x22h\\x22\\x3A\\x221\\x22,\\x22a\\x22\\x3A\\x220\\x22\\x7D,\\x22xG\\x22\\x3A\\x7B\\x22h\\x22\\x3A\\x221.12486\\x22,\\x22a\\x22\\x3A\\x220.488007\\x22\\x7D,\\x22datetime\\x22\\x3A\\x222021\\x2D10\\x2D26\\x2018\\x3A45\\x3A00\\x22,\\x22forecast\\x22\\x3A\\x7B\\x22w\\x22\\x3A0.51540204560934999022947522462345659732818603515625,\\x22d\\x22\\x3A0.32469054014295239962706318692653439939022064208984375,\\x22l\\x22\\x3A0.1599074142461383296609511717178975231945514678955078125\\x7D,\\x22result\\x22\\x3A\\x22w\\x22\\x7D,\\x7B\\x22id\\x22\\x3A\\x2216862\\x22,\\x22isResult\\x22\\x3Atrue,\\x22side\\x22\\x3A\\x22a\\x22,\\x22h\\x22\\x3A\\x7B\\x22id\\x22\\x3A\\x2295\\x22,\\x22title\\x22\\x3A\\x22Roma\\x22,\\x22short_title\\x22\\x3A\\x22ROM\\x22\\x7D,\\x22a\\x22\\x3A\\x7B\\x22id\\x22\\x3A\\x22111\\x22,\\x22title\\x22\\x3A\\x22AC\\x20Milan\\x22,\\x22short_title\\x22\\x3A\\x22MIL\\x22\\x7D,\\x22goals\\x22\\x3A\\x7B\\x22h\\x22\\x3A\\x221\\x22,\\x22a\\x22\\x3A\\x222\\x22\\x7D,\\x22xG\\x22\\x3A\\x7B\\x22h\\x22\\x3A\\x221.25894\\x22,\\x22a\\x22\\x3A\\x221.86101\\x22\\x7D,\\x22datetime\\x22\\x3A\\x222021\\x2D10\\x2D31\\x2019\\x3A45\\x3A00\\x22,\\x22forecast\\x22\\x3A\\x7B\\x22w\\x22\\x3A0.258413464746995946708096880684024654328823089599609375,\\x22d\\x22\\x3A0.2265368062478482491517439711969927884638309478759765625,\\x22l\\x22\\x3A0.5150497275022372090091948848566971719264984130859375\\x7D,\\x22result\\x22\\x3A\\x22w\\x22\\x7D,\\x7B\\x22id\\x22\\x3A\\x2216870\\x22,\\x22isResult\\x22\\x3Afalse,\\x22side\\x22\\x3A\\x22h\\x22,\\x22h\\x22\\x3A\\x7B\\x22id\\x22\\x3A\\x22111\\x22,\\x22title\\x22\\x3A\\x22AC\\x20Milan\\x22,\\x22short_title\\x22\\x3A\\x22MIL\\x22\\x7D,\\x22a\\x22\\x3A\\x7B\\x22id\\x22\\x3A\\x22106\\x22,\\x22title\\x22\\x3A\\x22Inter\\x22,\\x22short_title\\x22\\x3A\\x22INT\\x22\\x7D,\\x22goals\\x22\\x3A\\x7B\\x22h\\x22\\x3Anull,\\x22a\\x22\\x3Anull\\x7D,\\x22xG\\x22\\x3A\\x7B\\x22h\\x22\\x3Anull,\\x22a\\x22\\x3Anull\\x7D,\\x22datetime\\x22\\x3A\\x222021\\x2D11\\x2D07\\x2019\\x3A45\\x3A00\\x22\\x7D,\\x7B\\x22id\\x22\\x3A\\x2216878\\x22,\\x22isResult\\x22\\x3Afalse,\\x22side\\x22\\x3A\\x22a\\x22,\\x22h\\x22\\x3A\\x7B\\x22id\\x22\\x3A\\x22110\\x22,\\x22title\\x22\\x3A\\x22Fiorentina\\x22,\\x22short_title\\x22\\x3A\\x22FIO\\x22\\x7D,\\x22a\\x22\\x3A\\x7B\\x22id\\x22\\x3A\\x22111\\x22,\\x22title\\x22\\x3A\\x22AC\\x20Milan\\x22,\\x22short_title\\x22\\x3A\\x22MIL\\x22\\x7D,\\x22goals\\x22\\x3A\\x7B\\x22h\\x22\\x3Anull,\\x22a\\x22\\x3Anull\\x7D,\\x22xG\\x22\\x3A\\x7B\\x22h\\x22\\x3Anull,\\x22a\\x22\\x3Anull\\x7D,\\x22datetime\\x22\\x3A\\x222021\\x2D11\\x2D20\\x2019\\x3A45\\x3A00\\x22\\x7D,\\x7B\\x22id\\x22\\x3A\\x2216889\\x22,\\x22isResult\\x22\\x3Afalse,\\x22side\\x22\\x3A\\x22h\\x22,\\x22h\\x22\\x3A\\x7B\\x22id\\x22\\x3A\\x22111\\x22,\\x22title\\x22\\x3A\\x22AC\\x20Milan\\x22,\\x22short_title\\x22\\x3A\\x22MIL\\x22\\x7D,\\x22a\\x22\\x3A\\x7B\\x22id\\x22\\x3A\\x22104\\x22,\\x22title\\x22\\x3A\\x22Sassuolo\\x22,\\x22short_title\\x22\\x3A\\x22SAS\\x22\\x7D,\\x22goals\\x22\\x3A\\x7B\\x22h\\x22\\x3Anull,\\x22a\\x22\\x3Anull\\x7D,\\x22xG\\x22\\x3A\\x7B\\x22h\\x22\\x3Anull,\\x22a\\x22\\x3Anull\\x7D,\\x22datetime\\x22\\x3A\\x222021\\x2D11\\x2D28\\x2014\\x3A00\\x3A00\\x22\\x7D,\\x7B\\x22id\\x22\\x3A\\x2216899\\x22,\\x22isResult\\x22\\x3Afalse,\\x22side\\x22\\x3A\\x22a\\x22,\\x22h\\x22\\x3A\\x7B\\x22id\\x22\\x3A\\x22101\\x22,\\x22title\\x22\\x3A\\x22Genoa\\x22,\\x22short_title\\x22\\x3A\\x22GEN\\x22\\x7D,\\x22a\\x22\\x3A\\x7B\\x22id\\x22\\x3A\\x22111\\x22,\\x22title\\x22\\x3A\\x22AC\\x20Milan\\x22,\\x22short_title\\x22\\x3A\\x22MIL\\x22\\x7D,\\x22goals\\x22\\x3A\\x7B\\x22h\\x22\\x3Anull,\\x22a\\x22\\x3Anull\\x7D,\\x22xG\\x22\\x3A\\x7B\\x22h\\x22\\x3Anull,\\x22a\\x22\\x3Anull\\x7D,\\x22datetime\\x22\\x3A\\x222021\\x2D12\\x2D01\\x2012\\x3A00\\x3A00\\x22\\x7D,\\x7B\\x22id\\x22\\x3A\\x2216910\\x22,\\x22isResult\\x22\\x3Afalse,\\x22side\\x22\\x3A\\x22h\\x22,\\x22h\\x22\\x3A\\x7B\\x22id\\x22\\x3A\\x22111\\x22,\\x22title\\x22\\x3A\\x22AC\\x20Milan\\x22,\\x22short_title\\x22\\x3A\\x22MIL\\x22\\x7D,\\x22a\\x22\\x3A\\x7B\\x22id\\x22\\x3A\\x22264\\x22,\\x22title\\x22\\x3A\\x22Salernitana\\x22,\\x22short_title\\x22\\x3A\\x22SAL\\x22\\x7D,\\x22goals\\x22\\x3A\\x7B\\x22h\\x22\\x3Anull,\\x22a\\x22\\x3Anull\\x7D,\\x22xG\\x22\\x3A\\x7B\\x22h\\x22\\x3Anull,\\x22a\\x22\\x3Anull\\x7D,\\x22datetime\\x22\\x3A\\x222021\\x2D12\\x2D05\\x2008\\x3A00\\x3A00\\x22\\x7D,\\x7B\\x22id\\x22\\x3A\\x2216924\\x22,\\x22isResult\\x22\\x3Afalse,\\x22side\\x22\\x3A\\x22a\\x22,\\x22h\\x22\\x3A\\x7B\\x22id\\x22\\x3A\\x2299\\x22,\\x22title\\x22\\x3A\\x22Udinese\\x22,\\x22short_title\\x22\\x3A\\x22UDI\\x22\\x7D,\\x22a\\x22\\x3A\\x7B\\x22id\\x22\\x3A\\x22111\\x22,\\x22title\\x22\\x3A\\x22AC\\x20Milan\\x22,\\x22short_title\\x22\\x3A\\x22MIL\\x22\\x7D,\\x22goals\\x22\\x3A\\x7B\\x22h\\x22\\x3Anull,\\x22a\\x22\\x3Anull\\x7D,\\x22xG\\x22\\x3A\\x7B\\x22h\\x22\\x3Anull,\\x22a\\x22\\x3Anull\\x7D,\\x22datetime\\x22\\x3A\\x222021\\x2D12\\x2D12\\x2008\\x3A00\\x3A00\\x22\\x7D,\\x7B\\x22id\\x22\\x3A\\x2216931\\x22,\\x22isResult\\x22\\x3Afalse,\\x22side\\x22\\x3A\\x22h\\x22,\\x22h\\x22\\x3A\\x7B\\x22id\\x22\\x3A\\x22111\\x22,\\x22title\\x22\\x3A\\x22AC\\x20Milan\\x22,\\x22short_title\\x22\\x3A\\x22MIL\\x22\\x7D,\\x22a\\x22\\x3A\\x7B\\x22id\\x22\\x3A\\x22105\\x22,\\x22title\\x22\\x3A\\x22Napoli\\x22,\\x22short_title\\x22\\x3A\\x22NAP\\x22\\x7D,\\x22goals\\x22\\x3A\\x7B\\x22h\\x22\\x3Anull,\\x22a\\x22\\x3Anull\\x7D,\\x22xG\\x22\\x3A\\x7B\\x22h\\x22\\x3Anull,\\x22a\\x22\\x3Anull\\x7D,\\x22datetime\\x22\\x3A\\x222021\\x2D12\\x2D19\\x2008\\x3A00\\x3A00\\x22\\x7D,\\x7B\\x22id\\x22\\x3A\\x2216936\\x22,\\x22isResult\\x22\\x3Afalse,\\x22side\\x22\\x3A\\x22a\\x22,\\x22h\\x22\\x3A\\x7B\\x22id\\x22\\x3A\\x22108\\x22,\\x22title\\x22\\x3A\\x22Empoli\\x22,\\x22short_title\\x22\\x3A\\x22EMP\\x22\\x7D,\\x22a\\x22\\x3A\\x7B\\x22id\\x22\\x3A\\x22111\\x22,\\x22title\\x22\\x3A\\x22AC\\x20Milan\\x22,\\x22short_title\\x22\\x3A\\x22MIL\\x22\\x7D,\\x22goals\\x22\\x3A\\x7B\\x22h\\x22\\x3Anull,\\x22a\\x22\\x3Anull\\x7D,\\x22xG\\x22\\x3A\\x7B\\x22h\\x22\\x3Anull,\\x22a\\x22\\x3Anull\\x7D,\\x22datetime\\x22\\x3A\\x222021\\x2D12\\x2D22\\x2012\\x3A00\\x3A00\\x22\\x7D,\\x7B\\x22id\\x22\\x3A\\x2216951\\x22,\\x22isResult\\x22\\x3Afalse,\\x22side\\x22\\x3A\\x22h\\x22,\\x22h\\x22\\x3A\\x7B\\x22id\\x22\\x3A\\x22111\\x22,\\x22title\\x22\\x3A\\x22AC\\x20Milan\\x22,\\x22short_title\\x22\\x3A\\x22MIL\\x22\\x7D,\\x22a\\x22\\x3A\\x7B\\x22id\\x22\\x3A\\x2295\\x22,\\x22title\\x22\\x3A\\x22Roma\\x22,\\x22short_title\\x22\\x3A\\x22ROM\\x22\\x7D,\\x22goals\\x22\\x3A\\x7B\\x22h\\x22\\x3Anull,\\x22a\\x22\\x3Anull\\x7D,\\x22xG\\x22\\x3A\\x7B\\x22h\\x22\\x3Anull,\\x22a\\x22\\x3Anull\\x7D,\\x22datetime\\x22\\x3A\\x222022\\x2D01\\x2D06\\x2012\\x3A00\\x3A00\\x22\\x7D,\\x7B\\x22id\\x22\\x3A\\x2216965\\x22,\\x22isResult\\x22\\x3Afalse,\\x22side\\x22\\x3A\\x22a\\x22,\\x22h\\x22\\x3A\\x7B\\x22id\\x22\\x3A\\x22265\\x22,\\x22title\\x22\\x3A\\x22Venezia\\x22,\\x22short_title\\x22\\x3A\\x22VEN\\x22\\x7D,\\x22a\\x22\\x3A\\x7B\\x22id\\x22\\x3A\\x22111\\x22,\\x22title\\x22\\x3A\\x22AC\\x20Milan\\x22,\\x22short_title\\x22\\x3A\\x22MIL\\x22\\x7D,\\x22goals\\x22\\x3A\\x7B\\x22h\\x22\\x3Anull,\\x22a\\x22\\x3Anull\\x7D,\\x22xG\\x22\\x3A\\x7B\\x22h\\x22\\x3Anull,\\x22a\\x22\\x3Anull\\x7D,\\x22datetime\\x22\\x3A\\x222022\\x2D01\\x2D09\\x2008\\x3A00\\x3A00\\x22\\x7D,\\x7B\\x22id\\x22\\x3A\\x2216970\\x22,\\x22isResult\\x22\\x3Afalse,\\x22side\\x22\\x3A\\x22h\\x22,\\x22h\\x22\\x3A\\x7B\\x22id\\x22\\x3A\\x22111\\x22,\\x22title\\x22\\x3A\\x22AC\\x20Milan\\x22,\\x22short_title\\x22\\x3A\\x22MIL\\x22\\x7D,\\x22a\\x22\\x3A\\x7B\\x22id\\x22\\x3A\\x22260\\x22,\\x22title\\x22\\x3A\\x22Spezia\\x22,\\x22short_title\\x22\\x3A\\x22SPE\\x22\\x7D,\\x22goals\\x22\\x3A\\x7B\\x22h\\x22\\x3Anull,\\x22a\\x22\\x3Anull\\x7D,\\x22xG\\x22\\x3A\\x7B\\x22h\\x22\\x3Anull,\\x22a\\x22\\x3Anull\\x7D,\\x22datetime\\x22\\x3A\\x222022\\x2D01\\x2D16\\x2008\\x3A00\\x3A00\\x22\\x7D,\\x7B\\x22id\\x22\\x3A\\x2216982\\x22,\\x22isResult\\x22\\x3Afalse,\\x22side\\x22\\x3A\\x22h\\x22,\\x22h\\x22\\x3A\\x7B\\x22id\\x22\\x3A\\x22111\\x22,\\x22title\\x22\\x3A\\x22AC\\x20Milan\\x22,\\x22short_title\\x22\\x3A\\x22MIL\\x22\\x7D,\\x22a\\x22\\x3A\\x7B\\x22id\\x22\\x3A\\x2298\\x22,\\x22title\\x22\\x3A\\x22Juventus\\x22,\\x22short_title\\x22\\x3A\\x22JUV\\x22\\x7D,\\x22goals\\x22\\x3A\\x7B\\x22h\\x22\\x3Anull,\\x22a\\x22\\x3Anull\\x7D,\\x22xG\\x22\\x3A\\x7B\\x22h\\x22\\x3Anull,\\x22a\\x22\\x3Anull\\x7D,\\x22datetime\\x22\\x3A\\x222022\\x2D01\\x2D23\\x2008\\x3A00\\x3A00\\x22\\x7D,\\x7B\\x22id\\x22\\x3A\\x2216989\\x22,\\x22isResult\\x22\\x3Afalse,\\x22side\\x22\\x3A\\x22a\\x22,\\x22h\\x22\\x3A\\x7B\\x22id\\x22\\x3A\\x22106\\x22,\\x22title\\x22\\x3A\\x22Inter\\x22,\\x22short_title\\x22\\x3A\\x22INT\\x22\\x7D,\\x22a\\x22\\x3A\\x7B\\x22id\\x22\\x3A\\x22111\\x22,\\x22title\\x22\\x3A\\x22AC\\x20Milan\\x22,\\x22short_title\\x22\\x3A\\x22MIL\\x22\\x7D,\\x22goals\\x22\\x3A\\x7B\\x22h\\x22\\x3Anull,\\x22a\\x22\\x3Anull\\x7D,\\x22xG\\x22\\x3A\\x7B\\x22h\\x22\\x3Anull,\\x22a\\x22\\x3Anull\\x7D,\\x22datetime\\x22\\x3A\\x222022\\x2D02\\x2D06\\x2008\\x3A00\\x3A00\\x22\\x7D,\\x7B\\x22id\\x22\\x3A\\x2217001\\x22,\\x22isResult\\x22\\x3Afalse,\\x22side\\x22\\x3A\\x22h\\x22,\\x22h\\x22\\x3A\\x7B\\x22id\\x22\\x3A\\x22111\\x22,\\x22title\\x22\\x3A\\x22AC\\x20Milan\\x22,\\x22short_title\\x22\\x3A\\x22MIL\\x22\\x7D,\\x22a\\x22\\x3A\\x7B\\x22id\\x22\\x3A\\x22102\\x22,\\x22title\\x22\\x3A\\x22Sampdoria\\x22,\\x22short_title\\x22\\x3A\\x22SAM\\x22\\x7D,\\x22goals\\x22\\x3A\\x7B\\x22h\\x22\\x3Anull,\\x22a\\x22\\x3Anull\\x7D,\\x22xG\\x22\\x3A\\x7B\\x22h\\x22\\x3Anull,\\x22a\\x22\\x3Anull\\x7D,\\x22datetime\\x22\\x3A\\x222022\\x2D02\\x2D13\\x2008\\x3A00\\x3A00\\x22\\x7D,\\x7B\\x22id\\x22\\x3A\\x2217012\\x22,\\x22isResult\\x22\\x3Afalse,\\x22side\\x22\\x3A\\x22a\\x22,\\x22h\\x22\\x3A\\x7B\\x22id\\x22\\x3A\\x22264\\x22,\\x22title\\x22\\x3A\\x22Salernitana\\x22,\\x22short_title\\x22\\x3A\\x22SAL\\x22\\x7D,\\x22a\\x22\\x3A\\x7B\\x22id\\x22\\x3A\\x22111\\x22,\\x22title\\x22\\x3A\\x22AC\\x20Milan\\x22,\\x22short_title\\x22\\x3A\\x22MIL\\x22\\x7D,\\x22goals\\x22\\x3A\\x7B\\x22h\\x22\\x3Anull,\\x22a\\x22\\x3Anull\\x7D,\\x22xG\\x22\\x3A\\x7B\\x22h\\x22\\x3Anull,\\x22a\\x22\\x3Anull\\x7D,\\x22datetime\\x22\\x3A\\x222022\\x2D02\\x2D20\\x2008\\x3A00\\x3A00\\x22\\x7D,\\x7B\\x22id\\x22\\x3A\\x2217021\\x22,\\x22isResult\\x22\\x3Afalse,\\x22side\\x22\\x3A\\x22h\\x22,\\x22h\\x22\\x3A\\x7B\\x22id\\x22\\x3A\\x22111\\x22,\\x22title\\x22\\x3A\\x22AC\\x20Milan\\x22,\\x22short_title\\x22\\x3A\\x22MIL\\x22\\x7D,\\x22a\\x22\\x3A\\x7B\\x22id\\x22\\x3A\\x2299\\x22,\\x22title\\x22\\x3A\\x22Udinese\\x22,\\x22short_title\\x22\\x3A\\x22UDI\\x22\\x7D,\\x22goals\\x22\\x3A\\x7B\\x22h\\x22\\x3Anull,\\x22a\\x22\\x3Anull\\x7D,\\x22xG\\x22\\x3A\\x7B\\x22h\\x22\\x3Anull,\\x22a\\x22\\x3Anull\\x7D,\\x22datetime\\x22\\x3A\\x222022\\x2D02\\x2D27\\x2008\\x3A00\\x3A00\\x22\\x7D,\\x7B\\x22id\\x22\\x3A\\x2217032\\x22,\\x22isResult\\x22\\x3Afalse,\\x22side\\x22\\x3A\\x22a\\x22,\\x22h\\x22\\x3A\\x7B\\x22id\\x22\\x3A\\x22105\\x22,\\x22title\\x22\\x3A\\x22Napoli\\x22,\\x22short_title\\x22\\x3A\\x22NAP\\x22\\x7D,\\x22a\\x22\\x3A\\x7B\\x22id\\x22\\x3A\\x22111\\x22,\\x22title\\x22\\x3A\\x22AC\\x20Milan\\x22,\\x22short_title\\x22\\x3A\\x22MIL\\x22\\x7D,\\x22goals\\x22\\x3A\\x7B\\x22h\\x22\\x3Anull,\\x22a\\x22\\x3Anull\\x7D,\\x22xG\\x22\\x3A\\x7B\\x22h\\x22\\x3Anull,\\x22a\\x22\\x3Anull\\x7D,\\x22datetime\\x22\\x3A\\x222022\\x2D03\\x2D06\\x2008\\x3A00\\x3A00\\x22\\x7D,\\x7B\\x22id\\x22\\x3A\\x2217040\\x22,\\x22isResult\\x22\\x3Afalse,\\x22side\\x22\\x3A\\x22h\\x22,\\x22h\\x22\\x3A\\x7B\\x22id\\x22\\x3A\\x22111\\x22,\\x22title\\x22\\x3A\\x22AC\\x20Milan\\x22,\\x22short_title\\x22\\x3A\\x22MIL\\x22\\x7D,\\x22a\\x22\\x3A\\x7B\\x22id\\x22\\x3A\\x22108\\x22,\\x22title\\x22\\x3A\\x22Empoli\\x22,\\x22short_title\\x22\\x3A\\x22EMP\\x22\\x7D,\\x22goals\\x22\\x3A\\x7B\\x22h\\x22\\x3Anull,\\x22a\\x22\\x3Anull\\x7D,\\x22xG\\x22\\x3A\\x7B\\x22h\\x22\\x3Anull,\\x22a\\x22\\x3Anull\\x7D,\\x22datetime\\x22\\x3A\\x222022\\x2D03\\x2D13\\x2008\\x3A00\\x3A00\\x22\\x7D,\\x7B\\x22id\\x22\\x3A\\x2217047\\x22,\\x22isResult\\x22\\x3Afalse,\\x22side\\x22\\x3A\\x22a\\x22,\\x22h\\x22\\x3A\\x7B\\x22id\\x22\\x3A\\x22116\\x22,\\x22title\\x22\\x3A\\x22Cagliari\\x22,\\x22short_title\\x22\\x3A\\x22CAG\\x22\\x7D,\\x22a\\x22\\x3A\\x7B\\x22id\\x22\\x3A\\x22111\\x22,\\x22title\\x22\\x3A\\x22AC\\x20Milan\\x22,\\x22short_title\\x22\\x3A\\x22MIL\\x22\\x7D,\\x22goals\\x22\\x3A\\x7B\\x22h\\x22\\x3Anull,\\x22a\\x22\\x3Anull\\x7D,\\x22xG\\x22\\x3A\\x7B\\x22h\\x22\\x3Anull,\\x22a\\x22\\x3Anull\\x7D,\\x22datetime\\x22\\x3A\\x222022\\x2D03\\x2D20\\x2008\\x3A00\\x3A00\\x22\\x7D,\\x7B\\x22id\\x22\\x3A\\x2217061\\x22,\\x22isResult\\x22\\x3Afalse,\\x22side\\x22\\x3A\\x22h\\x22,\\x22h\\x22\\x3A\\x7B\\x22id\\x22\\x3A\\x22111\\x22,\\x22title\\x22\\x3A\\x22AC\\x20Milan\\x22,\\x22short_title\\x22\\x3A\\x22MIL\\x22\\x7D,\\x22a\\x22\\x3A\\x7B\\x22id\\x22\\x3A\\x2297\\x22,\\x22title\\x22\\x3A\\x22Bologna\\x22,\\x22short_title\\x22\\x3A\\x22BOL\\x22\\x7D,\\x22goals\\x22\\x3A\\x7B\\x22h\\x22\\x3Anull,\\x22a\\x22\\x3Anull\\x7D,\\x22xG\\x22\\x3A\\x7B\\x22h\\x22\\x3Anull,\\x22a\\x22\\x3Anull\\x7D,\\x22datetime\\x22\\x3A\\x222022\\x2D04\\x2D03\\x2007\\x3A00\\x3A00\\x22\\x7D,\\x7B\\x22id\\x22\\x3A\\x2217074\\x22,\\x22isResult\\x22\\x3Afalse,\\x22side\\x22\\x3A\\x22a\\x22,\\x22h\\x22\\x3A\\x7B\\x22id\\x22\\x3A\\x22113\\x22,\\x22title\\x22\\x3A\\x22Torino\\x22,\\x22short_title\\x22\\x3A\\x22TOR\\x22\\x7D,\\x22a\\x22\\x3A\\x7B\\x22id\\x22\\x3A\\x22111\\x22,\\x22title\\x22\\x3A\\x22AC\\x20Milan\\x22,\\x22short_title\\x22\\x3A\\x22MIL\\x22\\x7D,\\x22goals\\x22\\x3A\\x7B\\x22h\\x22\\x3Anull,\\x22a\\x22\\x3Anull\\x7D,\\x22xG\\x22\\x3A\\x7B\\x22h\\x22\\x3Anull,\\x22a\\x22\\x3Anull\\x7D,\\x22datetime\\x22\\x3A\\x222022\\x2D04\\x2D10\\x2007\\x3A00\\x3A00\\x22\\x7D,\\x7B\\x22id\\x22\\x3A\\x2217081\\x22,\\x22isResult\\x22\\x3Afalse,\\x22side\\x22\\x3A\\x22h\\x22,\\x22h\\x22\\x3A\\x7B\\x22id\\x22\\x3A\\x22111\\x22,\\x22title\\x22\\x3A\\x22AC\\x20Milan\\x22,\\x22short_title\\x22\\x3A\\x22MIL\\x22\\x7D,\\x22a\\x22\\x3A\\x7B\\x22id\\x22\\x3A\\x22101\\x22,\\x22title\\x22\\x3A\\x22Genoa\\x22,\\x22short_title\\x22\\x3A\\x22GEN\\x22\\x7D,\\x22goals\\x22\\x3A\\x7B\\x22h\\x22\\x3Anull,\\x22a\\x22\\x3Anull\\x7D,\\x22xG\\x22\\x3A\\x7B\\x22h\\x22\\x3Anull,\\x22a\\x22\\x3Anull\\x7D,\\x22datetime\\x22\\x3A\\x222022\\x2D04\\x2D16\\x2007\\x3A00\\x3A00\\x22\\x7D,\\x7B\\x22id\\x22\\x3A\\x2217091\\x22,\\x22isResult\\x22\\x3Afalse,\\x22side\\x22\\x3A\\x22a\\x22,\\x22h\\x22\\x3A\\x7B\\x22id\\x22\\x3A\\x2296\\x22,\\x22title\\x22\\x3A\\x22Lazio\\x22,\\x22short_title\\x22\\x3A\\x22LAZ\\x22\\x7D,\\x22a\\x22\\x3A\\x7B\\x22id\\x22\\x3A\\x22111\\x22,\\x22title\\x22\\x3A\\x22AC\\x20Milan\\x22,\\x22short_title\\x22\\x3A\\x22MIL\\x22\\x7D,\\x22goals\\x22\\x3A\\x7B\\x22h\\x22\\x3Anull,\\x22a\\x22\\x3Anull\\x7D,\\x22xG\\x22\\x3A\\x7B\\x22h\\x22\\x3Anull,\\x22a\\x22\\x3Anull\\x7D,\\x22datetime\\x22\\x3A\\x222022\\x2D04\\x2D24\\x2007\\x3A00\\x3A00\\x22\\x7D,\\x7B\\x22id\\x22\\x3A\\x2217100\\x22,\\x22isResult\\x22\\x3Afalse,\\x22side\\x22\\x3A\\x22h\\x22,\\x22h\\x22\\x3A\\x7B\\x22id\\x22\\x3A\\x22111\\x22,\\x22title\\x22\\x3A\\x22AC\\x20Milan\\x22,\\x22short_title\\x22\\x3A\\x22MIL\\x22\\x7D,\\x22a\\x22\\x3A\\x7B\\x22id\\x22\\x3A\\x22110\\x22,\\x22title\\x22\\x3A\\x22Fiorentina\\x22,\\x22short_title\\x22\\x3A\\x22FIO\\x22\\x7D,\\x22goals\\x22\\x3A\\x7B\\x22h\\x22\\x3Anull,\\x22a\\x22\\x3Anull\\x7D,\\x22xG\\x22\\x3A\\x7B\\x22h\\x22\\x3Anull,\\x22a\\x22\\x3Anull\\x7D,\\x22datetime\\x22\\x3A\\x222022\\x2D05\\x2D01\\x2007\\x3A00\\x3A00\\x22\\x7D,\\x7B\\x22id\\x22\\x3A\\x2217108\\x22,\\x22isResult\\x22\\x3Afalse,\\x22side\\x22\\x3A\\x22a\\x22,\\x22h\\x22\\x3A\\x7B\\x22id\\x22\\x3A\\x2294\\x22,\\x22title\\x22\\x3A\\x22Verona\\x22,\\x22short_title\\x22\\x3A\\x22VER\\x22\\x7D,\\x22a\\x22\\x3A\\x7B\\x22id\\x22\\x3A\\x22111\\x22,\\x22title\\x22\\x3A\\x22AC\\x20Milan\\x22,\\x22short_title\\x22\\x3A\\x22MIL\\x22\\x7D,\\x22goals\\x22\\x3A\\x7B\\x22h\\x22\\x3Anull,\\x22a\\x22\\x3Anull\\x7D,\\x22xG\\x22\\x3A\\x7B\\x22h\\x22\\x3Anull,\\x22a\\x22\\x3Anull\\x7D,\\x22datetime\\x22\\x3A\\x222022\\x2D05\\x2D08\\x2007\\x3A00\\x3A00\\x22\\x7D,\\x7B\\x22id\\x22\\x3A\\x2217121\\x22,\\x22isResult\\x22\\x3Afalse,\\x22side\\x22\\x3A\\x22h\\x22,\\x22h\\x22\\x3A\\x7B\\x22id\\x22\\x3A\\x22111\\x22,\\x22title\\x22\\x3A\\x22AC\\x20Milan\\x22,\\x22short_title\\x22\\x3A\\x22MIL\\x22\\x7D,\\x22a\\x22\\x3A\\x7B\\x22id\\x22\\x3A\\x22107\\x22,\\x22title\\x22\\x3A\\x22Atalanta\\x22,\\x22short_title\\x22\\x3A\\x22ATA\\x22\\x7D,\\x22goals\\x22\\x3A\\x7B\\x22h\\x22\\x3Anull,\\x22a\\x22\\x3Anull\\x7D,\\x22xG\\x22\\x3A\\x7B\\x22h\\x22\\x3Anull,\\x22a\\x22\\x3Anull\\x7D,\\x22datetime\\x22\\x3A\\x222022\\x2D05\\x2D15\\x2007\\x3A00\\x3A00\\x22\\x7D,\\x7B\\x22id\\x22\\x3A\\x2217132\\x22,\\x22isResult\\x22\\x3Afalse,\\x22side\\x22\\x3A\\x22a\\x22,\\x22h\\x22\\x3A\\x7B\\x22id\\x22\\x3A\\x22104\\x22,\\x22title\\x22\\x3A\\x22Sassuolo\\x22,\\x22short_title\\x22\\x3A\\x22SAS\\x22\\x7D,\\x22a\\x22\\x3A\\x7B\\x22id\\x22\\x3A\\x22111\\x22,\\x22title\\x22\\x3A\\x22AC\\x20Milan\\x22,\\x22short_title\\x22\\x3A\\x22MIL\\x22\\x7D,\\x22goals\\x22\\x3A\\x7B\\x22h\\x22\\x3Anull,\\x22a\\x22\\x3Anull\\x7D,\\x22xG\\x22\\x3A\\x7B\\x22h\\x22\\x3Anull,\\x22a\\x22\\x3Anull\\x7D,\\x22datetime\\x22\\x3A\\x222022\\x2D05\\x2D22\\x2007\\x3A00\\x3A00\\x22\\x7D\\x5D');\n",
       " </script>,\n",
       " <script>\n",
       " \tvar statisticsData = JSON.parse('\\x7B\\x22situation\\x22\\x3A\\x7B\\x22OpenPlay\\x22\\x3A\\x7B\\x22shots\\x22\\x3A120,\\x22goals\\x22\\x3A17,\\x22xG\\x22\\x3A14.272164053283631801605224609375,\\x22against\\x22\\x3A\\x7B\\x22shots\\x22\\x3A86,\\x22goals\\x22\\x3A7,\\x22xG\\x22\\x3A7.1619589454494416713714599609375\\x7D\\x7D,\\x22FromCorner\\x22\\x3A\\x7B\\x22shots\\x22\\x3A15,\\x22goals\\x22\\x3A3,\\x22xG\\x22\\x3A2.311275775544345378875732421875,\\x22against\\x22\\x3A\\x7B\\x22shots\\x22\\x3A30,\\x22goals\\x22\\x3A1,\\x22xG\\x22\\x3A2.9723885692656040191650390625\\x7D\\x7D,\\x22SetPiece\\x22\\x3A\\x7B\\x22shots\\x22\\x3A13,\\x22goals\\x22\\x3A0,\\x22xG\\x22\\x3A1.19378364272415637969970703125,\\x22against\\x22\\x3A\\x7B\\x22shots\\x22\\x3A6,\\x22goals\\x22\\x3A0,\\x22xG\\x22\\x3A0.4806001116521656513214111328125\\x7D\\x7D,\\x22DirectFreekick\\x22\\x3A\\x7B\\x22shots\\x22\\x3A8,\\x22goals\\x22\\x3A2,\\x22xG\\x22\\x3A0.5082694254815578460693359375,\\x22against\\x22\\x3A\\x7B\\x22shots\\x22\\x3A6,\\x22goals\\x22\\x3A0,\\x22xG\\x22\\x3A0.2802951149642467498779296875\\x7D\\x7D,\\x22Penalty\\x22\\x3A\\x7B\\x22shots\\x22\\x3A4,\\x22goals\\x22\\x3A3,\\x22xG\\x22\\x3A3.0451953411102294921875,\\x22against\\x22\\x3A\\x7B\\x22shots\\x22\\x3A2,\\x22goals\\x22\\x3A2,\\x22xG\\x22\\x3A1.52259767055511474609375\\x7D\\x7D\\x7D,\\x22formation\\x22\\x3A\\x7B\\x224\\x2D2\\x2D3\\x2D1\\x22\\x3A\\x7B\\x22stat\\x22\\x3A\\x224\\x2D2\\x2D3\\x2D1\\x22,\\x22time\\x22\\x3A961,\\x22shots\\x22\\x3A150,\\x22goals\\x22\\x3A23,\\x22xG\\x22\\x3A20.91005382873117923736572265625,\\x22against\\x22\\x3A\\x7B\\x22shots\\x22\\x3A111,\\x22goals\\x22\\x3A9,\\x22xG\\x22\\x3A11.330108868889510631561279296875\\x7D\\x7D,\\x224\\x2D4\\x2D2\\x22\\x3A\\x7B\\x22stat\\x22\\x3A\\x224\\x2D4\\x2D2\\x22,\\x22time\\x22\\x3A36,\\x22shots\\x22\\x3A8,\\x22goals\\x22\\x3A2,\\x22xG\\x22\\x3A0.3328879289329051971435546875,\\x22against\\x22\\x3A\\x7B\\x22shots\\x22\\x3A5,\\x22goals\\x22\\x3A0,\\x22xG\\x22\\x3A0.241995700635015964508056640625\\x7D\\x7D,\\x225\\x2D3\\x2D2\\x22\\x3A\\x7B\\x22stat\\x22\\x3A\\x225\\x2D3\\x2D2\\x22,\\x22time\\x22\\x3A23,\\x22shots\\x22\\x3A1,\\x22goals\\x22\\x3A0,\\x22xG\\x22\\x3A0.068613670766353607177734375,\\x22against\\x22\\x3A\\x7B\\x22shots\\x22\\x3A12,\\x22goals\\x22\\x3A1,\\x22xG\\x22\\x3A0.75585009343922138214111328125\\x7D\\x7D,\\x224\\x2D3\\x2D3\\x22\\x3A\\x7B\\x22stat\\x22\\x3A\\x224\\x2D3\\x2D3\\x22,\\x22time\\x22\\x3A13,\\x22shots\\x22\\x3A1,\\x22goals\\x22\\x3A0,\\x22xG\\x22\\x3A0.01913280971348285675048828125,\\x22against\\x22\\x3A\\x7B\\x22shots\\x22\\x3A2,\\x22goals\\x22\\x3A0,\\x22xG\\x22\\x3A0.089885748922824859619140625\\x7D\\x7D\\x7D,\\x22gameState\\x22\\x3A\\x7B\\x22Goal\\x20diff\\x20\\x2B1\\x22\\x3A\\x7B\\x22stat\\x22\\x3A\\x22Goal\\x20diff\\x20\\x2B1\\x22,\\x22time\\x22\\x3A365,\\x22shots\\x22\\x3A53,\\x22goals\\x22\\x3A7,\\x22xG\\x22\\x3A6.66987789236009120941162109375,\\x22against\\x22\\x3A\\x7B\\x22shots\\x22\\x3A57,\\x22goals\\x22\\x3A3,\\x22xG\\x22\\x3A4.4542122748680412769317626953125\\x7D\\x7D,\\x22Goal\\x20diff\\x200\\x22\\x3A\\x7B\\x22stat\\x22\\x3A\\x22Goal\\x20diff\\x200\\x22,\\x22time\\x22\\x3A337,\\x22shots\\x22\\x3A60,\\x22goals\\x22\\x3A13,\\x22xG\\x22\\x3A9.92972537688910961151123046875,\\x22against\\x22\\x3A\\x7B\\x22shots\\x22\\x3A27,\\x22goals\\x22\\x3A2,\\x22xG\\x22\\x3A2.58229934982955455780029296875\\x7D\\x7D,\\x22Goal\\x20diff\\x20\\x3E\\x20\\x2B1\\x22\\x3A\\x7B\\x22stat\\x22\\x3A\\x22Goal\\x20diff\\x20\\x3E\\x20\\x2B1\\x22,\\x22time\\x22\\x3A185,\\x22shots\\x22\\x3A22,\\x22goals\\x22\\x3A2,\\x22xG\\x22\\x3A2.750497877597808837890625,\\x22against\\x22\\x3A\\x7B\\x22shots\\x22\\x3A36,\\x22goals\\x22\\x3A4,\\x22xG\\x22\\x3A3.9092138609848916530609130859375\\x7D\\x7D,\\x22Goal\\x20diff\\x20\\x2D1\\x22\\x3A\\x7B\\x22stat\\x22\\x3A\\x22Goal\\x20diff\\x20\\x2D1\\x22,\\x22time\\x22\\x3A109,\\x22shots\\x22\\x3A14,\\x22goals\\x22\\x3A2,\\x22xG\\x22\\x3A1.516100148670375347137451171875,\\x22against\\x22\\x3A\\x7B\\x22shots\\x22\\x3A9,\\x22goals\\x22\\x3A1,\\x22xG\\x22\\x3A1.44398309104144573211669921875\\x7D\\x7D,\\x22Goal\\x20diff\\x20\\x3C\\x20\\x2D1\\x22\\x3A\\x7B\\x22stat\\x22\\x3A\\x22Goal\\x20diff\\x20\\x3C\\x20\\x2D1\\x22,\\x22time\\x22\\x3A37,\\x22shots\\x22\\x3A11,\\x22goals\\x22\\x3A1,\\x22xG\\x22\\x3A0.464486942626535892486572265625,\\x22against\\x22\\x3A\\x7B\\x22shots\\x22\\x3A1,\\x22goals\\x22\\x3A0,\\x22xG\\x22\\x3A0.028131835162639617919921875\\x7D\\x7D\\x7D,\\x22timing\\x22\\x3A\\x7B\\x221\\x2D15\\x22\\x3A\\x7B\\x22stat\\x22\\x3A\\x221\\x2D15\\x22,\\x22shots\\x22\\x3A26,\\x22goals\\x22\\x3A5,\\x22xG\\x22\\x3A4.312740839086472988128662109375,\\x22against\\x22\\x3A\\x7B\\x22shots\\x22\\x3A21,\\x22goals\\x22\\x3A3,\\x22xG\\x22\\x3A2.1898592151701450347900390625\\x7D\\x7D,\\x2216\\x2D30\\x22\\x3A\\x7B\\x22stat\\x22\\x3A\\x2216\\x2D30\\x22,\\x22shots\\x22\\x3A33,\\x22goals\\x22\\x3A3,\\x22xG\\x22\\x3A3.0123436152935028076171875,\\x22against\\x22\\x3A\\x7B\\x22shots\\x22\\x3A18,\\x22goals\\x22\\x3A1,\\x22xG\\x22\\x3A1.847026606090366840362548828125\\x7D\\x7D,\\x2231\\x2D45\\x22\\x3A\\x7B\\x22stat\\x22\\x3A\\x2231\\x2D45\\x22,\\x22shots\\x22\\x3A26,\\x22goals\\x22\\x3A4,\\x22xG\\x22\\x3A2.994414216838777065277099609375,\\x22against\\x22\\x3A\\x7B\\x22shots\\x22\\x3A13,\\x22goals\\x22\\x3A0,\\x22xG\\x22\\x3A0.767505620606243610382080078125\\x7D\\x7D,\\x2246\\x2D60\\x22\\x3A\\x7B\\x22stat\\x22\\x3A\\x2246\\x2D60\\x22,\\x22shots\\x22\\x3A31,\\x22goals\\x22\\x3A3,\\x22xG\\x22\\x3A4.122849275358021259307861328125,\\x22against\\x22\\x3A\\x7B\\x22shots\\x22\\x3A19,\\x22goals\\x22\\x3A2,\\x22xG\\x22\\x3A2.6213036873377859592437744140625\\x7D\\x7D,\\x2261\\x2D75\\x22\\x3A\\x7B\\x22stat\\x22\\x3A\\x2261\\x2D75\\x22,\\x22shots\\x22\\x3A19,\\x22goals\\x22\\x3A4,\\x22xG\\x22\\x3A3.498257077299058437347412109375,\\x22against\\x22\\x3A\\x7B\\x22shots\\x22\\x3A14,\\x22goals\\x22\\x3A0,\\x22xG\\x22\\x3A0.5985536319203674793243408203125\\x7D\\x7D,\\x2276\\x2B\\x22\\x3A\\x7B\\x22stat\\x22\\x3A\\x2276\\x2B\\x22,\\x22shots\\x22\\x3A25,\\x22goals\\x22\\x3A6,\\x22xG\\x22\\x3A3.39008321426808834075927734375,\\x22against\\x22\\x3A\\x7B\\x22shots\\x22\\x3A45,\\x22goals\\x22\\x3A4,\\x22xG\\x22\\x3A4.393591650761663913726806640625\\x7D\\x7D\\x7D,\\x22shotZone\\x22\\x3A\\x7B\\x22ownGoals\\x22\\x3A\\x7B\\x22stat\\x22\\x3A\\x22ownGoals\\x22,\\x22shots\\x22\\x3A1,\\x22goals\\x22\\x3A1,\\x22xG\\x22\\x3A1,\\x22against\\x22\\x3A\\x7B\\x22shots\\x22\\x3A1,\\x22goals\\x22\\x3A1,\\x22xG\\x22\\x3A1\\x7D\\x7D,\\x22shotOboxTotal\\x22\\x3A\\x7B\\x22stat\\x22\\x3A\\x22shotOboxTotal\\x22,\\x22shots\\x22\\x3A75,\\x22goals\\x22\\x3A5,\\x22xG\\x22\\x3A2.456561247818171977996826171875,\\x22against\\x22\\x3A\\x7B\\x22shots\\x22\\x3A46,\\x22goals\\x22\\x3A0,\\x22xG\\x22\\x3A1.1557416808791458606719970703125\\x7D\\x7D,\\x22shotPenaltyArea\\x22\\x3A\\x7B\\x22stat\\x22\\x3A\\x22shotPenaltyArea\\x22,\\x22shots\\x22\\x3A76,\\x22goals\\x22\\x3A15,\\x22xG\\x22\\x3A13.221664984710514545440673828125,\\x22against\\x22\\x3A\\x7B\\x22shots\\x22\\x3A72,\\x22goals\\x22\\x3A8,\\x22xG\\x22\\x3A7.4888924374245107173919677734375\\x7D\\x7D,\\x22shotSixYardBox\\x22\\x3A\\x7B\\x22stat\\x22\\x3A\\x22shotSixYardBox\\x22,\\x22shots\\x22\\x3A8,\\x22goals\\x22\\x3A4,\\x22xG\\x22\\x3A4.652462005615234375,\\x22against\\x22\\x3A\\x7B\\x22shots\\x22\\x3A11,\\x22goals\\x22\\x3A1,\\x22xG\\x22\\x3A2.773206293582916259765625\\x7D\\x7D\\x7D,\\x22attackSpeed\\x22\\x3A\\x7B\\x22Normal\\x22\\x3A\\x7B\\x22stat\\x22\\x3A\\x22Normal\\x22,\\x22shots\\x22\\x3A90,\\x22goals\\x22\\x3A13,\\x22xG\\x22\\x3A10.547093145549297332763671875,\\x22against\\x22\\x3A\\x7B\\x22shots\\x22\\x3A76,\\x22goals\\x22\\x3A6,\\x22xG\\x22\\x3A6.3560974518768489360809326171875\\x7D\\x7D,\\x22Standard\\x22\\x3A\\x7B\\x22stat\\x22\\x3A\\x22Standard\\x22,\\x22shots\\x22\\x3A40,\\x22goals\\x22\\x3A8,\\x22xG\\x22\\x3A7.058524184860289096832275390625,\\x22against\\x22\\x3A\\x7B\\x22shots\\x22\\x3A44,\\x22goals\\x22\\x3A3,\\x22xG\\x22\\x3A5.2558814664371311664581298828125\\x7D\\x7D,\\x22Slow\\x22\\x3A\\x7B\\x22stat\\x22\\x3A\\x22Slow\\x22,\\x22shots\\x22\\x3A18,\\x22goals\\x22\\x3A2,\\x22xG\\x22\\x3A1.940828765742480754852294921875,\\x22against\\x22\\x3A\\x7B\\x22shots\\x22\\x3A7,\\x22goals\\x22\\x3A0,\\x22xG\\x22\\x3A0.34052268974483013153076171875\\x7D\\x7D,\\x22Fast\\x22\\x3A\\x7B\\x22stat\\x22\\x3A\\x22Fast\\x22,\\x22shots\\x22\\x3A12,\\x22goals\\x22\\x3A2,\\x22xG\\x22\\x3A1.7842421419918537139892578125,\\x22against\\x22\\x3A\\x7B\\x22shots\\x22\\x3A3,\\x22goals\\x22\\x3A1,\\x22xG\\x22\\x3A0.465338803827762603759765625\\x7D\\x7D\\x7D,\\x22result\\x22\\x3A\\x7B\\x22SavedShot\\x22\\x3A\\x7B\\x22shots\\x22\\x3A23,\\x22goals\\x22\\x3A0,\\x22xG\\x22\\x3A2.445684569887816905975341796875,\\x22against\\x22\\x3A\\x7B\\x22shots\\x22\\x3A31,\\x22goals\\x22\\x3A0,\\x22xG\\x22\\x3A2.10800665803253650665283203125\\x7D\\x7D,\\x22Goal\\x22\\x3A\\x7B\\x22shots\\x22\\x3A25,\\x22goals\\x22\\x3A25,\\x22xG\\x22\\x3A9.995565928518772125244140625,\\x22against\\x22\\x3A\\x7B\\x22shots\\x22\\x3A10,\\x22goals\\x22\\x3A10,\\x22xG\\x22\\x3A4.23456302843987941741943359375\\x7D\\x7D,\\x22MissedShots\\x22\\x3A\\x7B\\x22shots\\x22\\x3A64,\\x22goals\\x22\\x3A0,\\x22xG\\x22\\x3A5.15272756107151508331298828125,\\x22against\\x22\\x3A\\x7B\\x22shots\\x22\\x3A51,\\x22goals\\x22\\x3A0,\\x22xG\\x22\\x3A4.0255738967098295688629150390625\\x7D\\x7D,\\x22BlockedShot\\x22\\x3A\\x7B\\x22shots\\x22\\x3A46,\\x22goals\\x22\\x3A0,\\x22xG\\x22\\x3A2.935748941265046596527099609375,\\x22against\\x22\\x3A\\x7B\\x22shots\\x22\\x3A38,\\x22goals\\x22\\x3A0,\\x22xG\\x22\\x3A2.0496968287043273448944091796875\\x7D\\x7D,\\x22ShotOnPost\\x22\\x3A\\x7B\\x22shots\\x22\\x3A2,\\x22goals\\x22\\x3A0,\\x22xG\\x22\\x3A0.8009612374007701873779296875,\\x22against\\x22\\x3A\\x7B\\x22shots\\x22\\x3A0,\\x22goals\\x22\\x3A0,\\x22xG\\x22\\x3A0\\x7D\\x7D\\x7D\\x7D');\n",
       " </script>,\n",
       " <script>\n",
       " \tvar playersData\t= JSON.parse('\\x5B\\x7B\\x22id\\x22\\x3A\\x22502\\x22,\\x22player_name\\x22\\x3A\\x22Olivier\\x20Giroud\\x22,\\x22games\\x22\\x3A\\x227\\x22,\\x22time\\x22\\x3A\\x22457\\x22,\\x22goals\\x22\\x3A\\x224\\x22,\\x22xG\\x22\\x3A\\x222.6319617088884115\\x22,\\x22assists\\x22\\x3A\\x220\\x22,\\x22xA\\x22\\x3A\\x221.0674280524253845\\x22,\\x22shots\\x22\\x3A\\x228\\x22,\\x22key_passes\\x22\\x3A\\x228\\x22,\\x22yellow_cards\\x22\\x3A\\x221\\x22,\\x22red_cards\\x22\\x3A\\x220\\x22,\\x22position\\x22\\x3A\\x22F\\x20S\\x22,\\x22team_title\\x22\\x3A\\x22AC\\x20Milan\\x22,\\x22npg\\x22\\x3A\\x223\\x22,\\x22npxG\\x22\\x3A\\x221.870662933215499\\x22,\\x22xGChain\\x22\\x3A\\x222.0851630810648203\\x22,\\x22xGBuildup\\x22\\x3A\\x220.2647514082491398\\x22\\x7D,\\x7B\\x22id\\x22\\x3A\\x227193\\x22,\\x22player_name\\x22\\x3A\\x22Rafael\\x20Le\\x5Cu00e3o\\x22,\\x22games\\x22\\x3A\\x2211\\x22,\\x22time\\x22\\x3A\\x22831\\x22,\\x22goals\\x22\\x3A\\x224\\x22,\\x22xG\\x22\\x3A\\x222.74639337323606\\x22,\\x22assists\\x22\\x3A\\x221\\x22,\\x22xA\\x22\\x3A\\x220.6783549021929502\\x22,\\x22shots\\x22\\x3A\\x2227\\x22,\\x22key_passes\\x22\\x3A\\x228\\x22,\\x22yellow_cards\\x22\\x3A\\x221\\x22,\\x22red_cards\\x22\\x3A\\x220\\x22,\\x22position\\x22\\x3A\\x22M\\x20S\\x22,\\x22team_title\\x22\\x3A\\x22AC\\x20Milan\\x22,\\x22npg\\x22\\x3A\\x224\\x22,\\x22npxG\\x22\\x3A\\x222.74639337323606\\x22,\\x22xGChain\\x22\\x3A\\x224.623914886265993\\x22,\\x22xGBuildup\\x22\\x3A\\x221.4754993822425604\\x22\\x7D,\\x7B\\x22id\\x22\\x3A\\x221741\\x22,\\x22player_name\\x22\\x3A\\x22Zlatan\\x20Ibrahimovic\\x22,\\x22games\\x22\\x3A\\x225\\x22,\\x22time\\x22\\x3A\\x22186\\x22,\\x22goals\\x22\\x3A\\x223\\x22,\\x22xG\\x22\\x3A\\x221.9262862801551819\\x22,\\x22assists\\x22\\x3A\\x221\\x22,\\x22xA\\x22\\x3A\\x220.1404331475496292\\x22,\\x22shots\\x22\\x3A\\x2210\\x22,\\x22key_passes\\x22\\x3A\\x224\\x22,\\x22yellow_cards\\x22\\x3A\\x221\\x22,\\x22red_cards\\x22\\x3A\\x220\\x22,\\x22position\\x22\\x3A\\x22F\\x20S\\x22,\\x22team_title\\x22\\x3A\\x22AC\\x20Milan\\x22,\\x22npg\\x22\\x3A\\x223\\x22,\\x22npxG\\x22\\x3A\\x221.9262862801551819\\x22,\\x22xGChain\\x22\\x3A\\x222.5100050568580627\\x22,\\x22xGBuildup\\x22\\x3A\\x220.6321167051792145\\x22\\x7D,\\x7B\\x22id\\x22\\x3A\\x226421\\x22,\\x22player_name\\x22\\x3A\\x22Brahim\\x20Diaz\\x22,\\x22games\\x22\\x3A\\x227\\x22,\\x22time\\x22\\x3A\\x22496\\x22,\\x22goals\\x22\\x3A\\x223\\x22,\\x22xG\\x22\\x3A\\x221.921940972097218\\x22,\\x22assists\\x22\\x3A\\x221\\x22,\\x22xA\\x22\\x3A\\x220.663935873657465\\x22,\\x22shots\\x22\\x3A\\x2212\\x22,\\x22key_passes\\x22\\x3A\\x228\\x22,\\x22yellow_cards\\x22\\x3A\\x222\\x22,\\x22red_cards\\x22\\x3A\\x220\\x22,\\x22position\\x22\\x3A\\x22M\\x20S\\x22,\\x22team_title\\x22\\x3A\\x22AC\\x20Milan\\x22,\\x22npg\\x22\\x3A\\x223\\x22,\\x22npxG\\x22\\x3A\\x221.921940972097218\\x22,\\x22xGChain\\x22\\x3A\\x224.514480844140053\\x22,\\x22xGBuildup\\x22\\x3A\\x221.9403335023671389\\x22\\x7D,\\x7B\\x22id\\x22\\x3A\\x221489\\x22,\\x22player_name\\x22\\x3A\\x22Franck\\x20Kessi\\x5Cu00e9\\x22,\\x22games\\x22\\x3A\\x228\\x22,\\x22time\\x22\\x3A\\x22584\\x22,\\x22goals\\x22\\x3A\\x222\\x22,\\x22xG\\x22\\x3A\\x222.9254051223397255\\x22,\\x22assists\\x22\\x3A\\x220\\x22,\\x22xA\\x22\\x3A\\x220.36812507174909115\\x22,\\x22shots\\x22\\x3A\\x228\\x22,\\x22key_passes\\x22\\x3A\\x227\\x22,\\x22yellow_cards\\x22\\x3A\\x221\\x22,\\x22red_cards\\x22\\x3A\\x220\\x22,\\x22position\\x22\\x3A\\x22M\\x20S\\x22,\\x22team_title\\x22\\x3A\\x22AC\\x20Milan\\x22,\\x22npg\\x22\\x3A\\x220\\x22,\\x22npxG\\x22\\x3A\\x220.6415086314082146\\x22,\\x22xGChain\\x22\\x3A\\x223.0330847799777985\\x22,\\x22xGBuildup\\x22\\x3A\\x222.434631548821926\\x22\\x7D,\\x7B\\x22id\\x22\\x3A\\x221574\\x22,\\x22player_name\\x22\\x3A\\x22Davide\\x20Calabria\\x22,\\x22games\\x22\\x3A\\x229\\x22,\\x22time\\x22\\x3A\\x22737\\x22,\\x22goals\\x22\\x3A\\x222\\x22,\\x22xG\\x22\\x3A\\x221.7938330098986626\\x22,\\x22assists\\x22\\x3A\\x221\\x22,\\x22xA\\x22\\x3A\\x220.6155022494494915\\x22,\\x22shots\\x22\\x3A\\x2216\\x22,\\x22key_passes\\x22\\x3A\\x226\\x22,\\x22yellow_cards\\x22\\x3A\\x222\\x22,\\x22red_cards\\x22\\x3A\\x220\\x22,\\x22position\\x22\\x3A\\x22D\\x20S\\x22,\\x22team_title\\x22\\x3A\\x22AC\\x20Milan\\x22,\\x22npg\\x22\\x3A\\x222\\x22,\\x22npxG\\x22\\x3A\\x221.7938330098986626\\x22,\\x22xGChain\\x22\\x3A\\x224.687238868325949\\x22,\\x22xGBuildup\\x22\\x3A\\x222.974818231537938\\x22\\x7D,\\x7B\\x22id\\x22\\x3A\\x227958\\x22,\\x22player_name\\x22\\x3A\\x22Sandro\\x20Tonali\\x22,\\x22games\\x22\\x3A\\x2211\\x22,\\x22time\\x22\\x3A\\x22732\\x22,\\x22goals\\x22\\x3A\\x222\\x22,\\x22xG\\x22\\x3A\\x220.8064663484692574\\x22,\\x22assists\\x22\\x3A\\x221\\x22,\\x22xA\\x22\\x3A\\x221.2795400395989418\\x22,\\x22shots\\x22\\x3A\\x2213\\x22,\\x22key_passes\\x22\\x3A\\x229\\x22,\\x22yellow_cards\\x22\\x3A\\x222\\x22,\\x22red_cards\\x22\\x3A\\x220\\x22,\\x22position\\x22\\x3A\\x22M\\x20S\\x22,\\x22team_title\\x22\\x3A\\x22AC\\x20Milan\\x22,\\x22npg\\x22\\x3A\\x222\\x22,\\x22npxG\\x22\\x3A\\x220.8064663484692574\\x22,\\x22xGChain\\x22\\x3A\\x224.124287325888872\\x22,\\x22xGBuildup\\x22\\x3A\\x223.1251323176547885\\x22\\x7D,\\x7B\\x22id\\x22\\x3A\\x221852\\x22,\\x22player_name\\x22\\x3A\\x22Ante\\x20Rebic\\x22,\\x22games\\x22\\x3A\\x228\\x22,\\x22time\\x22\\x3A\\x22466\\x22,\\x22goals\\x22\\x3A\\x221\\x22,\\x22xG\\x22\\x3A\\x221.4282953031361103\\x22,\\x22assists\\x22\\x3A\\x222\\x22,\\x22xA\\x22\\x3A\\x223.0441083144396544\\x22,\\x22shots\\x22\\x3A\\x2213\\x22,\\x22key_passes\\x22\\x3A\\x2216\\x22,\\x22yellow_cards\\x22\\x3A\\x220\\x22,\\x22red_cards\\x22\\x3A\\x220\\x22,\\x22position\\x22\\x3A\\x22F\\x20M\\x20S\\x22,\\x22team_title\\x22\\x3A\\x22AC\\x20Milan\\x22,\\x22npg\\x22\\x3A\\x221\\x22,\\x22npxG\\x22\\x3A\\x221.4282953031361103\\x22,\\x22xGChain\\x22\\x3A\\x223.9437773004174232\\x22,\\x22xGBuildup\\x22\\x3A\\x220.6742487624287605\\x22\\x7D,\\x7B\\x22id\\x22\\x3A\\x222547\\x22,\\x22player_name\\x22\\x3A\\x22Theo\\x20Hern\\x5Cu00e1ndez\\x22,\\x22games\\x22\\x3A\\x229\\x22,\\x22time\\x22\\x3A\\x22673\\x22,\\x22goals\\x22\\x3A\\x221\\x22,\\x22xG\\x22\\x3A\\x220.6682184003293514\\x22,\\x22assists\\x22\\x3A\\x223\\x22,\\x22xA\\x22\\x3A\\x221.8054526150226593\\x22,\\x22shots\\x22\\x3A\\x229\\x22,\\x22key_passes\\x22\\x3A\\x229\\x22,\\x22yellow_cards\\x22\\x3A\\x221\\x22,\\x22red_cards\\x22\\x3A\\x221\\x22,\\x22position\\x22\\x3A\\x22D\\x20S\\x22,\\x22team_title\\x22\\x3A\\x22AC\\x20Milan\\x22,\\x22npg\\x22\\x3A\\x221\\x22,\\x22npxG\\x22\\x3A\\x220.6682184003293514\\x22,\\x22xGChain\\x22\\x3A\\x223.797105100005865\\x22,\\x22xGBuildup\\x22\\x3A\\x222.817463792860508\\x22\\x7D,\\x7B\\x22id\\x22\\x3A\\x226981\\x22,\\x22player_name\\x22\\x3A\\x22Ismael\\x20Bennacer\\x22,\\x22games\\x22\\x3A\\x2211\\x22,\\x22time\\x22\\x3A\\x22475\\x22,\\x22goals\\x22\\x3A\\x221\\x22,\\x22xG\\x22\\x3A\\x220.18115277588367462\\x22,\\x22assists\\x22\\x3A\\x221\\x22,\\x22xA\\x22\\x3A\\x220.45423332042992115\\x22,\\x22shots\\x22\\x3A\\x225\\x22,\\x22key_passes\\x22\\x3A\\x228\\x22,\\x22yellow_cards\\x22\\x3A\\x220\\x22,\\x22red_cards\\x22\\x3A\\x220\\x22,\\x22position\\x22\\x3A\\x22M\\x20S\\x22,\\x22team_title\\x22\\x3A\\x22AC\\x20Milan\\x22,\\x22npg\\x22\\x3A\\x221\\x22,\\x22npxG\\x22\\x3A\\x220.18115277588367462\\x22,\\x22xGChain\\x22\\x3A\\x222.6849744003266096\\x22,\\x22xGBuildup\\x22\\x3A\\x222.4302932154387236\\x22\\x7D,\\x7B\\x22id\\x22\\x3A\\x228163\\x22,\\x22player_name\\x22\\x3A\\x22Daniel\\x20Maldini\\x22,\\x22games\\x22\\x3A\\x224\\x22,\\x22time\\x22\\x3A\\x22112\\x22,\\x22goals\\x22\\x3A\\x221\\x22,\\x22xG\\x22\\x3A\\x220.43644531816244125\\x22,\\x22assists\\x22\\x3A\\x220\\x22,\\x22xA\\x22\\x3A\\x220.050207577645778656\\x22,\\x22shots\\x22\\x3A\\x222\\x22,\\x22key_passes\\x22\\x3A\\x221\\x22,\\x22yellow_cards\\x22\\x3A\\x221\\x22,\\x22red_cards\\x22\\x3A\\x220\\x22,\\x22position\\x22\\x3A\\x22M\\x20S\\x22,\\x22team_title\\x22\\x3A\\x22AC\\x20Milan\\x22,\\x22npg\\x22\\x3A\\x221\\x22,\\x22npxG\\x22\\x3A\\x220.43644531816244125\\x22,\\x22xGChain\\x22\\x3A\\x220.600175179541111\\x22,\\x22xGBuildup\\x22\\x3A\\x220.11352228373289108\\x22\\x7D,\\x7B\\x22id\\x22\\x3A\\x22703\\x22,\\x22player_name\\x22\\x3A\\x22Fikayo\\x20Tomori\\x22,\\x22games\\x22\\x3A\\x2211\\x22,\\x22time\\x22\\x3A\\x22931\\x22,\\x22goals\\x22\\x3A\\x220\\x22,\\x22xG\\x22\\x3A\\x220.2399060046300292\\x22,\\x22assists\\x22\\x3A\\x220\\x22,\\x22xA\\x22\\x3A\\x220\\x22,\\x22shots\\x22\\x3A\\x223\\x22,\\x22key_passes\\x22\\x3A\\x220\\x22,\\x22yellow_cards\\x22\\x3A\\x222\\x22,\\x22red_cards\\x22\\x3A\\x220\\x22,\\x22position\\x22\\x3A\\x22D\\x20S\\x22,\\x22team_title\\x22\\x3A\\x22AC\\x20Milan\\x22,\\x22npg\\x22\\x3A\\x220\\x22,\\x22npxG\\x22\\x3A\\x220.2399060046300292\\x22,\\x22xGChain\\x22\\x3A\\x224.055224840529263\\x22,\\x22xGBuildup\\x22\\x3A\\x224.041723017580807\\x22\\x7D,\\x7B\\x22id\\x22\\x3A\\x221119\\x22,\\x22player_name\\x22\\x3A\\x22Alessio\\x20Romagnoli\\x22,\\x22games\\x22\\x3A\\x228\\x22,\\x22time\\x22\\x3A\\x22510\\x22,\\x22goals\\x22\\x3A\\x220\\x22,\\x22xG\\x22\\x3A\\x220.0973648652434349\\x22,\\x22assists\\x22\\x3A\\x220\\x22,\\x22xA\\x22\\x3A\\x220.011729433201253414\\x22,\\x22shots\\x22\\x3A\\x222\\x22,\\x22key_passes\\x22\\x3A\\x221\\x22,\\x22yellow_cards\\x22\\x3A\\x221\\x22,\\x22red_cards\\x22\\x3A\\x220\\x22,\\x22position\\x22\\x3A\\x22D\\x20S\\x22,\\x22team_title\\x22\\x3A\\x22AC\\x20Milan\\x22,\\x22npg\\x22\\x3A\\x220\\x22,\\x22npxG\\x22\\x3A\\x220.0973648652434349\\x22,\\x22xGChain\\x22\\x3A\\x221.3114962801337242\\x22,\\x22xGBuildup\\x22\\x3A\\x221.2835895791649818\\x22\\x7D,\\x7B\\x22id\\x22\\x3A\\x221254\\x22,\\x22player_name\\x22\\x3A\\x22Alessandro\\x20Florenzi\\x22,\\x22games\\x22\\x3A\\x225\\x22,\\x22time\\x22\\x3A\\x22180\\x22,\\x22goals\\x22\\x3A\\x220\\x22,\\x22xG\\x22\\x3A\\x220.20836727786809206\\x22,\\x22assists\\x22\\x3A\\x220\\x22,\\x22xA\\x22\\x3A\\x220.02821200154721737\\x22,\\x22shots\\x22\\x3A\\x225\\x22,\\x22key_passes\\x22\\x3A\\x221\\x22,\\x22yellow_cards\\x22\\x3A\\x220\\x22,\\x22red_cards\\x22\\x3A\\x220\\x22,\\x22position\\x22\\x3A\\x22M\\x20S\\x22,\\x22team_title\\x22\\x3A\\x22AC\\x20Milan\\x22,\\x22npg\\x22\\x3A\\x220\\x22,\\x22npxG\\x22\\x3A\\x220.20836727786809206\\x22,\\x22xGChain\\x22\\x3A\\x220.3842881675809622\\x22,\\x22xGBuildup\\x22\\x3A\\x220.19013313949108124\\x22\\x7D,\\x7B\\x22id\\x22\\x3A\\x221311\\x22,\\x22player_name\\x22\\x3A\\x22Rade\\x20Krunic\\x22,\\x22games\\x22\\x3A\\x226\\x22,\\x22time\\x22\\x3A\\x22428\\x22,\\x22goals\\x22\\x3A\\x220\\x22,\\x22xG\\x22\\x3A\\x220.3084886893630028\\x22,\\x22assists\\x22\\x3A\\x221\\x22,\\x22xA\\x22\\x3A\\x221.4100833982229233\\x22,\\x22shots\\x22\\x3A\\x223\\x22,\\x22key_passes\\x22\\x3A\\x226\\x22,\\x22yellow_cards\\x22\\x3A\\x220\\x22,\\x22red_cards\\x22\\x3A\\x220\\x22,\\x22position\\x22\\x3A\\x22M\\x20S\\x22,\\x22team_title\\x22\\x3A\\x22AC\\x20Milan\\x22,\\x22npg\\x22\\x3A\\x220\\x22,\\x22npxG\\x22\\x3A\\x220.3084886893630028\\x22,\\x22xGChain\\x22\\x3A\\x221.278152434155345\\x22,\\x22xGBuildup\\x22\\x3A\\x220.781452564522624\\x22\\x7D,\\x7B\\x22id\\x22\\x3A\\x221416\\x22,\\x22player_name\\x22\\x3A\\x22Ciprian\\x20Tatarusanu\\x22,\\x22games\\x22\\x3A\\x224\\x22,\\x22time\\x22\\x3A\\x22360\\x22,\\x22goals\\x22\\x3A\\x220\\x22,\\x22xG\\x22\\x3A\\x220\\x22,\\x22assists\\x22\\x3A\\x220\\x22,\\x22xA\\x22\\x3A\\x220\\x22,\\x22shots\\x22\\x3A\\x220\\x22,\\x22key_passes\\x22\\x3A\\x220\\x22,\\x22yellow_cards\\x22\\x3A\\x220\\x22,\\x22red_cards\\x22\\x3A\\x220\\x22,\\x22position\\x22\\x3A\\x22GK\\x22,\\x22team_title\\x22\\x3A\\x22AC\\x20Milan\\x22,\\x22npg\\x22\\x3A\\x220\\x22,\\x22npxG\\x22\\x3A\\x220\\x22,\\x22xGChain\\x22\\x3A\\x220.07135548442602158\\x22,\\x22xGBuildup\\x22\\x3A\\x220.07135548442602158\\x22\\x7D,\\x7B\\x22id\\x22\\x3A\\x222303\\x22,\\x22player_name\\x22\\x3A\\x22Samu\\x20Castillejo\\x22,\\x22games\\x22\\x3A\\x223\\x22,\\x22time\\x22\\x3A\\x2291\\x22,\\x22goals\\x22\\x3A\\x220\\x22,\\x22xG\\x22\\x3A\\x220.08848053216934204\\x22,\\x22assists\\x22\\x3A\\x220\\x22,\\x22xA\\x22\\x3A\\x220.04731813818216324\\x22,\\x22shots\\x22\\x3A\\x221\\x22,\\x22key_passes\\x22\\x3A\\x221\\x22,\\x22yellow_cards\\x22\\x3A\\x220\\x22,\\x22red_cards\\x22\\x3A\\x220\\x22,\\x22position\\x22\\x3A\\x22M\\x20S\\x22,\\x22team_title\\x22\\x3A\\x22AC\\x20Milan\\x22,\\x22npg\\x22\\x3A\\x220\\x22,\\x22npxG\\x22\\x3A\\x220.08848053216934204\\x22,\\x22xGChain\\x22\\x3A\\x220.3900935724377632\\x22,\\x22xGBuildup\\x22\\x3A\\x220.2542949002236128\\x22\\x7D,\\x7B\\x22id\\x22\\x3A\\x223429\\x22,\\x22player_name\\x22\\x3A\\x22Tiemou\\x5Cu00e9\\x20Bakayoko\\x22,\\x22games\\x22\\x3A\\x224\\x22,\\x22time\\x22\\x3A\\x2292\\x22,\\x22goals\\x22\\x3A\\x220\\x22,\\x22xG\\x22\\x3A\\x220.022206025198101997\\x22,\\x22assists\\x22\\x3A\\x220\\x22,\\x22xA\\x22\\x3A\\x220.015446367673575878\\x22,\\x22shots\\x22\\x3A\\x221\\x22,\\x22key_passes\\x22\\x3A\\x221\\x22,\\x22yellow_cards\\x22\\x3A\\x222\\x22,\\x22red_cards\\x22\\x3A\\x220\\x22,\\x22position\\x22\\x3A\\x22S\\x22,\\x22team_title\\x22\\x3A\\x22AC\\x20Milan\\x22,\\x22npg\\x22\\x3A\\x220\\x22,\\x22npxG\\x22\\x3A\\x220.022206025198101997\\x22,\\x22xGChain\\x22\\x3A\\x221.1892487360164523\\x22,\\x22xGBuildup\\x22\\x3A\\x221.1515963450074196\\x22\\x7D,\\x7B\\x22id\\x22\\x3A\\x223737\\x22,\\x22player_name\\x22\\x3A\\x22Mike\\x20Maignan\\x22,\\x22games\\x22\\x3A\\x227\\x22,\\x22time\\x22\\x3A\\x22630\\x22,\\x22goals\\x22\\x3A\\x220\\x22,\\x22xG\\x22\\x3A\\x220\\x22,\\x22assists\\x22\\x3A\\x220\\x22,\\x22xA\\x22\\x3A\\x220.055707965046167374\\x22,\\x22shots\\x22\\x3A\\x220\\x22,\\x22key_passes\\x22\\x3A\\x221\\x22,\\x22yellow_cards\\x22\\x3A\\x220\\x22,\\x22red_cards\\x22\\x3A\\x220\\x22,\\x22position\\x22\\x3A\\x22GK\\x22,\\x22team_title\\x22\\x3A\\x22AC\\x20Milan\\x22,\\x22npg\\x22\\x3A\\x220\\x22,\\x22npxG\\x22\\x3A\\x220\\x22,\\x22xGChain\\x22\\x3A\\x221.6590053588151932\\x22,\\x22xGBuildup\\x22\\x3A\\x221.6032974049448967\\x22\\x7D,\\x7B\\x22id\\x22\\x3A\\x224699\\x22,\\x22player_name\\x22\\x3A\\x22Simon\\x20Kjaer\\x22,\\x22games\\x22\\x3A\\x227\\x22,\\x22time\\x22\\x3A\\x22529\\x22,\\x22goals\\x22\\x3A\\x220\\x22,\\x22xG\\x22\\x3A\\x220.14531079307198524\\x22,\\x22assists\\x22\\x3A\\x220\\x22,\\x22xA\\x22\\x3A\\x220\\x22,\\x22shots\\x22\\x3A\\x222\\x22,\\x22key_passes\\x22\\x3A\\x220\\x22,\\x22yellow_cards\\x22\\x3A\\x221\\x22,\\x22red_cards\\x22\\x3A\\x220\\x22,\\x22position\\x22\\x3A\\x22D\\x20S\\x22,\\x22team_title\\x22\\x3A\\x22AC\\x20Milan\\x22,\\x22npg\\x22\\x3A\\x220\\x22,\\x22npxG\\x22\\x3A\\x220.14531079307198524\\x22,\\x22xGChain\\x22\\x3A\\x221.2283532908186316\\x22,\\x22xGBuildup\\x22\\x3A\\x221.2283532908186316\\x22\\x7D,\\x7B\\x22id\\x22\\x3A\\x224920\\x22,\\x22player_name\\x22\\x3A\\x22Matteo\\x20Gabbia\\x22,\\x22games\\x22\\x3A\\x221\\x22,\\x22time\\x22\\x3A\\x2259\\x22,\\x22goals\\x22\\x3A\\x220\\x22,\\x22xG\\x22\\x3A\\x220\\x22,\\x22assists\\x22\\x3A\\x220\\x22,\\x22xA\\x22\\x3A\\x220\\x22,\\x22shots\\x22\\x3A\\x220\\x22,\\x22key_passes\\x22\\x3A\\x220\\x22,\\x22yellow_cards\\x22\\x3A\\x220\\x22,\\x22red_cards\\x22\\x3A\\x220\\x22,\\x22position\\x22\\x3A\\x22D\\x22,\\x22team_title\\x22\\x3A\\x22AC\\x20Milan\\x22,\\x22npg\\x22\\x3A\\x220\\x22,\\x22npxG\\x22\\x3A\\x220\\x22,\\x22xGChain\\x22\\x3A\\x220.12558752298355103\\x22,\\x22xGBuildup\\x22\\x3A\\x220.12558752298355103\\x22\\x7D,\\x7B\\x22id\\x22\\x3A\\x224932\\x22,\\x22player_name\\x22\\x3A\\x22Pietro\\x20Pellegri\\x22,\\x22games\\x22\\x3A\\x223\\x22,\\x22time\\x22\\x3A\\x2261\\x22,\\x22goals\\x22\\x3A\\x220\\x22,\\x22xG\\x22\\x3A\\x220.1104717031121254\\x22,\\x22assists\\x22\\x3A\\x220\\x22,\\x22xA\\x22\\x3A\\x220.15499094314873219\\x22,\\x22shots\\x22\\x3A\\x222\\x22,\\x22key_passes\\x22\\x3A\\x222\\x22,\\x22yellow_cards\\x22\\x3A\\x220\\x22,\\x22red_cards\\x22\\x3A\\x220\\x22,\\x22position\\x22\\x3A\\x22S\\x22,\\x22team_title\\x22\\x3A\\x22AC\\x20Milan\\x22,\\x22npg\\x22\\x3A\\x220\\x22,\\x22npxG\\x22\\x3A\\x220.1104717031121254\\x22,\\x22xGChain\\x22\\x3A\\x220.2654626537114382\\x22,\\x22xGBuildup\\x22\\x3A\\x220.019132809713482857\\x22\\x7D,\\x7B\\x22id\\x22\\x3A\\x225803\\x22,\\x22player_name\\x22\\x3A\\x22Fode\\x20Toure\\x22,\\x22games\\x22\\x3A\\x226\\x22,\\x22time\\x22\\x3A\\x22270\\x22,\\x22goals\\x22\\x3A\\x220\\x22,\\x22xG\\x22\\x3A\\x220.27218129858374596\\x22,\\x22assists\\x22\\x3A\\x220\\x22,\\x22xA\\x22\\x3A\\x220.0987354414537549\\x22,\\x22shots\\x22\\x3A\\x222\\x22,\\x22key_passes\\x22\\x3A\\x223\\x22,\\x22yellow_cards\\x22\\x3A\\x221\\x22,\\x22red_cards\\x22\\x3A\\x220\\x22,\\x22position\\x22\\x3A\\x22D\\x20S\\x22,\\x22team_title\\x22\\x3A\\x22AC\\x20Milan\\x22,\\x22npg\\x22\\x3A\\x220\\x22,\\x22npxG\\x22\\x3A\\x220.27218129858374596\\x22,\\x22xGChain\\x22\\x3A\\x220.46847672760486603\\x22,\\x22xGBuildup\\x22\\x3A\\x220.3697412796318531\\x22\\x7D,\\x7B\\x22id\\x22\\x3A\\x228297\\x22,\\x22player_name\\x22\\x3A\\x22Alexis\\x20Saelemaekers\\x22,\\x22games\\x22\\x3A\\x2211\\x22,\\x22time\\x22\\x3A\\x22699\\x22,\\x22goals\\x22\\x3A\\x220\\x22,\\x22xG\\x22\\x3A\\x221.0294829485937953\\x22,\\x22assists\\x22\\x3A\\x222\\x22,\\x22xA\\x22\\x3A\\x221.6772466395050287\\x22,\\x22shots\\x22\\x3A\\x2213\\x22,\\x22key_passes\\x22\\x3A\\x2210\\x22,\\x22yellow_cards\\x22\\x3A\\x221\\x22,\\x22red_cards\\x22\\x3A\\x220\\x22,\\x22position\\x22\\x3A\\x22M\\x20S\\x22,\\x22team_title\\x22\\x3A\\x22AC\\x20Milan\\x22,\\x22npg\\x22\\x3A\\x220\\x22,\\x22npxG\\x22\\x3A\\x221.0294829485937953\\x22,\\x22xGChain\\x22\\x3A\\x226.424603048712015\\x22,\\x22xGBuildup\\x22\\x3A\\x224.204738762229681\\x22\\x7D,\\x7B\\x22id\\x22\\x3A\\x228313\\x22,\\x22player_name\\x22\\x3A\\x22Pierre\\x20Kalulu\\x20Kyatengwa\\x22,\\x22games\\x22\\x3A\\x225\\x22,\\x22time\\x22\\x3A\\x22266\\x22,\\x22goals\\x22\\x3A\\x220\\x22,\\x22xG\\x22\\x3A\\x220.3420294374227524\\x22,\\x22assists\\x22\\x3A\\x221\\x22,\\x22xA\\x22\\x3A\\x220.48948531597852707\\x22,\\x22shots\\x22\\x3A\\x222\\x22,\\x22key_passes\\x22\\x3A\\x224\\x22,\\x22yellow_cards\\x22\\x3A\\x221\\x22,\\x22red_cards\\x22\\x3A\\x220\\x22,\\x22position\\x22\\x3A\\x22D\\x20S\\x22,\\x22team_title\\x22\\x3A\\x22AC\\x20Milan\\x22,\\x22npg\\x22\\x3A\\x220\\x22,\\x22npxG\\x22\\x3A\\x220.3420294374227524\\x22,\\x22xGChain\\x22\\x3A\\x222.157872222363949\\x22,\\x22xGBuildup\\x22\\x3A\\x221.4330925717949867\\x22\\x7D,\\x7B\\x22id\\x22\\x3A\\x228838\\x22,\\x22player_name\\x22\\x3A\\x22Junior\\x20Messias\\x22,\\x22games\\x22\\x3A\\x221\\x22,\\x22time\\x22\\x3A\\x2215\\x22,\\x22goals\\x22\\x3A\\x220\\x22,\\x22xG\\x22\\x3A\\x220\\x22,\\x22assists\\x22\\x3A\\x220\\x22,\\x22xA\\x22\\x3A\\x220\\x22,\\x22shots\\x22\\x3A\\x220\\x22,\\x22key_passes\\x22\\x3A\\x220\\x22,\\x22yellow_cards\\x22\\x3A\\x221\\x22,\\x22red_cards\\x22\\x3A\\x220\\x22,\\x22position\\x22\\x3A\\x22S\\x22,\\x22team_title\\x22\\x3A\\x22AC\\x20Milan\\x22,\\x22npg\\x22\\x3A\\x220\\x22,\\x22npxG\\x22\\x3A\\x220\\x22,\\x22xGChain\\x22\\x3A\\x220.11754366010427475\\x22,\\x22xGBuildup\\x22\\x3A\\x220.11754366010427475\\x22\\x7D\\x5D');\n",
       " </script>,\n",
       " <script defer=\"\" src=\"//ajax.googleapis.com/ajax/libs/jquery/1.9.1/jquery.min.js\" type=\"text/javascript\"></script>,\n",
       " <script src=\"//ajax.googleapis.com/ajax/libs/webfont/1.6.26/webfont.js\" type=\"text/javascript\"></script>,\n",
       " <script>\n",
       " \t\tWebFont.load({\n",
       " \t\t\tgoogle: {\n",
       " \t\t\t\tfamilies: ['Barlow:500', 'Anton']\n",
       " \t\t\t},\n",
       " \t\t\tactive: function(){\n",
       " \t\t\t\tflagFontsLoading = true;\n",
       " \t\t\t}\n",
       " \t\t});\n",
       " \t\tvar BASE_URL = 'https://understat.com/',\n",
       " \t\t\tPROMOTION =  JSON.parse('\\x7B\\x22id\\x22\\x3A\\x227\\x22,\\x22name\\x22\\x3A\\x22adsense\\x22,\\x22template\\x22\\x3A\\x22\\x3Cins\\x20class\\x3D\\x5C\\x22adsbygoogle\\x5C\\x22\\x20style\\x3D\\x5C\\x22display\\x3Ablock\\x5C\\x22\\x20data\\x2Dad\\x2Dclient\\x3D\\x5C\\x22ca\\x2Dpub\\x2D7470116180195095\\x5C\\x22\\x20data\\x2Dad\\x2Dslot\\x3D\\x5C\\x222199699885\\x5C\\x22\\x20data\\x2Dad\\x2Dformat\\x3D\\x5C\\x22auto\\x5C\\x22\\x20data\\x2Dfull\\x2Dwidth\\x2Dresponsive\\x3D\\x5C\\x22true\\x5C\\x22\\x3E\\x3C\\x5C\\x2Fins\\x3E\\x22,\\x22js\\x22\\x3A\\x22\\x28adsbygoogle\\x20\\x3D\\x20window.adsbygoogle\\x20\\x7C\\x7C\\x20\\x5B\\x5D\\x29.push\\x28\\x7B\\x7D\\x29\\x3B\\x22,\\x22countries_list_type\\x22\\x3A\\x22black\\x22,\\x22clicks\\x22\\x3A\\x223719\\x22\\x7D') ;\n",
       " \t</script>,\n",
       " <script async=\"\" src=\"//pagead2.googlesyndication.com/pagead/js/adsbygoogle.js\"></script>,\n",
       " <script defer=\"\" src=\"//code.jquery.com/jquery-1.12.4.js\" type=\"text/javascript\"></script>,\n",
       " <script defer=\"\" src=\"//code.jquery.com/ui/1.12.1/jquery-ui.js\" type=\"text/javascript\"></script>,\n",
       " <script defer=\"\" src=\"js/jquery.iframetracker.min.js?v=2\" type=\"text/javascript\"></script>,\n",
       " <script defer=\"\" src=\"//cdnjs.cloudflare.com/ajax/libs/Chart.js/2.7.2/Chart.min.js\" type=\"text/javascript\"></script>,\n",
       " <script defer=\"\" src=\"js/timsort.js?v=2\" type=\"text/javascript\"></script>,\n",
       " <script defer=\"\" src=\"js/tooltip.js?v=2\" type=\"text/javascript\"></script>,\n",
       " <script defer=\"\" src=\"js/pagination.js?v=2\" type=\"text/javascript\"></script>,\n",
       " <script defer=\"\" src=\"js/select.js?v=2.1\" type=\"text/javascript\"></script>,\n",
       " <script defer=\"\" src=\"js/jquery.mousewheel.js?v=2\" type=\"text/javascript\"></script>,\n",
       " <script defer=\"\" src=\"js/modernizr.js?v=2\" type=\"text/javascript\"></script>,\n",
       " <script defer=\"\" src=\"js/simplebar.js?v=2\" type=\"text/javascript\"></script>,\n",
       " <script defer=\"\" src=\"js/typeahead.bundle.js?v=2\" type=\"text/javascript\"></script>,\n",
       " <script defer=\"\" src=\"js/jTable.js?v=2.6\" type=\"text/javascript\"></script>,\n",
       " <script defer=\"\" src=\"js/main.js?v=2.9\" type=\"text/javascript\"></script>,\n",
       " <script>\n",
       " \t\t(function(i,s,o,g,r,a,m){i['GoogleAnalyticsObject']=r;i[r]=i[r]||function(){\n",
       " \t\t(i[r].q=i[r].q||[]).push(arguments)},i[r].l=1*new Date();a=s.createElement(o),\n",
       " \t\tm=s.getElementsByTagName(o)[0];a.async=1;a.src=g;m.parentNode.insertBefore(a,m)\n",
       " \t\t})(window,document,'script','https://www.google-analytics.com/analytics.js','ga');\n",
       " \t\tga('create', 'UA-101482034-1', 'auto');\t\n",
       " \t\tga('send', 'pageview');\n",
       " \t\t\n",
       " \t\t\t\t\twindow.onload = function() { (adsbygoogle = window.adsbygoogle || []).push({}); }\n",
       " \t\t\t</script>,\n",
       " <script defer=\"\" src=\"js/date.format.min.js?v=2\" type=\"text/javascript\"></script>,\n",
       " <script defer=\"\" src=\"js/calendar.js?v=2.1\" type=\"text/javascript\"></script>,\n",
       " <script defer=\"\" src=\"js/team.js?v=2.5\" type=\"text/javascript\"></script>]"
      ]
     },
     "execution_count": 5,
     "metadata": {},
     "output_type": "execute_result"
    }
   ],
   "source": [
    "page_html.findAll(name='script')"
   ]
  },
  {
   "cell_type": "code",
   "execution_count": 6,
   "metadata": {},
   "outputs": [
    {
     "data": {
      "text/plain": [
       "<script>\n",
       "\tvar statisticsData = JSON.parse('\\x7B\\x22situation\\x22\\x3A\\x7B\\x22OpenPlay\\x22\\x3A\\x7B\\x22shots\\x22\\x3A120,\\x22goals\\x22\\x3A17,\\x22xG\\x22\\x3A14.272164053283631801605224609375,\\x22against\\x22\\x3A\\x7B\\x22shots\\x22\\x3A86,\\x22goals\\x22\\x3A7,\\x22xG\\x22\\x3A7.1619589454494416713714599609375\\x7D\\x7D,\\x22FromCorner\\x22\\x3A\\x7B\\x22shots\\x22\\x3A15,\\x22goals\\x22\\x3A3,\\x22xG\\x22\\x3A2.311275775544345378875732421875,\\x22against\\x22\\x3A\\x7B\\x22shots\\x22\\x3A30,\\x22goals\\x22\\x3A1,\\x22xG\\x22\\x3A2.9723885692656040191650390625\\x7D\\x7D,\\x22SetPiece\\x22\\x3A\\x7B\\x22shots\\x22\\x3A13,\\x22goals\\x22\\x3A0,\\x22xG\\x22\\x3A1.19378364272415637969970703125,\\x22against\\x22\\x3A\\x7B\\x22shots\\x22\\x3A6,\\x22goals\\x22\\x3A0,\\x22xG\\x22\\x3A0.4806001116521656513214111328125\\x7D\\x7D,\\x22DirectFreekick\\x22\\x3A\\x7B\\x22shots\\x22\\x3A8,\\x22goals\\x22\\x3A2,\\x22xG\\x22\\x3A0.5082694254815578460693359375,\\x22against\\x22\\x3A\\x7B\\x22shots\\x22\\x3A6,\\x22goals\\x22\\x3A0,\\x22xG\\x22\\x3A0.2802951149642467498779296875\\x7D\\x7D,\\x22Penalty\\x22\\x3A\\x7B\\x22shots\\x22\\x3A4,\\x22goals\\x22\\x3A3,\\x22xG\\x22\\x3A3.0451953411102294921875,\\x22against\\x22\\x3A\\x7B\\x22shots\\x22\\x3A2,\\x22goals\\x22\\x3A2,\\x22xG\\x22\\x3A1.52259767055511474609375\\x7D\\x7D\\x7D,\\x22formation\\x22\\x3A\\x7B\\x224\\x2D2\\x2D3\\x2D1\\x22\\x3A\\x7B\\x22stat\\x22\\x3A\\x224\\x2D2\\x2D3\\x2D1\\x22,\\x22time\\x22\\x3A961,\\x22shots\\x22\\x3A150,\\x22goals\\x22\\x3A23,\\x22xG\\x22\\x3A20.91005382873117923736572265625,\\x22against\\x22\\x3A\\x7B\\x22shots\\x22\\x3A111,\\x22goals\\x22\\x3A9,\\x22xG\\x22\\x3A11.330108868889510631561279296875\\x7D\\x7D,\\x224\\x2D4\\x2D2\\x22\\x3A\\x7B\\x22stat\\x22\\x3A\\x224\\x2D4\\x2D2\\x22,\\x22time\\x22\\x3A36,\\x22shots\\x22\\x3A8,\\x22goals\\x22\\x3A2,\\x22xG\\x22\\x3A0.3328879289329051971435546875,\\x22against\\x22\\x3A\\x7B\\x22shots\\x22\\x3A5,\\x22goals\\x22\\x3A0,\\x22xG\\x22\\x3A0.241995700635015964508056640625\\x7D\\x7D,\\x225\\x2D3\\x2D2\\x22\\x3A\\x7B\\x22stat\\x22\\x3A\\x225\\x2D3\\x2D2\\x22,\\x22time\\x22\\x3A23,\\x22shots\\x22\\x3A1,\\x22goals\\x22\\x3A0,\\x22xG\\x22\\x3A0.068613670766353607177734375,\\x22against\\x22\\x3A\\x7B\\x22shots\\x22\\x3A12,\\x22goals\\x22\\x3A1,\\x22xG\\x22\\x3A0.75585009343922138214111328125\\x7D\\x7D,\\x224\\x2D3\\x2D3\\x22\\x3A\\x7B\\x22stat\\x22\\x3A\\x224\\x2D3\\x2D3\\x22,\\x22time\\x22\\x3A13,\\x22shots\\x22\\x3A1,\\x22goals\\x22\\x3A0,\\x22xG\\x22\\x3A0.01913280971348285675048828125,\\x22against\\x22\\x3A\\x7B\\x22shots\\x22\\x3A2,\\x22goals\\x22\\x3A0,\\x22xG\\x22\\x3A0.089885748922824859619140625\\x7D\\x7D\\x7D,\\x22gameState\\x22\\x3A\\x7B\\x22Goal\\x20diff\\x20\\x2B1\\x22\\x3A\\x7B\\x22stat\\x22\\x3A\\x22Goal\\x20diff\\x20\\x2B1\\x22,\\x22time\\x22\\x3A365,\\x22shots\\x22\\x3A53,\\x22goals\\x22\\x3A7,\\x22xG\\x22\\x3A6.66987789236009120941162109375,\\x22against\\x22\\x3A\\x7B\\x22shots\\x22\\x3A57,\\x22goals\\x22\\x3A3,\\x22xG\\x22\\x3A4.4542122748680412769317626953125\\x7D\\x7D,\\x22Goal\\x20diff\\x200\\x22\\x3A\\x7B\\x22stat\\x22\\x3A\\x22Goal\\x20diff\\x200\\x22,\\x22time\\x22\\x3A337,\\x22shots\\x22\\x3A60,\\x22goals\\x22\\x3A13,\\x22xG\\x22\\x3A9.92972537688910961151123046875,\\x22against\\x22\\x3A\\x7B\\x22shots\\x22\\x3A27,\\x22goals\\x22\\x3A2,\\x22xG\\x22\\x3A2.58229934982955455780029296875\\x7D\\x7D,\\x22Goal\\x20diff\\x20\\x3E\\x20\\x2B1\\x22\\x3A\\x7B\\x22stat\\x22\\x3A\\x22Goal\\x20diff\\x20\\x3E\\x20\\x2B1\\x22,\\x22time\\x22\\x3A185,\\x22shots\\x22\\x3A22,\\x22goals\\x22\\x3A2,\\x22xG\\x22\\x3A2.750497877597808837890625,\\x22against\\x22\\x3A\\x7B\\x22shots\\x22\\x3A36,\\x22goals\\x22\\x3A4,\\x22xG\\x22\\x3A3.9092138609848916530609130859375\\x7D\\x7D,\\x22Goal\\x20diff\\x20\\x2D1\\x22\\x3A\\x7B\\x22stat\\x22\\x3A\\x22Goal\\x20diff\\x20\\x2D1\\x22,\\x22time\\x22\\x3A109,\\x22shots\\x22\\x3A14,\\x22goals\\x22\\x3A2,\\x22xG\\x22\\x3A1.516100148670375347137451171875,\\x22against\\x22\\x3A\\x7B\\x22shots\\x22\\x3A9,\\x22goals\\x22\\x3A1,\\x22xG\\x22\\x3A1.44398309104144573211669921875\\x7D\\x7D,\\x22Goal\\x20diff\\x20\\x3C\\x20\\x2D1\\x22\\x3A\\x7B\\x22stat\\x22\\x3A\\x22Goal\\x20diff\\x20\\x3C\\x20\\x2D1\\x22,\\x22time\\x22\\x3A37,\\x22shots\\x22\\x3A11,\\x22goals\\x22\\x3A1,\\x22xG\\x22\\x3A0.464486942626535892486572265625,\\x22against\\x22\\x3A\\x7B\\x22shots\\x22\\x3A1,\\x22goals\\x22\\x3A0,\\x22xG\\x22\\x3A0.028131835162639617919921875\\x7D\\x7D\\x7D,\\x22timing\\x22\\x3A\\x7B\\x221\\x2D15\\x22\\x3A\\x7B\\x22stat\\x22\\x3A\\x221\\x2D15\\x22,\\x22shots\\x22\\x3A26,\\x22goals\\x22\\x3A5,\\x22xG\\x22\\x3A4.312740839086472988128662109375,\\x22against\\x22\\x3A\\x7B\\x22shots\\x22\\x3A21,\\x22goals\\x22\\x3A3,\\x22xG\\x22\\x3A2.1898592151701450347900390625\\x7D\\x7D,\\x2216\\x2D30\\x22\\x3A\\x7B\\x22stat\\x22\\x3A\\x2216\\x2D30\\x22,\\x22shots\\x22\\x3A33,\\x22goals\\x22\\x3A3,\\x22xG\\x22\\x3A3.0123436152935028076171875,\\x22against\\x22\\x3A\\x7B\\x22shots\\x22\\x3A18,\\x22goals\\x22\\x3A1,\\x22xG\\x22\\x3A1.847026606090366840362548828125\\x7D\\x7D,\\x2231\\x2D45\\x22\\x3A\\x7B\\x22stat\\x22\\x3A\\x2231\\x2D45\\x22,\\x22shots\\x22\\x3A26,\\x22goals\\x22\\x3A4,\\x22xG\\x22\\x3A2.994414216838777065277099609375,\\x22against\\x22\\x3A\\x7B\\x22shots\\x22\\x3A13,\\x22goals\\x22\\x3A0,\\x22xG\\x22\\x3A0.767505620606243610382080078125\\x7D\\x7D,\\x2246\\x2D60\\x22\\x3A\\x7B\\x22stat\\x22\\x3A\\x2246\\x2D60\\x22,\\x22shots\\x22\\x3A31,\\x22goals\\x22\\x3A3,\\x22xG\\x22\\x3A4.122849275358021259307861328125,\\x22against\\x22\\x3A\\x7B\\x22shots\\x22\\x3A19,\\x22goals\\x22\\x3A2,\\x22xG\\x22\\x3A2.6213036873377859592437744140625\\x7D\\x7D,\\x2261\\x2D75\\x22\\x3A\\x7B\\x22stat\\x22\\x3A\\x2261\\x2D75\\x22,\\x22shots\\x22\\x3A19,\\x22goals\\x22\\x3A4,\\x22xG\\x22\\x3A3.498257077299058437347412109375,\\x22against\\x22\\x3A\\x7B\\x22shots\\x22\\x3A14,\\x22goals\\x22\\x3A0,\\x22xG\\x22\\x3A0.5985536319203674793243408203125\\x7D\\x7D,\\x2276\\x2B\\x22\\x3A\\x7B\\x22stat\\x22\\x3A\\x2276\\x2B\\x22,\\x22shots\\x22\\x3A25,\\x22goals\\x22\\x3A6,\\x22xG\\x22\\x3A3.39008321426808834075927734375,\\x22against\\x22\\x3A\\x7B\\x22shots\\x22\\x3A45,\\x22goals\\x22\\x3A4,\\x22xG\\x22\\x3A4.393591650761663913726806640625\\x7D\\x7D\\x7D,\\x22shotZone\\x22\\x3A\\x7B\\x22ownGoals\\x22\\x3A\\x7B\\x22stat\\x22\\x3A\\x22ownGoals\\x22,\\x22shots\\x22\\x3A1,\\x22goals\\x22\\x3A1,\\x22xG\\x22\\x3A1,\\x22against\\x22\\x3A\\x7B\\x22shots\\x22\\x3A1,\\x22goals\\x22\\x3A1,\\x22xG\\x22\\x3A1\\x7D\\x7D,\\x22shotOboxTotal\\x22\\x3A\\x7B\\x22stat\\x22\\x3A\\x22shotOboxTotal\\x22,\\x22shots\\x22\\x3A75,\\x22goals\\x22\\x3A5,\\x22xG\\x22\\x3A2.456561247818171977996826171875,\\x22against\\x22\\x3A\\x7B\\x22shots\\x22\\x3A46,\\x22goals\\x22\\x3A0,\\x22xG\\x22\\x3A1.1557416808791458606719970703125\\x7D\\x7D,\\x22shotPenaltyArea\\x22\\x3A\\x7B\\x22stat\\x22\\x3A\\x22shotPenaltyArea\\x22,\\x22shots\\x22\\x3A76,\\x22goals\\x22\\x3A15,\\x22xG\\x22\\x3A13.221664984710514545440673828125,\\x22against\\x22\\x3A\\x7B\\x22shots\\x22\\x3A72,\\x22goals\\x22\\x3A8,\\x22xG\\x22\\x3A7.4888924374245107173919677734375\\x7D\\x7D,\\x22shotSixYardBox\\x22\\x3A\\x7B\\x22stat\\x22\\x3A\\x22shotSixYardBox\\x22,\\x22shots\\x22\\x3A8,\\x22goals\\x22\\x3A4,\\x22xG\\x22\\x3A4.652462005615234375,\\x22against\\x22\\x3A\\x7B\\x22shots\\x22\\x3A11,\\x22goals\\x22\\x3A1,\\x22xG\\x22\\x3A2.773206293582916259765625\\x7D\\x7D\\x7D,\\x22attackSpeed\\x22\\x3A\\x7B\\x22Normal\\x22\\x3A\\x7B\\x22stat\\x22\\x3A\\x22Normal\\x22,\\x22shots\\x22\\x3A90,\\x22goals\\x22\\x3A13,\\x22xG\\x22\\x3A10.547093145549297332763671875,\\x22against\\x22\\x3A\\x7B\\x22shots\\x22\\x3A76,\\x22goals\\x22\\x3A6,\\x22xG\\x22\\x3A6.3560974518768489360809326171875\\x7D\\x7D,\\x22Standard\\x22\\x3A\\x7B\\x22stat\\x22\\x3A\\x22Standard\\x22,\\x22shots\\x22\\x3A40,\\x22goals\\x22\\x3A8,\\x22xG\\x22\\x3A7.058524184860289096832275390625,\\x22against\\x22\\x3A\\x7B\\x22shots\\x22\\x3A44,\\x22goals\\x22\\x3A3,\\x22xG\\x22\\x3A5.2558814664371311664581298828125\\x7D\\x7D,\\x22Slow\\x22\\x3A\\x7B\\x22stat\\x22\\x3A\\x22Slow\\x22,\\x22shots\\x22\\x3A18,\\x22goals\\x22\\x3A2,\\x22xG\\x22\\x3A1.940828765742480754852294921875,\\x22against\\x22\\x3A\\x7B\\x22shots\\x22\\x3A7,\\x22goals\\x22\\x3A0,\\x22xG\\x22\\x3A0.34052268974483013153076171875\\x7D\\x7D,\\x22Fast\\x22\\x3A\\x7B\\x22stat\\x22\\x3A\\x22Fast\\x22,\\x22shots\\x22\\x3A12,\\x22goals\\x22\\x3A2,\\x22xG\\x22\\x3A1.7842421419918537139892578125,\\x22against\\x22\\x3A\\x7B\\x22shots\\x22\\x3A3,\\x22goals\\x22\\x3A1,\\x22xG\\x22\\x3A0.465338803827762603759765625\\x7D\\x7D\\x7D,\\x22result\\x22\\x3A\\x7B\\x22SavedShot\\x22\\x3A\\x7B\\x22shots\\x22\\x3A23,\\x22goals\\x22\\x3A0,\\x22xG\\x22\\x3A2.445684569887816905975341796875,\\x22against\\x22\\x3A\\x7B\\x22shots\\x22\\x3A31,\\x22goals\\x22\\x3A0,\\x22xG\\x22\\x3A2.10800665803253650665283203125\\x7D\\x7D,\\x22Goal\\x22\\x3A\\x7B\\x22shots\\x22\\x3A25,\\x22goals\\x22\\x3A25,\\x22xG\\x22\\x3A9.995565928518772125244140625,\\x22against\\x22\\x3A\\x7B\\x22shots\\x22\\x3A10,\\x22goals\\x22\\x3A10,\\x22xG\\x22\\x3A4.23456302843987941741943359375\\x7D\\x7D,\\x22MissedShots\\x22\\x3A\\x7B\\x22shots\\x22\\x3A64,\\x22goals\\x22\\x3A0,\\x22xG\\x22\\x3A5.15272756107151508331298828125,\\x22against\\x22\\x3A\\x7B\\x22shots\\x22\\x3A51,\\x22goals\\x22\\x3A0,\\x22xG\\x22\\x3A4.0255738967098295688629150390625\\x7D\\x7D,\\x22BlockedShot\\x22\\x3A\\x7B\\x22shots\\x22\\x3A46,\\x22goals\\x22\\x3A0,\\x22xG\\x22\\x3A2.935748941265046596527099609375,\\x22against\\x22\\x3A\\x7B\\x22shots\\x22\\x3A38,\\x22goals\\x22\\x3A0,\\x22xG\\x22\\x3A2.0496968287043273448944091796875\\x7D\\x7D,\\x22ShotOnPost\\x22\\x3A\\x7B\\x22shots\\x22\\x3A2,\\x22goals\\x22\\x3A0,\\x22xG\\x22\\x3A0.8009612374007701873779296875,\\x22against\\x22\\x3A\\x7B\\x22shots\\x22\\x3A0,\\x22goals\\x22\\x3A0,\\x22xG\\x22\\x3A0\\x7D\\x7D\\x7D\\x7D');\n",
       "</script>"
      ]
     },
     "execution_count": 6,
     "metadata": {},
     "output_type": "execute_result"
    }
   ],
   "source": [
    "#Finding the desired script where data is stored.\n",
    "page_html.findAll(name='script')[2]"
   ]
  },
  {
   "cell_type": "code",
   "execution_count": 7,
   "metadata": {},
   "outputs": [
    {
     "data": {
      "text/plain": [
       "\"\\n\\tvar statisticsData = JSON.parse('\\\\x7B\\\\x22situation\\\\x22\\\\x3A\\\\x7B\\\\x22OpenPlay\\\\x22\\\\x3A\\\\x7B\\\\x22shots\\\\x22\\\\x3A120,\\\\x22goals\\\\x22\\\\x3A17,\\\\x22xG\\\\x22\\\\x3A14.272164053283631801605224609375,\\\\x22against\\\\x22\\\\x3A\\\\x7B\\\\x22shots\\\\x22\\\\x3A86,\\\\x22goals\\\\x22\\\\x3A7,\\\\x22xG\\\\x22\\\\x3A7.1619589454494416713714599609375\\\\x7D\\\\x7D,\\\\x22FromCorner\\\\x22\\\\x3A\\\\x7B\\\\x22shots\\\\x22\\\\x3A15,\\\\x22goals\\\\x22\\\\x3A3,\\\\x22xG\\\\x22\\\\x3A2.311275775544345378875732421875,\\\\x22against\\\\x22\\\\x3A\\\\x7B\\\\x22shots\\\\x22\\\\x3A30,\\\\x22goals\\\\x22\\\\x3A1,\\\\x22xG\\\\x22\\\\x3A2.9723885692656040191650390625\\\\x7D\\\\x7D,\\\\x22SetPiece\\\\x22\\\\x3A\\\\x7B\\\\x22shots\\\\x22\\\\x3A13,\\\\x22goals\\\\x22\\\\x3A0,\\\\x22xG\\\\x22\\\\x3A1.19378364272415637969970703125,\\\\x22against\\\\x22\\\\x3A\\\\x7B\\\\x22shots\\\\x22\\\\x3A6,\\\\x22goals\\\\x22\\\\x3A0,\\\\x22xG\\\\x22\\\\x3A0.4806001116521656513214111328125\\\\x7D\\\\x7D,\\\\x22DirectFreekick\\\\x22\\\\x3A\\\\x7B\\\\x22shots\\\\x22\\\\x3A8,\\\\x22goals\\\\x22\\\\x3A2,\\\\x22xG\\\\x22\\\\x3A0.5082694254815578460693359375,\\\\x22against\\\\x22\\\\x3A\\\\x7B\\\\x22shots\\\\x22\\\\x3A6,\\\\x22goals\\\\x22\\\\x3A0,\\\\x22xG\\\\x22\\\\x3A0.2802951149642467498779296875\\\\x7D\\\\x7D,\\\\x22Penalty\\\\x22\\\\x3A\\\\x7B\\\\x22shots\\\\x22\\\\x3A4,\\\\x22goals\\\\x22\\\\x3A3,\\\\x22xG\\\\x22\\\\x3A3.0451953411102294921875,\\\\x22against\\\\x22\\\\x3A\\\\x7B\\\\x22shots\\\\x22\\\\x3A2,\\\\x22goals\\\\x22\\\\x3A2,\\\\x22xG\\\\x22\\\\x3A1.52259767055511474609375\\\\x7D\\\\x7D\\\\x7D,\\\\x22formation\\\\x22\\\\x3A\\\\x7B\\\\x224\\\\x2D2\\\\x2D3\\\\x2D1\\\\x22\\\\x3A\\\\x7B\\\\x22stat\\\\x22\\\\x3A\\\\x224\\\\x2D2\\\\x2D3\\\\x2D1\\\\x22,\\\\x22time\\\\x22\\\\x3A961,\\\\x22shots\\\\x22\\\\x3A150,\\\\x22goals\\\\x22\\\\x3A23,\\\\x22xG\\\\x22\\\\x3A20.91005382873117923736572265625,\\\\x22against\\\\x22\\\\x3A\\\\x7B\\\\x22shots\\\\x22\\\\x3A111,\\\\x22goals\\\\x22\\\\x3A9,\\\\x22xG\\\\x22\\\\x3A11.330108868889510631561279296875\\\\x7D\\\\x7D,\\\\x224\\\\x2D4\\\\x2D2\\\\x22\\\\x3A\\\\x7B\\\\x22stat\\\\x22\\\\x3A\\\\x224\\\\x2D4\\\\x2D2\\\\x22,\\\\x22time\\\\x22\\\\x3A36,\\\\x22shots\\\\x22\\\\x3A8,\\\\x22goals\\\\x22\\\\x3A2,\\\\x22xG\\\\x22\\\\x3A0.3328879289329051971435546875,\\\\x22against\\\\x22\\\\x3A\\\\x7B\\\\x22shots\\\\x22\\\\x3A5,\\\\x22goals\\\\x22\\\\x3A0,\\\\x22xG\\\\x22\\\\x3A0.241995700635015964508056640625\\\\x7D\\\\x7D,\\\\x225\\\\x2D3\\\\x2D2\\\\x22\\\\x3A\\\\x7B\\\\x22stat\\\\x22\\\\x3A\\\\x225\\\\x2D3\\\\x2D2\\\\x22,\\\\x22time\\\\x22\\\\x3A23,\\\\x22shots\\\\x22\\\\x3A1,\\\\x22goals\\\\x22\\\\x3A0,\\\\x22xG\\\\x22\\\\x3A0.068613670766353607177734375,\\\\x22against\\\\x22\\\\x3A\\\\x7B\\\\x22shots\\\\x22\\\\x3A12,\\\\x22goals\\\\x22\\\\x3A1,\\\\x22xG\\\\x22\\\\x3A0.75585009343922138214111328125\\\\x7D\\\\x7D,\\\\x224\\\\x2D3\\\\x2D3\\\\x22\\\\x3A\\\\x7B\\\\x22stat\\\\x22\\\\x3A\\\\x224\\\\x2D3\\\\x2D3\\\\x22,\\\\x22time\\\\x22\\\\x3A13,\\\\x22shots\\\\x22\\\\x3A1,\\\\x22goals\\\\x22\\\\x3A0,\\\\x22xG\\\\x22\\\\x3A0.01913280971348285675048828125,\\\\x22against\\\\x22\\\\x3A\\\\x7B\\\\x22shots\\\\x22\\\\x3A2,\\\\x22goals\\\\x22\\\\x3A0,\\\\x22xG\\\\x22\\\\x3A0.089885748922824859619140625\\\\x7D\\\\x7D\\\\x7D,\\\\x22gameState\\\\x22\\\\x3A\\\\x7B\\\\x22Goal\\\\x20diff\\\\x20\\\\x2B1\\\\x22\\\\x3A\\\\x7B\\\\x22stat\\\\x22\\\\x3A\\\\x22Goal\\\\x20diff\\\\x20\\\\x2B1\\\\x22,\\\\x22time\\\\x22\\\\x3A365,\\\\x22shots\\\\x22\\\\x3A53,\\\\x22goals\\\\x22\\\\x3A7,\\\\x22xG\\\\x22\\\\x3A6.66987789236009120941162109375,\\\\x22against\\\\x22\\\\x3A\\\\x7B\\\\x22shots\\\\x22\\\\x3A57,\\\\x22goals\\\\x22\\\\x3A3,\\\\x22xG\\\\x22\\\\x3A4.4542122748680412769317626953125\\\\x7D\\\\x7D,\\\\x22Goal\\\\x20diff\\\\x200\\\\x22\\\\x3A\\\\x7B\\\\x22stat\\\\x22\\\\x3A\\\\x22Goal\\\\x20diff\\\\x200\\\\x22,\\\\x22time\\\\x22\\\\x3A337,\\\\x22shots\\\\x22\\\\x3A60,\\\\x22goals\\\\x22\\\\x3A13,\\\\x22xG\\\\x22\\\\x3A9.92972537688910961151123046875,\\\\x22against\\\\x22\\\\x3A\\\\x7B\\\\x22shots\\\\x22\\\\x3A27,\\\\x22goals\\\\x22\\\\x3A2,\\\\x22xG\\\\x22\\\\x3A2.58229934982955455780029296875\\\\x7D\\\\x7D,\\\\x22Goal\\\\x20diff\\\\x20\\\\x3E\\\\x20\\\\x2B1\\\\x22\\\\x3A\\\\x7B\\\\x22stat\\\\x22\\\\x3A\\\\x22Goal\\\\x20diff\\\\x20\\\\x3E\\\\x20\\\\x2B1\\\\x22,\\\\x22time\\\\x22\\\\x3A185,\\\\x22shots\\\\x22\\\\x3A22,\\\\x22goals\\\\x22\\\\x3A2,\\\\x22xG\\\\x22\\\\x3A2.750497877597808837890625,\\\\x22against\\\\x22\\\\x3A\\\\x7B\\\\x22shots\\\\x22\\\\x3A36,\\\\x22goals\\\\x22\\\\x3A4,\\\\x22xG\\\\x22\\\\x3A3.9092138609848916530609130859375\\\\x7D\\\\x7D,\\\\x22Goal\\\\x20diff\\\\x20\\\\x2D1\\\\x22\\\\x3A\\\\x7B\\\\x22stat\\\\x22\\\\x3A\\\\x22Goal\\\\x20diff\\\\x20\\\\x2D1\\\\x22,\\\\x22time\\\\x22\\\\x3A109,\\\\x22shots\\\\x22\\\\x3A14,\\\\x22goals\\\\x22\\\\x3A2,\\\\x22xG\\\\x22\\\\x3A1.516100148670375347137451171875,\\\\x22against\\\\x22\\\\x3A\\\\x7B\\\\x22shots\\\\x22\\\\x3A9,\\\\x22goals\\\\x22\\\\x3A1,\\\\x22xG\\\\x22\\\\x3A1.44398309104144573211669921875\\\\x7D\\\\x7D,\\\\x22Goal\\\\x20diff\\\\x20\\\\x3C\\\\x20\\\\x2D1\\\\x22\\\\x3A\\\\x7B\\\\x22stat\\\\x22\\\\x3A\\\\x22Goal\\\\x20diff\\\\x20\\\\x3C\\\\x20\\\\x2D1\\\\x22,\\\\x22time\\\\x22\\\\x3A37,\\\\x22shots\\\\x22\\\\x3A11,\\\\x22goals\\\\x22\\\\x3A1,\\\\x22xG\\\\x22\\\\x3A0.464486942626535892486572265625,\\\\x22against\\\\x22\\\\x3A\\\\x7B\\\\x22shots\\\\x22\\\\x3A1,\\\\x22goals\\\\x22\\\\x3A0,\\\\x22xG\\\\x22\\\\x3A0.028131835162639617919921875\\\\x7D\\\\x7D\\\\x7D,\\\\x22timing\\\\x22\\\\x3A\\\\x7B\\\\x221\\\\x2D15\\\\x22\\\\x3A\\\\x7B\\\\x22stat\\\\x22\\\\x3A\\\\x221\\\\x2D15\\\\x22,\\\\x22shots\\\\x22\\\\x3A26,\\\\x22goals\\\\x22\\\\x3A5,\\\\x22xG\\\\x22\\\\x3A4.312740839086472988128662109375,\\\\x22against\\\\x22\\\\x3A\\\\x7B\\\\x22shots\\\\x22\\\\x3A21,\\\\x22goals\\\\x22\\\\x3A3,\\\\x22xG\\\\x22\\\\x3A2.1898592151701450347900390625\\\\x7D\\\\x7D,\\\\x2216\\\\x2D30\\\\x22\\\\x3A\\\\x7B\\\\x22stat\\\\x22\\\\x3A\\\\x2216\\\\x2D30\\\\x22,\\\\x22shots\\\\x22\\\\x3A33,\\\\x22goals\\\\x22\\\\x3A3,\\\\x22xG\\\\x22\\\\x3A3.0123436152935028076171875,\\\\x22against\\\\x22\\\\x3A\\\\x7B\\\\x22shots\\\\x22\\\\x3A18,\\\\x22goals\\\\x22\\\\x3A1,\\\\x22xG\\\\x22\\\\x3A1.847026606090366840362548828125\\\\x7D\\\\x7D,\\\\x2231\\\\x2D45\\\\x22\\\\x3A\\\\x7B\\\\x22stat\\\\x22\\\\x3A\\\\x2231\\\\x2D45\\\\x22,\\\\x22shots\\\\x22\\\\x3A26,\\\\x22goals\\\\x22\\\\x3A4,\\\\x22xG\\\\x22\\\\x3A2.994414216838777065277099609375,\\\\x22against\\\\x22\\\\x3A\\\\x7B\\\\x22shots\\\\x22\\\\x3A13,\\\\x22goals\\\\x22\\\\x3A0,\\\\x22xG\\\\x22\\\\x3A0.767505620606243610382080078125\\\\x7D\\\\x7D,\\\\x2246\\\\x2D60\\\\x22\\\\x3A\\\\x7B\\\\x22stat\\\\x22\\\\x3A\\\\x2246\\\\x2D60\\\\x22,\\\\x22shots\\\\x22\\\\x3A31,\\\\x22goals\\\\x22\\\\x3A3,\\\\x22xG\\\\x22\\\\x3A4.122849275358021259307861328125,\\\\x22against\\\\x22\\\\x3A\\\\x7B\\\\x22shots\\\\x22\\\\x3A19,\\\\x22goals\\\\x22\\\\x3A2,\\\\x22xG\\\\x22\\\\x3A2.6213036873377859592437744140625\\\\x7D\\\\x7D,\\\\x2261\\\\x2D75\\\\x22\\\\x3A\\\\x7B\\\\x22stat\\\\x22\\\\x3A\\\\x2261\\\\x2D75\\\\x22,\\\\x22shots\\\\x22\\\\x3A19,\\\\x22goals\\\\x22\\\\x3A4,\\\\x22xG\\\\x22\\\\x3A3.498257077299058437347412109375,\\\\x22against\\\\x22\\\\x3A\\\\x7B\\\\x22shots\\\\x22\\\\x3A14,\\\\x22goals\\\\x22\\\\x3A0,\\\\x22xG\\\\x22\\\\x3A0.5985536319203674793243408203125\\\\x7D\\\\x7D,\\\\x2276\\\\x2B\\\\x22\\\\x3A\\\\x7B\\\\x22stat\\\\x22\\\\x3A\\\\x2276\\\\x2B\\\\x22,\\\\x22shots\\\\x22\\\\x3A25,\\\\x22goals\\\\x22\\\\x3A6,\\\\x22xG\\\\x22\\\\x3A3.39008321426808834075927734375,\\\\x22against\\\\x22\\\\x3A\\\\x7B\\\\x22shots\\\\x22\\\\x3A45,\\\\x22goals\\\\x22\\\\x3A4,\\\\x22xG\\\\x22\\\\x3A4.393591650761663913726806640625\\\\x7D\\\\x7D\\\\x7D,\\\\x22shotZone\\\\x22\\\\x3A\\\\x7B\\\\x22ownGoals\\\\x22\\\\x3A\\\\x7B\\\\x22stat\\\\x22\\\\x3A\\\\x22ownGoals\\\\x22,\\\\x22shots\\\\x22\\\\x3A1,\\\\x22goals\\\\x22\\\\x3A1,\\\\x22xG\\\\x22\\\\x3A1,\\\\x22against\\\\x22\\\\x3A\\\\x7B\\\\x22shots\\\\x22\\\\x3A1,\\\\x22goals\\\\x22\\\\x3A1,\\\\x22xG\\\\x22\\\\x3A1\\\\x7D\\\\x7D,\\\\x22shotOboxTotal\\\\x22\\\\x3A\\\\x7B\\\\x22stat\\\\x22\\\\x3A\\\\x22shotOboxTotal\\\\x22,\\\\x22shots\\\\x22\\\\x3A75,\\\\x22goals\\\\x22\\\\x3A5,\\\\x22xG\\\\x22\\\\x3A2.456561247818171977996826171875,\\\\x22against\\\\x22\\\\x3A\\\\x7B\\\\x22shots\\\\x22\\\\x3A46,\\\\x22goals\\\\x22\\\\x3A0,\\\\x22xG\\\\x22\\\\x3A1.1557416808791458606719970703125\\\\x7D\\\\x7D,\\\\x22shotPenaltyArea\\\\x22\\\\x3A\\\\x7B\\\\x22stat\\\\x22\\\\x3A\\\\x22shotPenaltyArea\\\\x22,\\\\x22shots\\\\x22\\\\x3A76,\\\\x22goals\\\\x22\\\\x3A15,\\\\x22xG\\\\x22\\\\x3A13.221664984710514545440673828125,\\\\x22against\\\\x22\\\\x3A\\\\x7B\\\\x22shots\\\\x22\\\\x3A72,\\\\x22goals\\\\x22\\\\x3A8,\\\\x22xG\\\\x22\\\\x3A7.4888924374245107173919677734375\\\\x7D\\\\x7D,\\\\x22shotSixYardBox\\\\x22\\\\x3A\\\\x7B\\\\x22stat\\\\x22\\\\x3A\\\\x22shotSixYardBox\\\\x22,\\\\x22shots\\\\x22\\\\x3A8,\\\\x22goals\\\\x22\\\\x3A4,\\\\x22xG\\\\x22\\\\x3A4.652462005615234375,\\\\x22against\\\\x22\\\\x3A\\\\x7B\\\\x22shots\\\\x22\\\\x3A11,\\\\x22goals\\\\x22\\\\x3A1,\\\\x22xG\\\\x22\\\\x3A2.773206293582916259765625\\\\x7D\\\\x7D\\\\x7D,\\\\x22attackSpeed\\\\x22\\\\x3A\\\\x7B\\\\x22Normal\\\\x22\\\\x3A\\\\x7B\\\\x22stat\\\\x22\\\\x3A\\\\x22Normal\\\\x22,\\\\x22shots\\\\x22\\\\x3A90,\\\\x22goals\\\\x22\\\\x3A13,\\\\x22xG\\\\x22\\\\x3A10.547093145549297332763671875,\\\\x22against\\\\x22\\\\x3A\\\\x7B\\\\x22shots\\\\x22\\\\x3A76,\\\\x22goals\\\\x22\\\\x3A6,\\\\x22xG\\\\x22\\\\x3A6.3560974518768489360809326171875\\\\x7D\\\\x7D,\\\\x22Standard\\\\x22\\\\x3A\\\\x7B\\\\x22stat\\\\x22\\\\x3A\\\\x22Standard\\\\x22,\\\\x22shots\\\\x22\\\\x3A40,\\\\x22goals\\\\x22\\\\x3A8,\\\\x22xG\\\\x22\\\\x3A7.058524184860289096832275390625,\\\\x22against\\\\x22\\\\x3A\\\\x7B\\\\x22shots\\\\x22\\\\x3A44,\\\\x22goals\\\\x22\\\\x3A3,\\\\x22xG\\\\x22\\\\x3A5.2558814664371311664581298828125\\\\x7D\\\\x7D,\\\\x22Slow\\\\x22\\\\x3A\\\\x7B\\\\x22stat\\\\x22\\\\x3A\\\\x22Slow\\\\x22,\\\\x22shots\\\\x22\\\\x3A18,\\\\x22goals\\\\x22\\\\x3A2,\\\\x22xG\\\\x22\\\\x3A1.940828765742480754852294921875,\\\\x22against\\\\x22\\\\x3A\\\\x7B\\\\x22shots\\\\x22\\\\x3A7,\\\\x22goals\\\\x22\\\\x3A0,\\\\x22xG\\\\x22\\\\x3A0.34052268974483013153076171875\\\\x7D\\\\x7D,\\\\x22Fast\\\\x22\\\\x3A\\\\x7B\\\\x22stat\\\\x22\\\\x3A\\\\x22Fast\\\\x22,\\\\x22shots\\\\x22\\\\x3A12,\\\\x22goals\\\\x22\\\\x3A2,\\\\x22xG\\\\x22\\\\x3A1.7842421419918537139892578125,\\\\x22against\\\\x22\\\\x3A\\\\x7B\\\\x22shots\\\\x22\\\\x3A3,\\\\x22goals\\\\x22\\\\x3A1,\\\\x22xG\\\\x22\\\\x3A0.465338803827762603759765625\\\\x7D\\\\x7D\\\\x7D,\\\\x22result\\\\x22\\\\x3A\\\\x7B\\\\x22SavedShot\\\\x22\\\\x3A\\\\x7B\\\\x22shots\\\\x22\\\\x3A23,\\\\x22goals\\\\x22\\\\x3A0,\\\\x22xG\\\\x22\\\\x3A2.445684569887816905975341796875,\\\\x22against\\\\x22\\\\x3A\\\\x7B\\\\x22shots\\\\x22\\\\x3A31,\\\\x22goals\\\\x22\\\\x3A0,\\\\x22xG\\\\x22\\\\x3A2.10800665803253650665283203125\\\\x7D\\\\x7D,\\\\x22Goal\\\\x22\\\\x3A\\\\x7B\\\\x22shots\\\\x22\\\\x3A25,\\\\x22goals\\\\x22\\\\x3A25,\\\\x22xG\\\\x22\\\\x3A9.995565928518772125244140625,\\\\x22against\\\\x22\\\\x3A\\\\x7B\\\\x22shots\\\\x22\\\\x3A10,\\\\x22goals\\\\x22\\\\x3A10,\\\\x22xG\\\\x22\\\\x3A4.23456302843987941741943359375\\\\x7D\\\\x7D,\\\\x22MissedShots\\\\x22\\\\x3A\\\\x7B\\\\x22shots\\\\x22\\\\x3A64,\\\\x22goals\\\\x22\\\\x3A0,\\\\x22xG\\\\x22\\\\x3A5.15272756107151508331298828125,\\\\x22against\\\\x22\\\\x3A\\\\x7B\\\\x22shots\\\\x22\\\\x3A51,\\\\x22goals\\\\x22\\\\x3A0,\\\\x22xG\\\\x22\\\\x3A4.0255738967098295688629150390625\\\\x7D\\\\x7D,\\\\x22BlockedShot\\\\x22\\\\x3A\\\\x7B\\\\x22shots\\\\x22\\\\x3A46,\\\\x22goals\\\\x22\\\\x3A0,\\\\x22xG\\\\x22\\\\x3A2.935748941265046596527099609375,\\\\x22against\\\\x22\\\\x3A\\\\x7B\\\\x22shots\\\\x22\\\\x3A38,\\\\x22goals\\\\x22\\\\x3A0,\\\\x22xG\\\\x22\\\\x3A2.0496968287043273448944091796875\\\\x7D\\\\x7D,\\\\x22ShotOnPost\\\\x22\\\\x3A\\\\x7B\\\\x22shots\\\\x22\\\\x3A2,\\\\x22goals\\\\x22\\\\x3A0,\\\\x22xG\\\\x22\\\\x3A0.8009612374007701873779296875,\\\\x22against\\\\x22\\\\x3A\\\\x7B\\\\x22shots\\\\x22\\\\x3A0,\\\\x22goals\\\\x22\\\\x3A0,\\\\x22xG\\\\x22\\\\x3A0\\\\x7D\\\\x7D\\\\x7D\\\\x7D');\\n\""
      ]
     },
     "execution_count": 7,
     "metadata": {},
     "output_type": "execute_result"
    }
   ],
   "source": [
    "json_Raw_string = page_html.findAll(name='script')[2].string\n",
    "json_Raw_string"
   ]
  },
  {
   "cell_type": "code",
   "execution_count": 8,
   "metadata": {},
   "outputs": [],
   "source": [
    "start_ind = json_Raw_string.index('\\\\')\n",
    "stop_ind = json_Raw_string.index(\"')\")"
   ]
  },
  {
   "cell_type": "code",
   "execution_count": 9,
   "metadata": {},
   "outputs": [
    {
     "data": {
      "text/plain": [
       "(35, 8702)"
      ]
     },
     "execution_count": 9,
     "metadata": {},
     "output_type": "execute_result"
    }
   ],
   "source": [
    "start_ind,stop_ind"
   ]
  },
  {
   "cell_type": "code",
   "execution_count": 10,
   "metadata": {},
   "outputs": [],
   "source": [
    "json_data = json_Raw_string[start_ind:stop_ind]"
   ]
  },
  {
   "cell_type": "code",
   "execution_count": 11,
   "metadata": {},
   "outputs": [
    {
     "data": {
      "text/plain": [
       "b'\\\\x7B\\\\x22situation\\\\x22\\\\x3A\\\\x7B\\\\x22OpenPlay\\\\x22\\\\x3A\\\\x7B\\\\x22shots\\\\x22\\\\x3A120,\\\\x22goals\\\\x22\\\\x3A17,\\\\x22xG\\\\x22\\\\x3A14.272164053283631801605224609375,\\\\x22against\\\\x22\\\\x3A\\\\x7B\\\\x22shots\\\\x22\\\\x3A86,\\\\x22goals\\\\x22\\\\x3A7,\\\\x22xG\\\\x22\\\\x3A7.1619589454494416713714599609375\\\\x7D\\\\x7D,\\\\x22FromCorner\\\\x22\\\\x3A\\\\x7B\\\\x22shots\\\\x22\\\\x3A15,\\\\x22goals\\\\x22\\\\x3A3,\\\\x22xG\\\\x22\\\\x3A2.311275775544345378875732421875,\\\\x22against\\\\x22\\\\x3A\\\\x7B\\\\x22shots\\\\x22\\\\x3A30,\\\\x22goals\\\\x22\\\\x3A1,\\\\x22xG\\\\x22\\\\x3A2.9723885692656040191650390625\\\\x7D\\\\x7D,\\\\x22SetPiece\\\\x22\\\\x3A\\\\x7B\\\\x22shots\\\\x22\\\\x3A13,\\\\x22goals\\\\x22\\\\x3A0,\\\\x22xG\\\\x22\\\\x3A1.19378364272415637969970703125,\\\\x22against\\\\x22\\\\x3A\\\\x7B\\\\x22shots\\\\x22\\\\x3A6,\\\\x22goals\\\\x22\\\\x3A0,\\\\x22xG\\\\x22\\\\x3A0.4806001116521656513214111328125\\\\x7D\\\\x7D,\\\\x22DirectFreekick\\\\x22\\\\x3A\\\\x7B\\\\x22shots\\\\x22\\\\x3A8,\\\\x22goals\\\\x22\\\\x3A2,\\\\x22xG\\\\x22\\\\x3A0.5082694254815578460693359375,\\\\x22against\\\\x22\\\\x3A\\\\x7B\\\\x22shots\\\\x22\\\\x3A6,\\\\x22goals\\\\x22\\\\x3A0,\\\\x22xG\\\\x22\\\\x3A0.2802951149642467498779296875\\\\x7D\\\\x7D,\\\\x22Penalty\\\\x22\\\\x3A\\\\x7B\\\\x22shots\\\\x22\\\\x3A4,\\\\x22goals\\\\x22\\\\x3A3,\\\\x22xG\\\\x22\\\\x3A3.0451953411102294921875,\\\\x22against\\\\x22\\\\x3A\\\\x7B\\\\x22shots\\\\x22\\\\x3A2,\\\\x22goals\\\\x22\\\\x3A2,\\\\x22xG\\\\x22\\\\x3A1.52259767055511474609375\\\\x7D\\\\x7D\\\\x7D,\\\\x22formation\\\\x22\\\\x3A\\\\x7B\\\\x224\\\\x2D2\\\\x2D3\\\\x2D1\\\\x22\\\\x3A\\\\x7B\\\\x22stat\\\\x22\\\\x3A\\\\x224\\\\x2D2\\\\x2D3\\\\x2D1\\\\x22,\\\\x22time\\\\x22\\\\x3A961,\\\\x22shots\\\\x22\\\\x3A150,\\\\x22goals\\\\x22\\\\x3A23,\\\\x22xG\\\\x22\\\\x3A20.91005382873117923736572265625,\\\\x22against\\\\x22\\\\x3A\\\\x7B\\\\x22shots\\\\x22\\\\x3A111,\\\\x22goals\\\\x22\\\\x3A9,\\\\x22xG\\\\x22\\\\x3A11.330108868889510631561279296875\\\\x7D\\\\x7D,\\\\x224\\\\x2D4\\\\x2D2\\\\x22\\\\x3A\\\\x7B\\\\x22stat\\\\x22\\\\x3A\\\\x224\\\\x2D4\\\\x2D2\\\\x22,\\\\x22time\\\\x22\\\\x3A36,\\\\x22shots\\\\x22\\\\x3A8,\\\\x22goals\\\\x22\\\\x3A2,\\\\x22xG\\\\x22\\\\x3A0.3328879289329051971435546875,\\\\x22against\\\\x22\\\\x3A\\\\x7B\\\\x22shots\\\\x22\\\\x3A5,\\\\x22goals\\\\x22\\\\x3A0,\\\\x22xG\\\\x22\\\\x3A0.241995700635015964508056640625\\\\x7D\\\\x7D,\\\\x225\\\\x2D3\\\\x2D2\\\\x22\\\\x3A\\\\x7B\\\\x22stat\\\\x22\\\\x3A\\\\x225\\\\x2D3\\\\x2D2\\\\x22,\\\\x22time\\\\x22\\\\x3A23,\\\\x22shots\\\\x22\\\\x3A1,\\\\x22goals\\\\x22\\\\x3A0,\\\\x22xG\\\\x22\\\\x3A0.068613670766353607177734375,\\\\x22against\\\\x22\\\\x3A\\\\x7B\\\\x22shots\\\\x22\\\\x3A12,\\\\x22goals\\\\x22\\\\x3A1,\\\\x22xG\\\\x22\\\\x3A0.75585009343922138214111328125\\\\x7D\\\\x7D,\\\\x224\\\\x2D3\\\\x2D3\\\\x22\\\\x3A\\\\x7B\\\\x22stat\\\\x22\\\\x3A\\\\x224\\\\x2D3\\\\x2D3\\\\x22,\\\\x22time\\\\x22\\\\x3A13,\\\\x22shots\\\\x22\\\\x3A1,\\\\x22goals\\\\x22\\\\x3A0,\\\\x22xG\\\\x22\\\\x3A0.01913280971348285675048828125,\\\\x22against\\\\x22\\\\x3A\\\\x7B\\\\x22shots\\\\x22\\\\x3A2,\\\\x22goals\\\\x22\\\\x3A0,\\\\x22xG\\\\x22\\\\x3A0.089885748922824859619140625\\\\x7D\\\\x7D\\\\x7D,\\\\x22gameState\\\\x22\\\\x3A\\\\x7B\\\\x22Goal\\\\x20diff\\\\x20\\\\x2B1\\\\x22\\\\x3A\\\\x7B\\\\x22stat\\\\x22\\\\x3A\\\\x22Goal\\\\x20diff\\\\x20\\\\x2B1\\\\x22,\\\\x22time\\\\x22\\\\x3A365,\\\\x22shots\\\\x22\\\\x3A53,\\\\x22goals\\\\x22\\\\x3A7,\\\\x22xG\\\\x22\\\\x3A6.66987789236009120941162109375,\\\\x22against\\\\x22\\\\x3A\\\\x7B\\\\x22shots\\\\x22\\\\x3A57,\\\\x22goals\\\\x22\\\\x3A3,\\\\x22xG\\\\x22\\\\x3A4.4542122748680412769317626953125\\\\x7D\\\\x7D,\\\\x22Goal\\\\x20diff\\\\x200\\\\x22\\\\x3A\\\\x7B\\\\x22stat\\\\x22\\\\x3A\\\\x22Goal\\\\x20diff\\\\x200\\\\x22,\\\\x22time\\\\x22\\\\x3A337,\\\\x22shots\\\\x22\\\\x3A60,\\\\x22goals\\\\x22\\\\x3A13,\\\\x22xG\\\\x22\\\\x3A9.92972537688910961151123046875,\\\\x22against\\\\x22\\\\x3A\\\\x7B\\\\x22shots\\\\x22\\\\x3A27,\\\\x22goals\\\\x22\\\\x3A2,\\\\x22xG\\\\x22\\\\x3A2.58229934982955455780029296875\\\\x7D\\\\x7D,\\\\x22Goal\\\\x20diff\\\\x20\\\\x3E\\\\x20\\\\x2B1\\\\x22\\\\x3A\\\\x7B\\\\x22stat\\\\x22\\\\x3A\\\\x22Goal\\\\x20diff\\\\x20\\\\x3E\\\\x20\\\\x2B1\\\\x22,\\\\x22time\\\\x22\\\\x3A185,\\\\x22shots\\\\x22\\\\x3A22,\\\\x22goals\\\\x22\\\\x3A2,\\\\x22xG\\\\x22\\\\x3A2.750497877597808837890625,\\\\x22against\\\\x22\\\\x3A\\\\x7B\\\\x22shots\\\\x22\\\\x3A36,\\\\x22goals\\\\x22\\\\x3A4,\\\\x22xG\\\\x22\\\\x3A3.9092138609848916530609130859375\\\\x7D\\\\x7D,\\\\x22Goal\\\\x20diff\\\\x20\\\\x2D1\\\\x22\\\\x3A\\\\x7B\\\\x22stat\\\\x22\\\\x3A\\\\x22Goal\\\\x20diff\\\\x20\\\\x2D1\\\\x22,\\\\x22time\\\\x22\\\\x3A109,\\\\x22shots\\\\x22\\\\x3A14,\\\\x22goals\\\\x22\\\\x3A2,\\\\x22xG\\\\x22\\\\x3A1.516100148670375347137451171875,\\\\x22against\\\\x22\\\\x3A\\\\x7B\\\\x22shots\\\\x22\\\\x3A9,\\\\x22goals\\\\x22\\\\x3A1,\\\\x22xG\\\\x22\\\\x3A1.44398309104144573211669921875\\\\x7D\\\\x7D,\\\\x22Goal\\\\x20diff\\\\x20\\\\x3C\\\\x20\\\\x2D1\\\\x22\\\\x3A\\\\x7B\\\\x22stat\\\\x22\\\\x3A\\\\x22Goal\\\\x20diff\\\\x20\\\\x3C\\\\x20\\\\x2D1\\\\x22,\\\\x22time\\\\x22\\\\x3A37,\\\\x22shots\\\\x22\\\\x3A11,\\\\x22goals\\\\x22\\\\x3A1,\\\\x22xG\\\\x22\\\\x3A0.464486942626535892486572265625,\\\\x22against\\\\x22\\\\x3A\\\\x7B\\\\x22shots\\\\x22\\\\x3A1,\\\\x22goals\\\\x22\\\\x3A0,\\\\x22xG\\\\x22\\\\x3A0.028131835162639617919921875\\\\x7D\\\\x7D\\\\x7D,\\\\x22timing\\\\x22\\\\x3A\\\\x7B\\\\x221\\\\x2D15\\\\x22\\\\x3A\\\\x7B\\\\x22stat\\\\x22\\\\x3A\\\\x221\\\\x2D15\\\\x22,\\\\x22shots\\\\x22\\\\x3A26,\\\\x22goals\\\\x22\\\\x3A5,\\\\x22xG\\\\x22\\\\x3A4.312740839086472988128662109375,\\\\x22against\\\\x22\\\\x3A\\\\x7B\\\\x22shots\\\\x22\\\\x3A21,\\\\x22goals\\\\x22\\\\x3A3,\\\\x22xG\\\\x22\\\\x3A2.1898592151701450347900390625\\\\x7D\\\\x7D,\\\\x2216\\\\x2D30\\\\x22\\\\x3A\\\\x7B\\\\x22stat\\\\x22\\\\x3A\\\\x2216\\\\x2D30\\\\x22,\\\\x22shots\\\\x22\\\\x3A33,\\\\x22goals\\\\x22\\\\x3A3,\\\\x22xG\\\\x22\\\\x3A3.0123436152935028076171875,\\\\x22against\\\\x22\\\\x3A\\\\x7B\\\\x22shots\\\\x22\\\\x3A18,\\\\x22goals\\\\x22\\\\x3A1,\\\\x22xG\\\\x22\\\\x3A1.847026606090366840362548828125\\\\x7D\\\\x7D,\\\\x2231\\\\x2D45\\\\x22\\\\x3A\\\\x7B\\\\x22stat\\\\x22\\\\x3A\\\\x2231\\\\x2D45\\\\x22,\\\\x22shots\\\\x22\\\\x3A26,\\\\x22goals\\\\x22\\\\x3A4,\\\\x22xG\\\\x22\\\\x3A2.994414216838777065277099609375,\\\\x22against\\\\x22\\\\x3A\\\\x7B\\\\x22shots\\\\x22\\\\x3A13,\\\\x22goals\\\\x22\\\\x3A0,\\\\x22xG\\\\x22\\\\x3A0.767505620606243610382080078125\\\\x7D\\\\x7D,\\\\x2246\\\\x2D60\\\\x22\\\\x3A\\\\x7B\\\\x22stat\\\\x22\\\\x3A\\\\x2246\\\\x2D60\\\\x22,\\\\x22shots\\\\x22\\\\x3A31,\\\\x22goals\\\\x22\\\\x3A3,\\\\x22xG\\\\x22\\\\x3A4.122849275358021259307861328125,\\\\x22against\\\\x22\\\\x3A\\\\x7B\\\\x22shots\\\\x22\\\\x3A19,\\\\x22goals\\\\x22\\\\x3A2,\\\\x22xG\\\\x22\\\\x3A2.6213036873377859592437744140625\\\\x7D\\\\x7D,\\\\x2261\\\\x2D75\\\\x22\\\\x3A\\\\x7B\\\\x22stat\\\\x22\\\\x3A\\\\x2261\\\\x2D75\\\\x22,\\\\x22shots\\\\x22\\\\x3A19,\\\\x22goals\\\\x22\\\\x3A4,\\\\x22xG\\\\x22\\\\x3A3.498257077299058437347412109375,\\\\x22against\\\\x22\\\\x3A\\\\x7B\\\\x22shots\\\\x22\\\\x3A14,\\\\x22goals\\\\x22\\\\x3A0,\\\\x22xG\\\\x22\\\\x3A0.5985536319203674793243408203125\\\\x7D\\\\x7D,\\\\x2276\\\\x2B\\\\x22\\\\x3A\\\\x7B\\\\x22stat\\\\x22\\\\x3A\\\\x2276\\\\x2B\\\\x22,\\\\x22shots\\\\x22\\\\x3A25,\\\\x22goals\\\\x22\\\\x3A6,\\\\x22xG\\\\x22\\\\x3A3.39008321426808834075927734375,\\\\x22against\\\\x22\\\\x3A\\\\x7B\\\\x22shots\\\\x22\\\\x3A45,\\\\x22goals\\\\x22\\\\x3A4,\\\\x22xG\\\\x22\\\\x3A4.393591650761663913726806640625\\\\x7D\\\\x7D\\\\x7D,\\\\x22shotZone\\\\x22\\\\x3A\\\\x7B\\\\x22ownGoals\\\\x22\\\\x3A\\\\x7B\\\\x22stat\\\\x22\\\\x3A\\\\x22ownGoals\\\\x22,\\\\x22shots\\\\x22\\\\x3A1,\\\\x22goals\\\\x22\\\\x3A1,\\\\x22xG\\\\x22\\\\x3A1,\\\\x22against\\\\x22\\\\x3A\\\\x7B\\\\x22shots\\\\x22\\\\x3A1,\\\\x22goals\\\\x22\\\\x3A1,\\\\x22xG\\\\x22\\\\x3A1\\\\x7D\\\\x7D,\\\\x22shotOboxTotal\\\\x22\\\\x3A\\\\x7B\\\\x22stat\\\\x22\\\\x3A\\\\x22shotOboxTotal\\\\x22,\\\\x22shots\\\\x22\\\\x3A75,\\\\x22goals\\\\x22\\\\x3A5,\\\\x22xG\\\\x22\\\\x3A2.456561247818171977996826171875,\\\\x22against\\\\x22\\\\x3A\\\\x7B\\\\x22shots\\\\x22\\\\x3A46,\\\\x22goals\\\\x22\\\\x3A0,\\\\x22xG\\\\x22\\\\x3A1.1557416808791458606719970703125\\\\x7D\\\\x7D,\\\\x22shotPenaltyArea\\\\x22\\\\x3A\\\\x7B\\\\x22stat\\\\x22\\\\x3A\\\\x22shotPenaltyArea\\\\x22,\\\\x22shots\\\\x22\\\\x3A76,\\\\x22goals\\\\x22\\\\x3A15,\\\\x22xG\\\\x22\\\\x3A13.221664984710514545440673828125,\\\\x22against\\\\x22\\\\x3A\\\\x7B\\\\x22shots\\\\x22\\\\x3A72,\\\\x22goals\\\\x22\\\\x3A8,\\\\x22xG\\\\x22\\\\x3A7.4888924374245107173919677734375\\\\x7D\\\\x7D,\\\\x22shotSixYardBox\\\\x22\\\\x3A\\\\x7B\\\\x22stat\\\\x22\\\\x3A\\\\x22shotSixYardBox\\\\x22,\\\\x22shots\\\\x22\\\\x3A8,\\\\x22goals\\\\x22\\\\x3A4,\\\\x22xG\\\\x22\\\\x3A4.652462005615234375,\\\\x22against\\\\x22\\\\x3A\\\\x7B\\\\x22shots\\\\x22\\\\x3A11,\\\\x22goals\\\\x22\\\\x3A1,\\\\x22xG\\\\x22\\\\x3A2.773206293582916259765625\\\\x7D\\\\x7D\\\\x7D,\\\\x22attackSpeed\\\\x22\\\\x3A\\\\x7B\\\\x22Normal\\\\x22\\\\x3A\\\\x7B\\\\x22stat\\\\x22\\\\x3A\\\\x22Normal\\\\x22,\\\\x22shots\\\\x22\\\\x3A90,\\\\x22goals\\\\x22\\\\x3A13,\\\\x22xG\\\\x22\\\\x3A10.547093145549297332763671875,\\\\x22against\\\\x22\\\\x3A\\\\x7B\\\\x22shots\\\\x22\\\\x3A76,\\\\x22goals\\\\x22\\\\x3A6,\\\\x22xG\\\\x22\\\\x3A6.3560974518768489360809326171875\\\\x7D\\\\x7D,\\\\x22Standard\\\\x22\\\\x3A\\\\x7B\\\\x22stat\\\\x22\\\\x3A\\\\x22Standard\\\\x22,\\\\x22shots\\\\x22\\\\x3A40,\\\\x22goals\\\\x22\\\\x3A8,\\\\x22xG\\\\x22\\\\x3A7.058524184860289096832275390625,\\\\x22against\\\\x22\\\\x3A\\\\x7B\\\\x22shots\\\\x22\\\\x3A44,\\\\x22goals\\\\x22\\\\x3A3,\\\\x22xG\\\\x22\\\\x3A5.2558814664371311664581298828125\\\\x7D\\\\x7D,\\\\x22Slow\\\\x22\\\\x3A\\\\x7B\\\\x22stat\\\\x22\\\\x3A\\\\x22Slow\\\\x22,\\\\x22shots\\\\x22\\\\x3A18,\\\\x22goals\\\\x22\\\\x3A2,\\\\x22xG\\\\x22\\\\x3A1.940828765742480754852294921875,\\\\x22against\\\\x22\\\\x3A\\\\x7B\\\\x22shots\\\\x22\\\\x3A7,\\\\x22goals\\\\x22\\\\x3A0,\\\\x22xG\\\\x22\\\\x3A0.34052268974483013153076171875\\\\x7D\\\\x7D,\\\\x22Fast\\\\x22\\\\x3A\\\\x7B\\\\x22stat\\\\x22\\\\x3A\\\\x22Fast\\\\x22,\\\\x22shots\\\\x22\\\\x3A12,\\\\x22goals\\\\x22\\\\x3A2,\\\\x22xG\\\\x22\\\\x3A1.7842421419918537139892578125,\\\\x22against\\\\x22\\\\x3A\\\\x7B\\\\x22shots\\\\x22\\\\x3A3,\\\\x22goals\\\\x22\\\\x3A1,\\\\x22xG\\\\x22\\\\x3A0.465338803827762603759765625\\\\x7D\\\\x7D\\\\x7D,\\\\x22result\\\\x22\\\\x3A\\\\x7B\\\\x22SavedShot\\\\x22\\\\x3A\\\\x7B\\\\x22shots\\\\x22\\\\x3A23,\\\\x22goals\\\\x22\\\\x3A0,\\\\x22xG\\\\x22\\\\x3A2.445684569887816905975341796875,\\\\x22against\\\\x22\\\\x3A\\\\x7B\\\\x22shots\\\\x22\\\\x3A31,\\\\x22goals\\\\x22\\\\x3A0,\\\\x22xG\\\\x22\\\\x3A2.10800665803253650665283203125\\\\x7D\\\\x7D,\\\\x22Goal\\\\x22\\\\x3A\\\\x7B\\\\x22shots\\\\x22\\\\x3A25,\\\\x22goals\\\\x22\\\\x3A25,\\\\x22xG\\\\x22\\\\x3A9.995565928518772125244140625,\\\\x22against\\\\x22\\\\x3A\\\\x7B\\\\x22shots\\\\x22\\\\x3A10,\\\\x22goals\\\\x22\\\\x3A10,\\\\x22xG\\\\x22\\\\x3A4.23456302843987941741943359375\\\\x7D\\\\x7D,\\\\x22MissedShots\\\\x22\\\\x3A\\\\x7B\\\\x22shots\\\\x22\\\\x3A64,\\\\x22goals\\\\x22\\\\x3A0,\\\\x22xG\\\\x22\\\\x3A5.15272756107151508331298828125,\\\\x22against\\\\x22\\\\x3A\\\\x7B\\\\x22shots\\\\x22\\\\x3A51,\\\\x22goals\\\\x22\\\\x3A0,\\\\x22xG\\\\x22\\\\x3A4.0255738967098295688629150390625\\\\x7D\\\\x7D,\\\\x22BlockedShot\\\\x22\\\\x3A\\\\x7B\\\\x22shots\\\\x22\\\\x3A46,\\\\x22goals\\\\x22\\\\x3A0,\\\\x22xG\\\\x22\\\\x3A2.935748941265046596527099609375,\\\\x22against\\\\x22\\\\x3A\\\\x7B\\\\x22shots\\\\x22\\\\x3A38,\\\\x22goals\\\\x22\\\\x3A0,\\\\x22xG\\\\x22\\\\x3A2.0496968287043273448944091796875\\\\x7D\\\\x7D,\\\\x22ShotOnPost\\\\x22\\\\x3A\\\\x7B\\\\x22shots\\\\x22\\\\x3A2,\\\\x22goals\\\\x22\\\\x3A0,\\\\x22xG\\\\x22\\\\x3A0.8009612374007701873779296875,\\\\x22against\\\\x22\\\\x3A\\\\x7B\\\\x22shots\\\\x22\\\\x3A0,\\\\x22goals\\\\x22\\\\x3A0,\\\\x22xG\\\\x22\\\\x3A0\\\\x7D\\\\x7D\\\\x7D\\\\x7D'"
      ]
     },
     "execution_count": 11,
     "metadata": {},
     "output_type": "execute_result"
    }
   ],
   "source": [
    "json_data.encode(\"utf8\")"
   ]
  },
  {
   "cell_type": "code",
   "execution_count": 12,
   "metadata": {},
   "outputs": [
    {
     "data": {
      "text/plain": [
       "'{\"situation\":{\"OpenPlay\":{\"shots\":120,\"goals\":17,\"xG\":14.272164053283631801605224609375,\"against\":{\"shots\":86,\"goals\":7,\"xG\":7.1619589454494416713714599609375}},\"FromCorner\":{\"shots\":15,\"goals\":3,\"xG\":2.311275775544345378875732421875,\"against\":{\"shots\":30,\"goals\":1,\"xG\":2.9723885692656040191650390625}},\"SetPiece\":{\"shots\":13,\"goals\":0,\"xG\":1.19378364272415637969970703125,\"against\":{\"shots\":6,\"goals\":0,\"xG\":0.4806001116521656513214111328125}},\"DirectFreekick\":{\"shots\":8,\"goals\":2,\"xG\":0.5082694254815578460693359375,\"against\":{\"shots\":6,\"goals\":0,\"xG\":0.2802951149642467498779296875}},\"Penalty\":{\"shots\":4,\"goals\":3,\"xG\":3.0451953411102294921875,\"against\":{\"shots\":2,\"goals\":2,\"xG\":1.52259767055511474609375}}},\"formation\":{\"4-2-3-1\":{\"stat\":\"4-2-3-1\",\"time\":961,\"shots\":150,\"goals\":23,\"xG\":20.91005382873117923736572265625,\"against\":{\"shots\":111,\"goals\":9,\"xG\":11.330108868889510631561279296875}},\"4-4-2\":{\"stat\":\"4-4-2\",\"time\":36,\"shots\":8,\"goals\":2,\"xG\":0.3328879289329051971435546875,\"against\":{\"shots\":5,\"goals\":0,\"xG\":0.241995700635015964508056640625}},\"5-3-2\":{\"stat\":\"5-3-2\",\"time\":23,\"shots\":1,\"goals\":0,\"xG\":0.068613670766353607177734375,\"against\":{\"shots\":12,\"goals\":1,\"xG\":0.75585009343922138214111328125}},\"4-3-3\":{\"stat\":\"4-3-3\",\"time\":13,\"shots\":1,\"goals\":0,\"xG\":0.01913280971348285675048828125,\"against\":{\"shots\":2,\"goals\":0,\"xG\":0.089885748922824859619140625}}},\"gameState\":{\"Goal diff +1\":{\"stat\":\"Goal diff +1\",\"time\":365,\"shots\":53,\"goals\":7,\"xG\":6.66987789236009120941162109375,\"against\":{\"shots\":57,\"goals\":3,\"xG\":4.4542122748680412769317626953125}},\"Goal diff 0\":{\"stat\":\"Goal diff 0\",\"time\":337,\"shots\":60,\"goals\":13,\"xG\":9.92972537688910961151123046875,\"against\":{\"shots\":27,\"goals\":2,\"xG\":2.58229934982955455780029296875}},\"Goal diff > +1\":{\"stat\":\"Goal diff > +1\",\"time\":185,\"shots\":22,\"goals\":2,\"xG\":2.750497877597808837890625,\"against\":{\"shots\":36,\"goals\":4,\"xG\":3.9092138609848916530609130859375}},\"Goal diff -1\":{\"stat\":\"Goal diff -1\",\"time\":109,\"shots\":14,\"goals\":2,\"xG\":1.516100148670375347137451171875,\"against\":{\"shots\":9,\"goals\":1,\"xG\":1.44398309104144573211669921875}},\"Goal diff < -1\":{\"stat\":\"Goal diff < -1\",\"time\":37,\"shots\":11,\"goals\":1,\"xG\":0.464486942626535892486572265625,\"against\":{\"shots\":1,\"goals\":0,\"xG\":0.028131835162639617919921875}}},\"timing\":{\"1-15\":{\"stat\":\"1-15\",\"shots\":26,\"goals\":5,\"xG\":4.312740839086472988128662109375,\"against\":{\"shots\":21,\"goals\":3,\"xG\":2.1898592151701450347900390625}},\"16-30\":{\"stat\":\"16-30\",\"shots\":33,\"goals\":3,\"xG\":3.0123436152935028076171875,\"against\":{\"shots\":18,\"goals\":1,\"xG\":1.847026606090366840362548828125}},\"31-45\":{\"stat\":\"31-45\",\"shots\":26,\"goals\":4,\"xG\":2.994414216838777065277099609375,\"against\":{\"shots\":13,\"goals\":0,\"xG\":0.767505620606243610382080078125}},\"46-60\":{\"stat\":\"46-60\",\"shots\":31,\"goals\":3,\"xG\":4.122849275358021259307861328125,\"against\":{\"shots\":19,\"goals\":2,\"xG\":2.6213036873377859592437744140625}},\"61-75\":{\"stat\":\"61-75\",\"shots\":19,\"goals\":4,\"xG\":3.498257077299058437347412109375,\"against\":{\"shots\":14,\"goals\":0,\"xG\":0.5985536319203674793243408203125}},\"76+\":{\"stat\":\"76+\",\"shots\":25,\"goals\":6,\"xG\":3.39008321426808834075927734375,\"against\":{\"shots\":45,\"goals\":4,\"xG\":4.393591650761663913726806640625}}},\"shotZone\":{\"ownGoals\":{\"stat\":\"ownGoals\",\"shots\":1,\"goals\":1,\"xG\":1,\"against\":{\"shots\":1,\"goals\":1,\"xG\":1}},\"shotOboxTotal\":{\"stat\":\"shotOboxTotal\",\"shots\":75,\"goals\":5,\"xG\":2.456561247818171977996826171875,\"against\":{\"shots\":46,\"goals\":0,\"xG\":1.1557416808791458606719970703125}},\"shotPenaltyArea\":{\"stat\":\"shotPenaltyArea\",\"shots\":76,\"goals\":15,\"xG\":13.221664984710514545440673828125,\"against\":{\"shots\":72,\"goals\":8,\"xG\":7.4888924374245107173919677734375}},\"shotSixYardBox\":{\"stat\":\"shotSixYardBox\",\"shots\":8,\"goals\":4,\"xG\":4.652462005615234375,\"against\":{\"shots\":11,\"goals\":1,\"xG\":2.773206293582916259765625}}},\"attackSpeed\":{\"Normal\":{\"stat\":\"Normal\",\"shots\":90,\"goals\":13,\"xG\":10.547093145549297332763671875,\"against\":{\"shots\":76,\"goals\":6,\"xG\":6.3560974518768489360809326171875}},\"Standard\":{\"stat\":\"Standard\",\"shots\":40,\"goals\":8,\"xG\":7.058524184860289096832275390625,\"against\":{\"shots\":44,\"goals\":3,\"xG\":5.2558814664371311664581298828125}},\"Slow\":{\"stat\":\"Slow\",\"shots\":18,\"goals\":2,\"xG\":1.940828765742480754852294921875,\"against\":{\"shots\":7,\"goals\":0,\"xG\":0.34052268974483013153076171875}},\"Fast\":{\"stat\":\"Fast\",\"shots\":12,\"goals\":2,\"xG\":1.7842421419918537139892578125,\"against\":{\"shots\":3,\"goals\":1,\"xG\":0.465338803827762603759765625}}},\"result\":{\"SavedShot\":{\"shots\":23,\"goals\":0,\"xG\":2.445684569887816905975341796875,\"against\":{\"shots\":31,\"goals\":0,\"xG\":2.10800665803253650665283203125}},\"Goal\":{\"shots\":25,\"goals\":25,\"xG\":9.995565928518772125244140625,\"against\":{\"shots\":10,\"goals\":10,\"xG\":4.23456302843987941741943359375}},\"MissedShots\":{\"shots\":64,\"goals\":0,\"xG\":5.15272756107151508331298828125,\"against\":{\"shots\":51,\"goals\":0,\"xG\":4.0255738967098295688629150390625}},\"BlockedShot\":{\"shots\":46,\"goals\":0,\"xG\":2.935748941265046596527099609375,\"against\":{\"shots\":38,\"goals\":0,\"xG\":2.0496968287043273448944091796875}},\"ShotOnPost\":{\"shots\":2,\"goals\":0,\"xG\":0.8009612374007701873779296875,\"against\":{\"shots\":0,\"goals\":0,\"xG\":0}}}}'"
      ]
     },
     "execution_count": 12,
     "metadata": {},
     "output_type": "execute_result"
    }
   ],
   "source": [
    "json_data=json_data.encode(\"utf8\").decode(\"unicode_escape\")\n",
    "json_data"
   ]
  },
  {
   "cell_type": "code",
   "execution_count": 13,
   "metadata": {},
   "outputs": [
    {
     "data": {
      "text/plain": [
       "{'situation': {'OpenPlay': {'shots': 120,\n",
       "   'goals': 17,\n",
       "   'xG': 14.272164053283632,\n",
       "   'against': {'shots': 86, 'goals': 7, 'xG': 7.161958945449442}},\n",
       "  'FromCorner': {'shots': 15,\n",
       "   'goals': 3,\n",
       "   'xG': 2.3112757755443454,\n",
       "   'against': {'shots': 30, 'goals': 1, 'xG': 2.972388569265604}},\n",
       "  'SetPiece': {'shots': 13,\n",
       "   'goals': 0,\n",
       "   'xG': 1.1937836427241564,\n",
       "   'against': {'shots': 6, 'goals': 0, 'xG': 0.48060011165216565}},\n",
       "  'DirectFreekick': {'shots': 8,\n",
       "   'goals': 2,\n",
       "   'xG': 0.5082694254815578,\n",
       "   'against': {'shots': 6, 'goals': 0, 'xG': 0.28029511496424675}},\n",
       "  'Penalty': {'shots': 4,\n",
       "   'goals': 3,\n",
       "   'xG': 3.0451953411102295,\n",
       "   'against': {'shots': 2, 'goals': 2, 'xG': 1.5225976705551147}}},\n",
       " 'formation': {'4-2-3-1': {'stat': '4-2-3-1',\n",
       "   'time': 961,\n",
       "   'shots': 150,\n",
       "   'goals': 23,\n",
       "   'xG': 20.91005382873118,\n",
       "   'against': {'shots': 111, 'goals': 9, 'xG': 11.33010886888951}},\n",
       "  '4-4-2': {'stat': '4-4-2',\n",
       "   'time': 36,\n",
       "   'shots': 8,\n",
       "   'goals': 2,\n",
       "   'xG': 0.3328879289329052,\n",
       "   'against': {'shots': 5, 'goals': 0, 'xG': 0.24199570063501596}},\n",
       "  '5-3-2': {'stat': '5-3-2',\n",
       "   'time': 23,\n",
       "   'shots': 1,\n",
       "   'goals': 0,\n",
       "   'xG': 0.06861367076635361,\n",
       "   'against': {'shots': 12, 'goals': 1, 'xG': 0.7558500934392214}},\n",
       "  '4-3-3': {'stat': '4-3-3',\n",
       "   'time': 13,\n",
       "   'shots': 1,\n",
       "   'goals': 0,\n",
       "   'xG': 0.019132809713482857,\n",
       "   'against': {'shots': 2, 'goals': 0, 'xG': 0.08988574892282486}}},\n",
       " 'gameState': {'Goal diff +1': {'stat': 'Goal diff +1',\n",
       "   'time': 365,\n",
       "   'shots': 53,\n",
       "   'goals': 7,\n",
       "   'xG': 6.669877892360091,\n",
       "   'against': {'shots': 57, 'goals': 3, 'xG': 4.454212274868041}},\n",
       "  'Goal diff 0': {'stat': 'Goal diff 0',\n",
       "   'time': 337,\n",
       "   'shots': 60,\n",
       "   'goals': 13,\n",
       "   'xG': 9.92972537688911,\n",
       "   'against': {'shots': 27, 'goals': 2, 'xG': 2.5822993498295546}},\n",
       "  'Goal diff > +1': {'stat': 'Goal diff > +1',\n",
       "   'time': 185,\n",
       "   'shots': 22,\n",
       "   'goals': 2,\n",
       "   'xG': 2.750497877597809,\n",
       "   'against': {'shots': 36, 'goals': 4, 'xG': 3.9092138609848917}},\n",
       "  'Goal diff -1': {'stat': 'Goal diff -1',\n",
       "   'time': 109,\n",
       "   'shots': 14,\n",
       "   'goals': 2,\n",
       "   'xG': 1.5161001486703753,\n",
       "   'against': {'shots': 9, 'goals': 1, 'xG': 1.4439830910414457}},\n",
       "  'Goal diff < -1': {'stat': 'Goal diff < -1',\n",
       "   'time': 37,\n",
       "   'shots': 11,\n",
       "   'goals': 1,\n",
       "   'xG': 0.4644869426265359,\n",
       "   'against': {'shots': 1, 'goals': 0, 'xG': 0.028131835162639618}}},\n",
       " 'timing': {'1-15': {'stat': '1-15',\n",
       "   'shots': 26,\n",
       "   'goals': 5,\n",
       "   'xG': 4.312740839086473,\n",
       "   'against': {'shots': 21, 'goals': 3, 'xG': 2.189859215170145}},\n",
       "  '16-30': {'stat': '16-30',\n",
       "   'shots': 33,\n",
       "   'goals': 3,\n",
       "   'xG': 3.012343615293503,\n",
       "   'against': {'shots': 18, 'goals': 1, 'xG': 1.8470266060903668}},\n",
       "  '31-45': {'stat': '31-45',\n",
       "   'shots': 26,\n",
       "   'goals': 4,\n",
       "   'xG': 2.994414216838777,\n",
       "   'against': {'shots': 13, 'goals': 0, 'xG': 0.7675056206062436}},\n",
       "  '46-60': {'stat': '46-60',\n",
       "   'shots': 31,\n",
       "   'goals': 3,\n",
       "   'xG': 4.122849275358021,\n",
       "   'against': {'shots': 19, 'goals': 2, 'xG': 2.621303687337786}},\n",
       "  '61-75': {'stat': '61-75',\n",
       "   'shots': 19,\n",
       "   'goals': 4,\n",
       "   'xG': 3.4982570772990584,\n",
       "   'against': {'shots': 14, 'goals': 0, 'xG': 0.5985536319203675}},\n",
       "  '76+': {'stat': '76+',\n",
       "   'shots': 25,\n",
       "   'goals': 6,\n",
       "   'xG': 3.3900832142680883,\n",
       "   'against': {'shots': 45, 'goals': 4, 'xG': 4.393591650761664}}},\n",
       " 'shotZone': {'ownGoals': {'stat': 'ownGoals',\n",
       "   'shots': 1,\n",
       "   'goals': 1,\n",
       "   'xG': 1,\n",
       "   'against': {'shots': 1, 'goals': 1, 'xG': 1}},\n",
       "  'shotOboxTotal': {'stat': 'shotOboxTotal',\n",
       "   'shots': 75,\n",
       "   'goals': 5,\n",
       "   'xG': 2.456561247818172,\n",
       "   'against': {'shots': 46, 'goals': 0, 'xG': 1.1557416808791459}},\n",
       "  'shotPenaltyArea': {'stat': 'shotPenaltyArea',\n",
       "   'shots': 76,\n",
       "   'goals': 15,\n",
       "   'xG': 13.221664984710515,\n",
       "   'against': {'shots': 72, 'goals': 8, 'xG': 7.488892437424511}},\n",
       "  'shotSixYardBox': {'stat': 'shotSixYardBox',\n",
       "   'shots': 8,\n",
       "   'goals': 4,\n",
       "   'xG': 4.652462005615234,\n",
       "   'against': {'shots': 11, 'goals': 1, 'xG': 2.7732062935829163}}},\n",
       " 'attackSpeed': {'Normal': {'stat': 'Normal',\n",
       "   'shots': 90,\n",
       "   'goals': 13,\n",
       "   'xG': 10.547093145549297,\n",
       "   'against': {'shots': 76, 'goals': 6, 'xG': 6.356097451876849}},\n",
       "  'Standard': {'stat': 'Standard',\n",
       "   'shots': 40,\n",
       "   'goals': 8,\n",
       "   'xG': 7.058524184860289,\n",
       "   'against': {'shots': 44, 'goals': 3, 'xG': 5.255881466437131}},\n",
       "  'Slow': {'stat': 'Slow',\n",
       "   'shots': 18,\n",
       "   'goals': 2,\n",
       "   'xG': 1.9408287657424808,\n",
       "   'against': {'shots': 7, 'goals': 0, 'xG': 0.34052268974483013}},\n",
       "  'Fast': {'stat': 'Fast',\n",
       "   'shots': 12,\n",
       "   'goals': 2,\n",
       "   'xG': 1.7842421419918537,\n",
       "   'against': {'shots': 3, 'goals': 1, 'xG': 0.4653388038277626}}},\n",
       " 'result': {'SavedShot': {'shots': 23,\n",
       "   'goals': 0,\n",
       "   'xG': 2.445684569887817,\n",
       "   'against': {'shots': 31, 'goals': 0, 'xG': 2.1080066580325365}},\n",
       "  'Goal': {'shots': 25,\n",
       "   'goals': 25,\n",
       "   'xG': 9.995565928518772,\n",
       "   'against': {'shots': 10, 'goals': 10, 'xG': 4.234563028439879}},\n",
       "  'MissedShots': {'shots': 64,\n",
       "   'goals': 0,\n",
       "   'xG': 5.152727561071515,\n",
       "   'against': {'shots': 51, 'goals': 0, 'xG': 4.02557389670983}},\n",
       "  'BlockedShot': {'shots': 46,\n",
       "   'goals': 0,\n",
       "   'xG': 2.9357489412650466,\n",
       "   'against': {'shots': 38, 'goals': 0, 'xG': 2.0496968287043273}},\n",
       "  'ShotOnPost': {'shots': 2,\n",
       "   'goals': 0,\n",
       "   'xG': 0.8009612374007702,\n",
       "   'against': {'shots': 0, 'goals': 0, 'xG': 0}}}}"
      ]
     },
     "execution_count": 13,
     "metadata": {},
     "output_type": "execute_result"
    }
   ],
   "source": [
    "json_load = json.loads(json_data)\n",
    "json_load"
   ]
  },
  {
   "cell_type": "code",
   "execution_count": 14,
   "metadata": {},
   "outputs": [],
   "source": [
    "l1 = zip(json_load.keys(), json_load.values())"
   ]
  },
  {
   "cell_type": "code",
   "execution_count": 15,
   "metadata": {},
   "outputs": [
    {
     "data": {
      "text/plain": [
       "[('situation',\n",
       "  {'OpenPlay': {'shots': 120,\n",
       "    'goals': 17,\n",
       "    'xG': 14.272164053283632,\n",
       "    'against': {'shots': 86, 'goals': 7, 'xG': 7.161958945449442}},\n",
       "   'FromCorner': {'shots': 15,\n",
       "    'goals': 3,\n",
       "    'xG': 2.3112757755443454,\n",
       "    'against': {'shots': 30, 'goals': 1, 'xG': 2.972388569265604}},\n",
       "   'SetPiece': {'shots': 13,\n",
       "    'goals': 0,\n",
       "    'xG': 1.1937836427241564,\n",
       "    'against': {'shots': 6, 'goals': 0, 'xG': 0.48060011165216565}},\n",
       "   'DirectFreekick': {'shots': 8,\n",
       "    'goals': 2,\n",
       "    'xG': 0.5082694254815578,\n",
       "    'against': {'shots': 6, 'goals': 0, 'xG': 0.28029511496424675}},\n",
       "   'Penalty': {'shots': 4,\n",
       "    'goals': 3,\n",
       "    'xG': 3.0451953411102295,\n",
       "    'against': {'shots': 2, 'goals': 2, 'xG': 1.5225976705551147}}}),\n",
       " ('formation',\n",
       "  {'4-2-3-1': {'stat': '4-2-3-1',\n",
       "    'time': 961,\n",
       "    'shots': 150,\n",
       "    'goals': 23,\n",
       "    'xG': 20.91005382873118,\n",
       "    'against': {'shots': 111, 'goals': 9, 'xG': 11.33010886888951}},\n",
       "   '4-4-2': {'stat': '4-4-2',\n",
       "    'time': 36,\n",
       "    'shots': 8,\n",
       "    'goals': 2,\n",
       "    'xG': 0.3328879289329052,\n",
       "    'against': {'shots': 5, 'goals': 0, 'xG': 0.24199570063501596}},\n",
       "   '5-3-2': {'stat': '5-3-2',\n",
       "    'time': 23,\n",
       "    'shots': 1,\n",
       "    'goals': 0,\n",
       "    'xG': 0.06861367076635361,\n",
       "    'against': {'shots': 12, 'goals': 1, 'xG': 0.7558500934392214}},\n",
       "   '4-3-3': {'stat': '4-3-3',\n",
       "    'time': 13,\n",
       "    'shots': 1,\n",
       "    'goals': 0,\n",
       "    'xG': 0.019132809713482857,\n",
       "    'against': {'shots': 2, 'goals': 0, 'xG': 0.08988574892282486}}}),\n",
       " ('gameState',\n",
       "  {'Goal diff +1': {'stat': 'Goal diff +1',\n",
       "    'time': 365,\n",
       "    'shots': 53,\n",
       "    'goals': 7,\n",
       "    'xG': 6.669877892360091,\n",
       "    'against': {'shots': 57, 'goals': 3, 'xG': 4.454212274868041}},\n",
       "   'Goal diff 0': {'stat': 'Goal diff 0',\n",
       "    'time': 337,\n",
       "    'shots': 60,\n",
       "    'goals': 13,\n",
       "    'xG': 9.92972537688911,\n",
       "    'against': {'shots': 27, 'goals': 2, 'xG': 2.5822993498295546}},\n",
       "   'Goal diff > +1': {'stat': 'Goal diff > +1',\n",
       "    'time': 185,\n",
       "    'shots': 22,\n",
       "    'goals': 2,\n",
       "    'xG': 2.750497877597809,\n",
       "    'against': {'shots': 36, 'goals': 4, 'xG': 3.9092138609848917}},\n",
       "   'Goal diff -1': {'stat': 'Goal diff -1',\n",
       "    'time': 109,\n",
       "    'shots': 14,\n",
       "    'goals': 2,\n",
       "    'xG': 1.5161001486703753,\n",
       "    'against': {'shots': 9, 'goals': 1, 'xG': 1.4439830910414457}},\n",
       "   'Goal diff < -1': {'stat': 'Goal diff < -1',\n",
       "    'time': 37,\n",
       "    'shots': 11,\n",
       "    'goals': 1,\n",
       "    'xG': 0.4644869426265359,\n",
       "    'against': {'shots': 1, 'goals': 0, 'xG': 0.028131835162639618}}}),\n",
       " ('timing',\n",
       "  {'1-15': {'stat': '1-15',\n",
       "    'shots': 26,\n",
       "    'goals': 5,\n",
       "    'xG': 4.312740839086473,\n",
       "    'against': {'shots': 21, 'goals': 3, 'xG': 2.189859215170145}},\n",
       "   '16-30': {'stat': '16-30',\n",
       "    'shots': 33,\n",
       "    'goals': 3,\n",
       "    'xG': 3.012343615293503,\n",
       "    'against': {'shots': 18, 'goals': 1, 'xG': 1.8470266060903668}},\n",
       "   '31-45': {'stat': '31-45',\n",
       "    'shots': 26,\n",
       "    'goals': 4,\n",
       "    'xG': 2.994414216838777,\n",
       "    'against': {'shots': 13, 'goals': 0, 'xG': 0.7675056206062436}},\n",
       "   '46-60': {'stat': '46-60',\n",
       "    'shots': 31,\n",
       "    'goals': 3,\n",
       "    'xG': 4.122849275358021,\n",
       "    'against': {'shots': 19, 'goals': 2, 'xG': 2.621303687337786}},\n",
       "   '61-75': {'stat': '61-75',\n",
       "    'shots': 19,\n",
       "    'goals': 4,\n",
       "    'xG': 3.4982570772990584,\n",
       "    'against': {'shots': 14, 'goals': 0, 'xG': 0.5985536319203675}},\n",
       "   '76+': {'stat': '76+',\n",
       "    'shots': 25,\n",
       "    'goals': 6,\n",
       "    'xG': 3.3900832142680883,\n",
       "    'against': {'shots': 45, 'goals': 4, 'xG': 4.393591650761664}}}),\n",
       " ('shotZone',\n",
       "  {'ownGoals': {'stat': 'ownGoals',\n",
       "    'shots': 1,\n",
       "    'goals': 1,\n",
       "    'xG': 1,\n",
       "    'against': {'shots': 1, 'goals': 1, 'xG': 1}},\n",
       "   'shotOboxTotal': {'stat': 'shotOboxTotal',\n",
       "    'shots': 75,\n",
       "    'goals': 5,\n",
       "    'xG': 2.456561247818172,\n",
       "    'against': {'shots': 46, 'goals': 0, 'xG': 1.1557416808791459}},\n",
       "   'shotPenaltyArea': {'stat': 'shotPenaltyArea',\n",
       "    'shots': 76,\n",
       "    'goals': 15,\n",
       "    'xG': 13.221664984710515,\n",
       "    'against': {'shots': 72, 'goals': 8, 'xG': 7.488892437424511}},\n",
       "   'shotSixYardBox': {'stat': 'shotSixYardBox',\n",
       "    'shots': 8,\n",
       "    'goals': 4,\n",
       "    'xG': 4.652462005615234,\n",
       "    'against': {'shots': 11, 'goals': 1, 'xG': 2.7732062935829163}}}),\n",
       " ('attackSpeed',\n",
       "  {'Normal': {'stat': 'Normal',\n",
       "    'shots': 90,\n",
       "    'goals': 13,\n",
       "    'xG': 10.547093145549297,\n",
       "    'against': {'shots': 76, 'goals': 6, 'xG': 6.356097451876849}},\n",
       "   'Standard': {'stat': 'Standard',\n",
       "    'shots': 40,\n",
       "    'goals': 8,\n",
       "    'xG': 7.058524184860289,\n",
       "    'against': {'shots': 44, 'goals': 3, 'xG': 5.255881466437131}},\n",
       "   'Slow': {'stat': 'Slow',\n",
       "    'shots': 18,\n",
       "    'goals': 2,\n",
       "    'xG': 1.9408287657424808,\n",
       "    'against': {'shots': 7, 'goals': 0, 'xG': 0.34052268974483013}},\n",
       "   'Fast': {'stat': 'Fast',\n",
       "    'shots': 12,\n",
       "    'goals': 2,\n",
       "    'xG': 1.7842421419918537,\n",
       "    'against': {'shots': 3, 'goals': 1, 'xG': 0.4653388038277626}}}),\n",
       " ('result',\n",
       "  {'SavedShot': {'shots': 23,\n",
       "    'goals': 0,\n",
       "    'xG': 2.445684569887817,\n",
       "    'against': {'shots': 31, 'goals': 0, 'xG': 2.1080066580325365}},\n",
       "   'Goal': {'shots': 25,\n",
       "    'goals': 25,\n",
       "    'xG': 9.995565928518772,\n",
       "    'against': {'shots': 10, 'goals': 10, 'xG': 4.234563028439879}},\n",
       "   'MissedShots': {'shots': 64,\n",
       "    'goals': 0,\n",
       "    'xG': 5.152727561071515,\n",
       "    'against': {'shots': 51, 'goals': 0, 'xG': 4.02557389670983}},\n",
       "   'BlockedShot': {'shots': 46,\n",
       "    'goals': 0,\n",
       "    'xG': 2.9357489412650466,\n",
       "    'against': {'shots': 38, 'goals': 0, 'xG': 2.0496968287043273}},\n",
       "   'ShotOnPost': {'shots': 2,\n",
       "    'goals': 0,\n",
       "    'xG': 0.8009612374007702,\n",
       "    'against': {'shots': 0, 'goals': 0, 'xG': 0}}})]"
      ]
     },
     "execution_count": 15,
     "metadata": {},
     "output_type": "execute_result"
    }
   ],
   "source": [
    "l2=list(l1)\n",
    "l2"
   ]
  },
  {
   "cell_type": "code",
   "execution_count": 16,
   "metadata": {},
   "outputs": [],
   "source": [
    "#Getting All situtaions key and value\n",
    "Allsituations = l2[0][1]"
   ]
  },
  {
   "cell_type": "code",
   "execution_count": 17,
   "metadata": {},
   "outputs": [
    {
     "data": {
      "text/plain": [
       "dict_keys(['OpenPlay', 'FromCorner', 'SetPiece', 'DirectFreekick', 'Penalty'])"
      ]
     },
     "execution_count": 17,
     "metadata": {},
     "output_type": "execute_result"
    }
   ],
   "source": [
    "Allsituations.keys()"
   ]
  },
  {
   "cell_type": "code",
   "execution_count": 18,
   "metadata": {},
   "outputs": [
    {
     "data": {
      "text/plain": [
       "['OpenPlay', 'FromCorner', 'SetPiece', 'DirectFreekick', 'Penalty']"
      ]
     },
     "execution_count": 18,
     "metadata": {},
     "output_type": "execute_result"
    }
   ],
   "source": [
    "Situations = []\n",
    "for i in Allsituations.keys():\n",
    "    Situations.append(i)\n",
    "Situations"
   ]
  },
  {
   "cell_type": "code",
   "execution_count": 19,
   "metadata": {},
   "outputs": [
    {
     "data": {
      "text/plain": [
       "dict_values([{'shots': 120, 'goals': 17, 'xG': 14.272164053283632, 'against': {'shots': 86, 'goals': 7, 'xG': 7.161958945449442}}, {'shots': 15, 'goals': 3, 'xG': 2.3112757755443454, 'against': {'shots': 30, 'goals': 1, 'xG': 2.972388569265604}}, {'shots': 13, 'goals': 0, 'xG': 1.1937836427241564, 'against': {'shots': 6, 'goals': 0, 'xG': 0.48060011165216565}}, {'shots': 8, 'goals': 2, 'xG': 0.5082694254815578, 'against': {'shots': 6, 'goals': 0, 'xG': 0.28029511496424675}}, {'shots': 4, 'goals': 3, 'xG': 3.0451953411102295, 'against': {'shots': 2, 'goals': 2, 'xG': 1.5225976705551147}}])"
      ]
     },
     "execution_count": 19,
     "metadata": {},
     "output_type": "execute_result"
    }
   ],
   "source": [
    "Allsituations.values()"
   ]
  },
  {
   "cell_type": "code",
   "execution_count": null,
   "metadata": {},
   "outputs": [],
   "source": []
  },
  {
   "cell_type": "code",
   "execution_count": 20,
   "metadata": {},
   "outputs": [],
   "source": [
    "#Storing Shots,goals,xG etc. in separate list to create dataframe\n",
    "Shots=[]\n",
    "Goals=[]\n",
    "xG=[]\n",
    "Shots_Against=[]\n",
    "Goals_Against=[]\n",
    "xG_Against=[]\n",
    "for index in Allsituations.values():\n",
    "    for key,val in index.items():\n",
    "        if key=='shots':\n",
    "            Shots.append(val)\n",
    "        if key=='goals':\n",
    "            Goals.append(val)\n",
    "        if key=='xG':\n",
    "            xG.append(val)\n",
    "        if key=='against':\n",
    "            for j,k in val.items():\n",
    "                if j=='shots':\n",
    "                    Shots_Against.append(k)\n",
    "                if j=='goals':\n",
    "                    Goals_Against.append(k)\n",
    "                if j=='xG':\n",
    "                    xG_Against.append(k)"
   ]
  },
  {
   "cell_type": "code",
   "execution_count": 21,
   "metadata": {},
   "outputs": [],
   "source": [
    "#Making of dataframe\n",
    "col_names = ['Situations','Shots Taken','Goals Scored','xG','Shots Against','Goals Against','xG Against']\n",
    "df = pd.DataFrame([Situations,Shots,Goals,xG,Shots_Against,Goals_Against,xG_Against],index=col_names)\n",
    "df = df.T"
   ]
  },
  {
   "cell_type": "code",
   "execution_count": 22,
   "metadata": {},
   "outputs": [
    {
     "data": {
      "text/html": [
       "<div>\n",
       "<style scoped>\n",
       "    .dataframe tbody tr th:only-of-type {\n",
       "        vertical-align: middle;\n",
       "    }\n",
       "\n",
       "    .dataframe tbody tr th {\n",
       "        vertical-align: top;\n",
       "    }\n",
       "\n",
       "    .dataframe thead th {\n",
       "        text-align: right;\n",
       "    }\n",
       "</style>\n",
       "<table border=\"1\" class=\"dataframe\">\n",
       "  <thead>\n",
       "    <tr style=\"text-align: right;\">\n",
       "      <th></th>\n",
       "      <th>Situations</th>\n",
       "      <th>Shots Taken</th>\n",
       "      <th>Goals Scored</th>\n",
       "      <th>xG</th>\n",
       "      <th>Shots Against</th>\n",
       "      <th>Goals Against</th>\n",
       "      <th>xG Against</th>\n",
       "    </tr>\n",
       "  </thead>\n",
       "  <tbody>\n",
       "    <tr>\n",
       "      <th>0</th>\n",
       "      <td>OpenPlay</td>\n",
       "      <td>120</td>\n",
       "      <td>17</td>\n",
       "      <td>14.2722</td>\n",
       "      <td>86</td>\n",
       "      <td>7</td>\n",
       "      <td>7.16196</td>\n",
       "    </tr>\n",
       "    <tr>\n",
       "      <th>1</th>\n",
       "      <td>FromCorner</td>\n",
       "      <td>15</td>\n",
       "      <td>3</td>\n",
       "      <td>2.31128</td>\n",
       "      <td>30</td>\n",
       "      <td>1</td>\n",
       "      <td>2.97239</td>\n",
       "    </tr>\n",
       "    <tr>\n",
       "      <th>2</th>\n",
       "      <td>SetPiece</td>\n",
       "      <td>13</td>\n",
       "      <td>0</td>\n",
       "      <td>1.19378</td>\n",
       "      <td>6</td>\n",
       "      <td>0</td>\n",
       "      <td>0.4806</td>\n",
       "    </tr>\n",
       "    <tr>\n",
       "      <th>3</th>\n",
       "      <td>DirectFreekick</td>\n",
       "      <td>8</td>\n",
       "      <td>2</td>\n",
       "      <td>0.508269</td>\n",
       "      <td>6</td>\n",
       "      <td>0</td>\n",
       "      <td>0.280295</td>\n",
       "    </tr>\n",
       "    <tr>\n",
       "      <th>4</th>\n",
       "      <td>Penalty</td>\n",
       "      <td>4</td>\n",
       "      <td>3</td>\n",
       "      <td>3.0452</td>\n",
       "      <td>2</td>\n",
       "      <td>2</td>\n",
       "      <td>1.5226</td>\n",
       "    </tr>\n",
       "  </tbody>\n",
       "</table>\n",
       "</div>"
      ],
      "text/plain": [
       "       Situations Shots Taken Goals Scored        xG Shots Against  \\\n",
       "0        OpenPlay         120           17   14.2722            86   \n",
       "1      FromCorner          15            3   2.31128            30   \n",
       "2        SetPiece          13            0   1.19378             6   \n",
       "3  DirectFreekick           8            2  0.508269             6   \n",
       "4         Penalty           4            3    3.0452             2   \n",
       "\n",
       "  Goals Against xG Against  \n",
       "0             7    7.16196  \n",
       "1             1    2.97239  \n",
       "2             0     0.4806  \n",
       "3             0   0.280295  \n",
       "4             2     1.5226  "
      ]
     },
     "execution_count": 22,
     "metadata": {},
     "output_type": "execute_result"
    }
   ],
   "source": [
    "df"
   ]
  },
  {
   "cell_type": "code",
   "execution_count": 23,
   "metadata": {},
   "outputs": [],
   "source": [
    "#Converting the dtype to int or float as it was object earlier\n",
    "Situations_df=df.apply(pd.to_numeric, errors=\"ignore\")"
   ]
  },
  {
   "cell_type": "code",
   "execution_count": 24,
   "metadata": {},
   "outputs": [
    {
     "name": "stdout",
     "output_type": "stream",
     "text": [
      "<class 'pandas.core.frame.DataFrame'>\n",
      "RangeIndex: 5 entries, 0 to 4\n",
      "Data columns (total 7 columns):\n",
      " #   Column         Non-Null Count  Dtype  \n",
      "---  ------         --------------  -----  \n",
      " 0   Situations     5 non-null      object \n",
      " 1   Shots Taken    5 non-null      int64  \n",
      " 2   Goals Scored   5 non-null      int64  \n",
      " 3   xG             5 non-null      float64\n",
      " 4   Shots Against  5 non-null      int64  \n",
      " 5   Goals Against  5 non-null      int64  \n",
      " 6   xG Against     5 non-null      float64\n",
      "dtypes: float64(2), int64(4), object(1)\n",
      "memory usage: 408.0+ bytes\n"
     ]
    }
   ],
   "source": [
    "Situations_df.info()"
   ]
  },
  {
   "cell_type": "code",
   "execution_count": 25,
   "metadata": {},
   "outputs": [
    {
     "data": {
      "text/html": [
       "<div>\n",
       "<style scoped>\n",
       "    .dataframe tbody tr th:only-of-type {\n",
       "        vertical-align: middle;\n",
       "    }\n",
       "\n",
       "    .dataframe tbody tr th {\n",
       "        vertical-align: top;\n",
       "    }\n",
       "\n",
       "    .dataframe thead th {\n",
       "        text-align: right;\n",
       "    }\n",
       "</style>\n",
       "<table border=\"1\" class=\"dataframe\">\n",
       "  <thead>\n",
       "    <tr style=\"text-align: right;\">\n",
       "      <th></th>\n",
       "      <th>Situations</th>\n",
       "      <th>Shots Taken</th>\n",
       "      <th>Goals Scored</th>\n",
       "      <th>xG</th>\n",
       "      <th>Shots Against</th>\n",
       "      <th>Goals Against</th>\n",
       "      <th>xG Against</th>\n",
       "    </tr>\n",
       "  </thead>\n",
       "  <tbody>\n",
       "    <tr>\n",
       "      <th>0</th>\n",
       "      <td>OpenPlay</td>\n",
       "      <td>120</td>\n",
       "      <td>17</td>\n",
       "      <td>14.272164</td>\n",
       "      <td>86</td>\n",
       "      <td>7</td>\n",
       "      <td>7.161959</td>\n",
       "    </tr>\n",
       "    <tr>\n",
       "      <th>1</th>\n",
       "      <td>FromCorner</td>\n",
       "      <td>15</td>\n",
       "      <td>3</td>\n",
       "      <td>2.311276</td>\n",
       "      <td>30</td>\n",
       "      <td>1</td>\n",
       "      <td>2.972389</td>\n",
       "    </tr>\n",
       "    <tr>\n",
       "      <th>2</th>\n",
       "      <td>SetPiece</td>\n",
       "      <td>13</td>\n",
       "      <td>0</td>\n",
       "      <td>1.193784</td>\n",
       "      <td>6</td>\n",
       "      <td>0</td>\n",
       "      <td>0.480600</td>\n",
       "    </tr>\n",
       "    <tr>\n",
       "      <th>3</th>\n",
       "      <td>DirectFreekick</td>\n",
       "      <td>8</td>\n",
       "      <td>2</td>\n",
       "      <td>0.508269</td>\n",
       "      <td>6</td>\n",
       "      <td>0</td>\n",
       "      <td>0.280295</td>\n",
       "    </tr>\n",
       "    <tr>\n",
       "      <th>4</th>\n",
       "      <td>Penalty</td>\n",
       "      <td>4</td>\n",
       "      <td>3</td>\n",
       "      <td>3.045195</td>\n",
       "      <td>2</td>\n",
       "      <td>2</td>\n",
       "      <td>1.522598</td>\n",
       "    </tr>\n",
       "  </tbody>\n",
       "</table>\n",
       "</div>"
      ],
      "text/plain": [
       "       Situations  Shots Taken  Goals Scored         xG  Shots Against  \\\n",
       "0        OpenPlay          120            17  14.272164             86   \n",
       "1      FromCorner           15             3   2.311276             30   \n",
       "2        SetPiece           13             0   1.193784              6   \n",
       "3  DirectFreekick            8             2   0.508269              6   \n",
       "4         Penalty            4             3   3.045195              2   \n",
       "\n",
       "   Goals Against  xG Against  \n",
       "0              7    7.161959  \n",
       "1              1    2.972389  \n",
       "2              0    0.480600  \n",
       "3              0    0.280295  \n",
       "4              2    1.522598  "
      ]
     },
     "execution_count": 25,
     "metadata": {},
     "output_type": "execute_result"
    }
   ],
   "source": [
    "Situations_df"
   ]
  },
  {
   "cell_type": "code",
   "execution_count": 26,
   "metadata": {},
   "outputs": [],
   "source": [
    "#Getting the key and values of All the formations\n",
    "AllFormation = l2[1][1]"
   ]
  },
  {
   "cell_type": "code",
   "execution_count": 27,
   "metadata": {},
   "outputs": [
    {
     "data": {
      "text/plain": [
       "dict_keys(['4-2-3-1', '4-4-2', '5-3-2', '4-3-3'])"
      ]
     },
     "execution_count": 27,
     "metadata": {},
     "output_type": "execute_result"
    }
   ],
   "source": [
    "AllFormation.keys()"
   ]
  },
  {
   "cell_type": "code",
   "execution_count": 28,
   "metadata": {},
   "outputs": [
    {
     "data": {
      "text/plain": [
       "['4-2-3-1', '4-4-2', '5-3-2', '4-3-3']"
      ]
     },
     "execution_count": 28,
     "metadata": {},
     "output_type": "execute_result"
    }
   ],
   "source": [
    "Formations=[]\n",
    "for form in AllFormation.keys():\n",
    "    Formations.append(form)\n",
    "Formations"
   ]
  },
  {
   "cell_type": "code",
   "execution_count": 29,
   "metadata": {},
   "outputs": [
    {
     "data": {
      "text/plain": [
       "{'4-2-3-1': {'stat': '4-2-3-1',\n",
       "  'time': 961,\n",
       "  'shots': 150,\n",
       "  'goals': 23,\n",
       "  'xG': 20.91005382873118,\n",
       "  'against': {'shots': 111, 'goals': 9, 'xG': 11.33010886888951}},\n",
       " '4-4-2': {'stat': '4-4-2',\n",
       "  'time': 36,\n",
       "  'shots': 8,\n",
       "  'goals': 2,\n",
       "  'xG': 0.3328879289329052,\n",
       "  'against': {'shots': 5, 'goals': 0, 'xG': 0.24199570063501596}},\n",
       " '5-3-2': {'stat': '5-3-2',\n",
       "  'time': 23,\n",
       "  'shots': 1,\n",
       "  'goals': 0,\n",
       "  'xG': 0.06861367076635361,\n",
       "  'against': {'shots': 12, 'goals': 1, 'xG': 0.7558500934392214}},\n",
       " '4-3-3': {'stat': '4-3-3',\n",
       "  'time': 13,\n",
       "  'shots': 1,\n",
       "  'goals': 0,\n",
       "  'xG': 0.019132809713482857,\n",
       "  'against': {'shots': 2, 'goals': 0, 'xG': 0.08988574892282486}}}"
      ]
     },
     "execution_count": 29,
     "metadata": {},
     "output_type": "execute_result"
    }
   ],
   "source": [
    "AllFormation"
   ]
  },
  {
   "cell_type": "code",
   "execution_count": 30,
   "metadata": {},
   "outputs": [],
   "source": [
    "Time = []\n",
    "Formation_Shots=[]\n",
    "Formation_Goals=[]\n",
    "Formation_xG=[]\n",
    "Formation_Shots_Against=[]\n",
    "Formation_Goals_Against=[]\n",
    "Formation_xG_Against=[]\n",
    "for index in AllFormation.values():\n",
    "    for key,val in index.items():\n",
    "        if key=='time':\n",
    "            Time.append(val)\n",
    "        if key=='shots':\n",
    "            Formation_Shots.append(val)\n",
    "        if key=='goals':\n",
    "            Formation_Goals.append(val)\n",
    "        if key=='xG':\n",
    "            Formation_xG.append(val)\n",
    "        if key=='against':\n",
    "            for j,k in val.items():\n",
    "                if j=='shots':\n",
    "                    Formation_Shots_Against.append(k)\n",
    "                if j=='goals':\n",
    "                    Formation_Goals_Against.append(k)\n",
    "                if j=='xG':\n",
    "                    Formation_xG_Against.append(k)"
   ]
  },
  {
   "cell_type": "code",
   "execution_count": 31,
   "metadata": {},
   "outputs": [],
   "source": [
    "col_names = ['Formations','Minutes played on this Formation','Shots Taken','Goals Scored','xG','Shots Against','Goals Against','xG Against']\n",
    "df_formations = pd.DataFrame([Formations,Time,Formation_Shots,Formation_Goals,Formation_xG,Formation_Shots_Against,Formation_Goals_Against,Formation_xG_Against],index=col_names)\n",
    "df_formations = df_formations.T"
   ]
  },
  {
   "cell_type": "code",
   "execution_count": 32,
   "metadata": {},
   "outputs": [],
   "source": [
    "Formations_df=df_formations.apply(pd.to_numeric, errors=\"ignore\")"
   ]
  },
  {
   "cell_type": "code",
   "execution_count": 33,
   "metadata": {},
   "outputs": [
    {
     "data": {
      "text/html": [
       "<div>\n",
       "<style scoped>\n",
       "    .dataframe tbody tr th:only-of-type {\n",
       "        vertical-align: middle;\n",
       "    }\n",
       "\n",
       "    .dataframe tbody tr th {\n",
       "        vertical-align: top;\n",
       "    }\n",
       "\n",
       "    .dataframe thead th {\n",
       "        text-align: right;\n",
       "    }\n",
       "</style>\n",
       "<table border=\"1\" class=\"dataframe\">\n",
       "  <thead>\n",
       "    <tr style=\"text-align: right;\">\n",
       "      <th></th>\n",
       "      <th>Formations</th>\n",
       "      <th>Minutes played on this Formation</th>\n",
       "      <th>Shots Taken</th>\n",
       "      <th>Goals Scored</th>\n",
       "      <th>xG</th>\n",
       "      <th>Shots Against</th>\n",
       "      <th>Goals Against</th>\n",
       "      <th>xG Against</th>\n",
       "    </tr>\n",
       "  </thead>\n",
       "  <tbody>\n",
       "    <tr>\n",
       "      <th>0</th>\n",
       "      <td>4-2-3-1</td>\n",
       "      <td>961</td>\n",
       "      <td>150</td>\n",
       "      <td>23</td>\n",
       "      <td>20.910054</td>\n",
       "      <td>111</td>\n",
       "      <td>9</td>\n",
       "      <td>11.330109</td>\n",
       "    </tr>\n",
       "    <tr>\n",
       "      <th>1</th>\n",
       "      <td>4-4-2</td>\n",
       "      <td>36</td>\n",
       "      <td>8</td>\n",
       "      <td>2</td>\n",
       "      <td>0.332888</td>\n",
       "      <td>5</td>\n",
       "      <td>0</td>\n",
       "      <td>0.241996</td>\n",
       "    </tr>\n",
       "    <tr>\n",
       "      <th>2</th>\n",
       "      <td>5-3-2</td>\n",
       "      <td>23</td>\n",
       "      <td>1</td>\n",
       "      <td>0</td>\n",
       "      <td>0.068614</td>\n",
       "      <td>12</td>\n",
       "      <td>1</td>\n",
       "      <td>0.755850</td>\n",
       "    </tr>\n",
       "    <tr>\n",
       "      <th>3</th>\n",
       "      <td>4-3-3</td>\n",
       "      <td>13</td>\n",
       "      <td>1</td>\n",
       "      <td>0</td>\n",
       "      <td>0.019133</td>\n",
       "      <td>2</td>\n",
       "      <td>0</td>\n",
       "      <td>0.089886</td>\n",
       "    </tr>\n",
       "  </tbody>\n",
       "</table>\n",
       "</div>"
      ],
      "text/plain": [
       "  Formations  Minutes played on this Formation  Shots Taken  Goals Scored  \\\n",
       "0    4-2-3-1                               961          150            23   \n",
       "1      4-4-2                                36            8             2   \n",
       "2      5-3-2                                23            1             0   \n",
       "3      4-3-3                                13            1             0   \n",
       "\n",
       "          xG  Shots Against  Goals Against  xG Against  \n",
       "0  20.910054            111              9   11.330109  \n",
       "1   0.332888              5              0    0.241996  \n",
       "2   0.068614             12              1    0.755850  \n",
       "3   0.019133              2              0    0.089886  "
      ]
     },
     "execution_count": 33,
     "metadata": {},
     "output_type": "execute_result"
    }
   ],
   "source": [
    "Formations_df"
   ]
  },
  {
   "cell_type": "code",
   "execution_count": null,
   "metadata": {},
   "outputs": [],
   "source": []
  },
  {
   "cell_type": "code",
   "execution_count": 34,
   "metadata": {},
   "outputs": [],
   "source": [
    "Timings = l2[3][1]"
   ]
  },
  {
   "cell_type": "code",
   "execution_count": 35,
   "metadata": {},
   "outputs": [
    {
     "data": {
      "text/plain": [
       "dict_keys(['1-15', '16-30', '31-45', '46-60', '61-75', '76+'])"
      ]
     },
     "execution_count": 35,
     "metadata": {},
     "output_type": "execute_result"
    }
   ],
   "source": [
    "Timings.keys()"
   ]
  },
  {
   "cell_type": "code",
   "execution_count": 36,
   "metadata": {},
   "outputs": [
    {
     "data": {
      "text/plain": [
       "['1-15', '16-30', '31-45', '46-60', '61-75', '76+']"
      ]
     },
     "execution_count": 36,
     "metadata": {},
     "output_type": "execute_result"
    }
   ],
   "source": [
    "Timings_period=[]\n",
    "for tim in Timings.keys():\n",
    "    Timings_period.append(tim)\n",
    "Timings_period"
   ]
  },
  {
   "cell_type": "code",
   "execution_count": 37,
   "metadata": {},
   "outputs": [
    {
     "data": {
      "text/plain": [
       "{'1-15': {'stat': '1-15',\n",
       "  'shots': 26,\n",
       "  'goals': 5,\n",
       "  'xG': 4.312740839086473,\n",
       "  'against': {'shots': 21, 'goals': 3, 'xG': 2.189859215170145}},\n",
       " '16-30': {'stat': '16-30',\n",
       "  'shots': 33,\n",
       "  'goals': 3,\n",
       "  'xG': 3.012343615293503,\n",
       "  'against': {'shots': 18, 'goals': 1, 'xG': 1.8470266060903668}},\n",
       " '31-45': {'stat': '31-45',\n",
       "  'shots': 26,\n",
       "  'goals': 4,\n",
       "  'xG': 2.994414216838777,\n",
       "  'against': {'shots': 13, 'goals': 0, 'xG': 0.7675056206062436}},\n",
       " '46-60': {'stat': '46-60',\n",
       "  'shots': 31,\n",
       "  'goals': 3,\n",
       "  'xG': 4.122849275358021,\n",
       "  'against': {'shots': 19, 'goals': 2, 'xG': 2.621303687337786}},\n",
       " '61-75': {'stat': '61-75',\n",
       "  'shots': 19,\n",
       "  'goals': 4,\n",
       "  'xG': 3.4982570772990584,\n",
       "  'against': {'shots': 14, 'goals': 0, 'xG': 0.5985536319203675}},\n",
       " '76+': {'stat': '76+',\n",
       "  'shots': 25,\n",
       "  'goals': 6,\n",
       "  'xG': 3.3900832142680883,\n",
       "  'against': {'shots': 45, 'goals': 4, 'xG': 4.393591650761664}}}"
      ]
     },
     "execution_count": 37,
     "metadata": {},
     "output_type": "execute_result"
    }
   ],
   "source": [
    "Timings"
   ]
  },
  {
   "cell_type": "code",
   "execution_count": 38,
   "metadata": {},
   "outputs": [
    {
     "data": {
      "text/plain": [
       "([120, 15, 13, 8, 4],\n",
       " [17, 3, 0, 2, 3],\n",
       " [14.272164053283632,\n",
       "  2.3112757755443454,\n",
       "  1.1937836427241564,\n",
       "  0.5082694254815578,\n",
       "  3.0451953411102295])"
      ]
     },
     "execution_count": 38,
     "metadata": {},
     "output_type": "execute_result"
    }
   ],
   "source": [
    "Shots,Goals,xG"
   ]
  },
  {
   "cell_type": "code",
   "execution_count": 39,
   "metadata": {},
   "outputs": [],
   "source": [
    "Shots=[]\n",
    "Goals=[]\n",
    "xG=[]\n",
    "Shots_Against=[]\n",
    "Goals_Against=[]\n",
    "xG_Against=[]\n",
    "for index in Timings.values():\n",
    "    for key,val in index.items():\n",
    "        if key=='shots':\n",
    "            Shots.append(val)\n",
    "        if key=='goals':\n",
    "            Goals.append(val)\n",
    "        if key=='xG':\n",
    "            xG.append(val)\n",
    "        if key=='against':\n",
    "            for j,k in val.items():\n",
    "                if j=='shots':\n",
    "                    Shots_Against.append(k)\n",
    "                if j=='goals':\n",
    "                    Goals_Against.append(k)\n",
    "                if j=='xG':\n",
    "                    xG_Against.append(k)"
   ]
  },
  {
   "cell_type": "code",
   "execution_count": 40,
   "metadata": {},
   "outputs": [],
   "source": [
    "col_names = ['Timings Period','Shots Taken','Goals Scored','xG','Shots Against','Goals Against','xG Against']\n",
    "df = pd.DataFrame([Timings_period,Shots,Goals,xG,Shots_Against,Goals_Against,xG_Against],index=col_names)\n",
    "df = df.T"
   ]
  },
  {
   "cell_type": "code",
   "execution_count": 41,
   "metadata": {},
   "outputs": [],
   "source": [
    "Timings_df=df.apply(pd.to_numeric, errors=\"ignore\")"
   ]
  },
  {
   "cell_type": "code",
   "execution_count": 42,
   "metadata": {},
   "outputs": [
    {
     "data": {
      "text/html": [
       "<div>\n",
       "<style scoped>\n",
       "    .dataframe tbody tr th:only-of-type {\n",
       "        vertical-align: middle;\n",
       "    }\n",
       "\n",
       "    .dataframe tbody tr th {\n",
       "        vertical-align: top;\n",
       "    }\n",
       "\n",
       "    .dataframe thead th {\n",
       "        text-align: right;\n",
       "    }\n",
       "</style>\n",
       "<table border=\"1\" class=\"dataframe\">\n",
       "  <thead>\n",
       "    <tr style=\"text-align: right;\">\n",
       "      <th></th>\n",
       "      <th>Timings Period</th>\n",
       "      <th>Shots Taken</th>\n",
       "      <th>Goals Scored</th>\n",
       "      <th>xG</th>\n",
       "      <th>Shots Against</th>\n",
       "      <th>Goals Against</th>\n",
       "      <th>xG Against</th>\n",
       "    </tr>\n",
       "  </thead>\n",
       "  <tbody>\n",
       "    <tr>\n",
       "      <th>0</th>\n",
       "      <td>1-15</td>\n",
       "      <td>26</td>\n",
       "      <td>5</td>\n",
       "      <td>4.312741</td>\n",
       "      <td>21</td>\n",
       "      <td>3</td>\n",
       "      <td>2.189859</td>\n",
       "    </tr>\n",
       "    <tr>\n",
       "      <th>1</th>\n",
       "      <td>16-30</td>\n",
       "      <td>33</td>\n",
       "      <td>3</td>\n",
       "      <td>3.012344</td>\n",
       "      <td>18</td>\n",
       "      <td>1</td>\n",
       "      <td>1.847027</td>\n",
       "    </tr>\n",
       "    <tr>\n",
       "      <th>2</th>\n",
       "      <td>31-45</td>\n",
       "      <td>26</td>\n",
       "      <td>4</td>\n",
       "      <td>2.994414</td>\n",
       "      <td>13</td>\n",
       "      <td>0</td>\n",
       "      <td>0.767506</td>\n",
       "    </tr>\n",
       "    <tr>\n",
       "      <th>3</th>\n",
       "      <td>46-60</td>\n",
       "      <td>31</td>\n",
       "      <td>3</td>\n",
       "      <td>4.122849</td>\n",
       "      <td>19</td>\n",
       "      <td>2</td>\n",
       "      <td>2.621304</td>\n",
       "    </tr>\n",
       "    <tr>\n",
       "      <th>4</th>\n",
       "      <td>61-75</td>\n",
       "      <td>19</td>\n",
       "      <td>4</td>\n",
       "      <td>3.498257</td>\n",
       "      <td>14</td>\n",
       "      <td>0</td>\n",
       "      <td>0.598554</td>\n",
       "    </tr>\n",
       "    <tr>\n",
       "      <th>5</th>\n",
       "      <td>76+</td>\n",
       "      <td>25</td>\n",
       "      <td>6</td>\n",
       "      <td>3.390083</td>\n",
       "      <td>45</td>\n",
       "      <td>4</td>\n",
       "      <td>4.393592</td>\n",
       "    </tr>\n",
       "  </tbody>\n",
       "</table>\n",
       "</div>"
      ],
      "text/plain": [
       "  Timings Period  Shots Taken  Goals Scored        xG  Shots Against  \\\n",
       "0           1-15           26             5  4.312741             21   \n",
       "1          16-30           33             3  3.012344             18   \n",
       "2          31-45           26             4  2.994414             13   \n",
       "3          46-60           31             3  4.122849             19   \n",
       "4          61-75           19             4  3.498257             14   \n",
       "5            76+           25             6  3.390083             45   \n",
       "\n",
       "   Goals Against  xG Against  \n",
       "0              3    2.189859  \n",
       "1              1    1.847027  \n",
       "2              0    0.767506  \n",
       "3              2    2.621304  \n",
       "4              0    0.598554  \n",
       "5              4    4.393592  "
      ]
     },
     "execution_count": 42,
     "metadata": {},
     "output_type": "execute_result"
    }
   ],
   "source": [
    "Timings_df"
   ]
  },
  {
   "cell_type": "code",
   "execution_count": 43,
   "metadata": {},
   "outputs": [
    {
     "data": {
      "text/html": [
       "<div>\n",
       "<style scoped>\n",
       "    .dataframe tbody tr th:only-of-type {\n",
       "        vertical-align: middle;\n",
       "    }\n",
       "\n",
       "    .dataframe tbody tr th {\n",
       "        vertical-align: top;\n",
       "    }\n",
       "\n",
       "    .dataframe thead th {\n",
       "        text-align: right;\n",
       "    }\n",
       "</style>\n",
       "<table border=\"1\" class=\"dataframe\">\n",
       "  <thead>\n",
       "    <tr style=\"text-align: right;\">\n",
       "      <th></th>\n",
       "      <th>Formations</th>\n",
       "      <th>Minutes played on this Formation</th>\n",
       "      <th>Shots Taken</th>\n",
       "      <th>Goals Scored</th>\n",
       "      <th>xG</th>\n",
       "      <th>Shots Against</th>\n",
       "      <th>Goals Against</th>\n",
       "      <th>xG Against</th>\n",
       "    </tr>\n",
       "  </thead>\n",
       "  <tbody>\n",
       "    <tr>\n",
       "      <th>0</th>\n",
       "      <td>4-2-3-1</td>\n",
       "      <td>961</td>\n",
       "      <td>150</td>\n",
       "      <td>23</td>\n",
       "      <td>20.910054</td>\n",
       "      <td>111</td>\n",
       "      <td>9</td>\n",
       "      <td>11.330109</td>\n",
       "    </tr>\n",
       "    <tr>\n",
       "      <th>1</th>\n",
       "      <td>4-4-2</td>\n",
       "      <td>36</td>\n",
       "      <td>8</td>\n",
       "      <td>2</td>\n",
       "      <td>0.332888</td>\n",
       "      <td>5</td>\n",
       "      <td>0</td>\n",
       "      <td>0.241996</td>\n",
       "    </tr>\n",
       "    <tr>\n",
       "      <th>2</th>\n",
       "      <td>5-3-2</td>\n",
       "      <td>23</td>\n",
       "      <td>1</td>\n",
       "      <td>0</td>\n",
       "      <td>0.068614</td>\n",
       "      <td>12</td>\n",
       "      <td>1</td>\n",
       "      <td>0.755850</td>\n",
       "    </tr>\n",
       "    <tr>\n",
       "      <th>3</th>\n",
       "      <td>4-3-3</td>\n",
       "      <td>13</td>\n",
       "      <td>1</td>\n",
       "      <td>0</td>\n",
       "      <td>0.019133</td>\n",
       "      <td>2</td>\n",
       "      <td>0</td>\n",
       "      <td>0.089886</td>\n",
       "    </tr>\n",
       "  </tbody>\n",
       "</table>\n",
       "</div>"
      ],
      "text/plain": [
       "  Formations  Minutes played on this Formation  Shots Taken  Goals Scored  \\\n",
       "0    4-2-3-1                               961          150            23   \n",
       "1      4-4-2                                36            8             2   \n",
       "2      5-3-2                                23            1             0   \n",
       "3      4-3-3                                13            1             0   \n",
       "\n",
       "          xG  Shots Against  Goals Against  xG Against  \n",
       "0  20.910054            111              9   11.330109  \n",
       "1   0.332888              5              0    0.241996  \n",
       "2   0.068614             12              1    0.755850  \n",
       "3   0.019133              2              0    0.089886  "
      ]
     },
     "execution_count": 43,
     "metadata": {},
     "output_type": "execute_result"
    }
   ],
   "source": [
    "Formations_df"
   ]
  },
  {
   "cell_type": "code",
   "execution_count": 44,
   "metadata": {},
   "outputs": [
    {
     "data": {
      "text/html": [
       "<div>\n",
       "<style scoped>\n",
       "    .dataframe tbody tr th:only-of-type {\n",
       "        vertical-align: middle;\n",
       "    }\n",
       "\n",
       "    .dataframe tbody tr th {\n",
       "        vertical-align: top;\n",
       "    }\n",
       "\n",
       "    .dataframe thead th {\n",
       "        text-align: right;\n",
       "    }\n",
       "</style>\n",
       "<table border=\"1\" class=\"dataframe\">\n",
       "  <thead>\n",
       "    <tr style=\"text-align: right;\">\n",
       "      <th></th>\n",
       "      <th>Situations</th>\n",
       "      <th>Shots Taken</th>\n",
       "      <th>Goals Scored</th>\n",
       "      <th>xG</th>\n",
       "      <th>Shots Against</th>\n",
       "      <th>Goals Against</th>\n",
       "      <th>xG Against</th>\n",
       "    </tr>\n",
       "  </thead>\n",
       "  <tbody>\n",
       "    <tr>\n",
       "      <th>0</th>\n",
       "      <td>OpenPlay</td>\n",
       "      <td>120</td>\n",
       "      <td>17</td>\n",
       "      <td>14.272164</td>\n",
       "      <td>86</td>\n",
       "      <td>7</td>\n",
       "      <td>7.161959</td>\n",
       "    </tr>\n",
       "    <tr>\n",
       "      <th>1</th>\n",
       "      <td>FromCorner</td>\n",
       "      <td>15</td>\n",
       "      <td>3</td>\n",
       "      <td>2.311276</td>\n",
       "      <td>30</td>\n",
       "      <td>1</td>\n",
       "      <td>2.972389</td>\n",
       "    </tr>\n",
       "    <tr>\n",
       "      <th>2</th>\n",
       "      <td>SetPiece</td>\n",
       "      <td>13</td>\n",
       "      <td>0</td>\n",
       "      <td>1.193784</td>\n",
       "      <td>6</td>\n",
       "      <td>0</td>\n",
       "      <td>0.480600</td>\n",
       "    </tr>\n",
       "    <tr>\n",
       "      <th>3</th>\n",
       "      <td>DirectFreekick</td>\n",
       "      <td>8</td>\n",
       "      <td>2</td>\n",
       "      <td>0.508269</td>\n",
       "      <td>6</td>\n",
       "      <td>0</td>\n",
       "      <td>0.280295</td>\n",
       "    </tr>\n",
       "    <tr>\n",
       "      <th>4</th>\n",
       "      <td>Penalty</td>\n",
       "      <td>4</td>\n",
       "      <td>3</td>\n",
       "      <td>3.045195</td>\n",
       "      <td>2</td>\n",
       "      <td>2</td>\n",
       "      <td>1.522598</td>\n",
       "    </tr>\n",
       "  </tbody>\n",
       "</table>\n",
       "</div>"
      ],
      "text/plain": [
       "       Situations  Shots Taken  Goals Scored         xG  Shots Against  \\\n",
       "0        OpenPlay          120            17  14.272164             86   \n",
       "1      FromCorner           15             3   2.311276             30   \n",
       "2        SetPiece           13             0   1.193784              6   \n",
       "3  DirectFreekick            8             2   0.508269              6   \n",
       "4         Penalty            4             3   3.045195              2   \n",
       "\n",
       "   Goals Against  xG Against  \n",
       "0              7    7.161959  \n",
       "1              1    2.972389  \n",
       "2              0    0.480600  \n",
       "3              0    0.280295  \n",
       "4              2    1.522598  "
      ]
     },
     "execution_count": 44,
     "metadata": {},
     "output_type": "execute_result"
    }
   ],
   "source": [
    "Situations_df"
   ]
  },
  {
   "cell_type": "markdown",
   "metadata": {},
   "source": [
    "# Performance of AC MILAN on different situations."
   ]
  },
  {
   "cell_type": "code",
   "execution_count": 146,
   "metadata": {},
   "outputs": [
    {
     "data": {
      "image/png": "[encoded data removed]",
      "text/plain": [
       "<Figure size 1152x864 with 6 Axes>"
      ]
     },
     "metadata": {
      "needs_background": "light"
     },
     "output_type": "display_data"
    }
   ],
   "source": [
    "plt.figure(figsize=(16,12))\n",
    "\n",
    "plt.subplot(3, 2, 1)\n",
    "sns.barplot(x=Situations_df['Situations'],y=Situations_df['Shots Taken'],data=Situations_df,palette='rocket')\n",
    "plt.title('No. of Shots taken by Milan on different situations')\n",
    "\n",
    "plt.subplot(3,2,2)\n",
    "sns.barplot(x='Situations',y='Shots Against',data=Situations_df,palette='rocket')\n",
    "plt.title('No. of Shots Taken against Milan on different situations')\n",
    "\n",
    "plt.subplot(3,2,3)\n",
    "sns.barplot(x='Situations',y='Goals Scored',data=Situations_df,palette='magma')\n",
    "plt.title('Goals Scored by Milan on different situations')\n",
    "\n",
    "plt.subplot(3,2,4)\n",
    "sns.barplot(x='Situations',y='Goals Against',data=Situations_df,palette='magma')\n",
    "plt.title('Goals Scored against Milan on different situations')\n",
    "\n",
    "plt.subplot(3,2,5)\n",
    "sns.barplot(x='Situations',y='xG',data=Situations_df,palette='cubehelix')\n",
    "plt.title('Expected Goals from Milan on different situations')\n",
    "\n",
    "plt.subplot(3,2,6)\n",
    "sns.barplot(x='Situations',y='xG Against',data=Situations_df,palette='cubehelix')\n",
    "plt.title('Expected Goals against Milan on different situations')\n",
    "\n",
    "\n",
    "plt.tight_layout(3)\n",
    "\n",
    "plt.savefig('Situations.png')\n",
    "plt.show()\n",
    "\n"
   ]
  },
  {
   "cell_type": "code",
   "execution_count": 45,
   "metadata": {},
   "outputs": [],
   "source": [
    "import matplotlib.pyplot as plt\n",
    "import seaborn as sns\n",
    "import numpy as np"
   ]
  },
  {
   "cell_type": "markdown",
   "metadata": {},
   "source": [
    "# How Milan is performing so much well"
   ]
  },
  {
   "cell_type": "code",
   "execution_count": null,
   "metadata": {},
   "outputs": [],
   "source": []
  },
  {
   "cell_type": "code",
   "execution_count": 135,
   "metadata": {},
   "outputs": [
    {
     "data": {
      "image/png": "[encoded data removed]",
      "text/plain": [
       "<Figure size 1152x864 with 6 Axes>"
      ]
     },
     "metadata": {
      "needs_background": "light"
     },
     "output_type": "display_data"
    }
   ],
   "source": [
    "plt.figure(figsize=(16,12))\n",
    "\n",
    "plt.subplot(3, 2, 1)\n",
    "sns.pointplot(x='Timings Period',y='Shots Taken',data=Timings_df)\n",
    "plt.title('No.of Shots attempted by Milan on separate intervals')\n",
    "\n",
    "plt.subplot(3,2,3)\n",
    "sns.pointplot(x=Timings_df['Timings Period'],y=Timings_df['Goals Scored'],data=Timings_df)\n",
    "plt.title('No. of goals scored by Milan on separate intervals')\n",
    "\n",
    "plt.subplot(3,2,5)\n",
    "sns.pointplot(x='Timings Period',y='xG',data=Timings_df)\n",
    "plt.title('Expected Goals from Milan on separate intervals')\n",
    "\n",
    "plt.subplot(3,2,2)\n",
    "sns.pointplot(x='Timings Period',y='Shots Against',data=Timings_df)\n",
    "plt.title('No. of Shots attempted against Milan on separate intervals')\n",
    "\n",
    "plt.subplot(3,2,4)\n",
    "sns.pointplot(x='Timings Period',y='Goals Against',data=Timings_df)\n",
    "plt.title('No. of goals scored against Milan on separate intervals')\n",
    "\n",
    "plt.subplot(3,2,6)\n",
    "sns.pointplot(x='Timings Period',y='xG Against',data=Timings_df)\n",
    "plt.title('Expected Goals against Milan on separate intervals')\n",
    "\n",
    "plt.tight_layout(3)\n",
    "plt.savefig('Time Period.png')"
   ]
  },
  {
   "cell_type": "code",
   "execution_count": null,
   "metadata": {},
   "outputs": [],
   "source": []
  },
  {
   "cell_type": "code",
   "execution_count": null,
   "metadata": {},
   "outputs": [],
   "source": []
  },
  {
   "cell_type": "code",
   "execution_count": null,
   "metadata": {},
   "outputs": [],
   "source": []
  },
  {
   "cell_type": "code",
   "execution_count": null,
   "metadata": {},
   "outputs": [],
   "source": []
  },
  {
   "cell_type": "code",
   "execution_count": null,
   "metadata": {},
   "outputs": [],
   "source": []
  },
  {
   "cell_type": "code",
   "execution_count": null,
   "metadata": {},
   "outputs": [],
   "source": []
  },
  {
   "cell_type": "code",
   "execution_count": null,
   "metadata": {},
   "outputs": [],
   "source": []
  }
 ],
 "metadata": {
  "kernelspec": {
   "display_name": "Python 3",
   "language": "python",
   "name": "python3"
  },
  "language_info": {
   "codemirror_mode": {
    "name": "ipython",
    "version": 3
   },
   "file_extension": ".py",
   "mimetype": "text/x-python",
   "name": "python",
   "nbconvert_exporter": "python",
   "pygments_lexer": "ipython3",
   "version": "3.8.3"
  }
 },
 "nbformat": 4,
 "nbformat_minor": 4
}
